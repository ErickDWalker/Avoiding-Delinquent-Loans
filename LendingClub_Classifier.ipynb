{
 "cells": [
  {
   "cell_type": "code",
   "execution_count": 1,
   "metadata": {},
   "outputs": [],
   "source": [
    "import pandas as pd\n",
    "pd.options.mode.chained_assignment = None\n",
    "import numpy as np\n",
    "import math\n",
    "import glob\n",
    "\n",
    "import matplotlib.pyplot as plt\n",
    "import seaborn as sns\n",
    "\n",
    "from datetime import datetime\n",
    "from dateutil.relativedelta import relativedelta\n",
    "import pickle\n",
    "\n",
    "from sklearn.preprocessing import StandardScaler\n",
    "from sklearn.model_selection import train_test_split\n",
    "from sklearn.linear_model import LogisticRegression\n",
    "from sklearn.ensemble import RandomForestClassifier\n",
    "from sklearn.naive_bayes import GaussianNB\n",
    "from sklearn.svm import SVC\n",
    "\n",
    "from sklearn.metrics import accuracy_score, roc_curve, roc_auc_score, precision_score, recall_score, fbeta_score\n",
    "from sklearn.metrics import make_scorer\n",
    "from sklearn.metrics import confusion_matrix\n",
    "from sklearn.metrics import plot_precision_recall_curve\n",
    "\n",
    "from sklearn.model_selection import GridSearchCV\n",
    "from sklearn.model_selection import RandomizedSearchCV\n",
    "\n",
    "from vaderSentiment.vaderSentiment import SentimentIntensityAnalyzer\n",
    "%matplotlib inline"
   ]
  },
  {
   "cell_type": "code",
   "execution_count": 2,
   "metadata": {},
   "outputs": [],
   "source": [
    "directory = \"/Users/erickwalker/Documents/Data_Science/Metis/Class_Projects/Project3_Classification/\""
   ]
  },
  {
   "cell_type": "markdown",
   "metadata": {},
   "source": [
    "### Aggregate files into one DataFrame, and Pickle df"
   ]
  },
  {
   "cell_type": "code",
   "execution_count": 2,
   "metadata": {},
   "outputs": [],
   "source": [
    "# If not using pickle file, run this code to combine all LendingClub files into one DataFrame. \n",
    "# Last two rows in each file contain extraneous info --> skipfooter = 2\n",
    "path = \"/Users/erickwalker/Documents/Data_Science/Metis/Class_Projects/Project3_Classification/LendingClub Data/Loan-level data\"\n",
    "files = glob.glob(path + \"/*.csv\")\n",
    "all_data_df = pd.concat((pd.read_csv(file, engine=\"python\", header=1, skipfooter=2) for file in files), \n",
    "                        ignore_index=True)"
   ]
  },
  {
   "cell_type": "code",
   "execution_count": 3,
   "metadata": {},
   "outputs": [
    {
     "data": {
      "text/html": [
       "<div>\n",
       "<style scoped>\n",
       "    .dataframe tbody tr th:only-of-type {\n",
       "        vertical-align: middle;\n",
       "    }\n",
       "\n",
       "    .dataframe tbody tr th {\n",
       "        vertical-align: top;\n",
       "    }\n",
       "\n",
       "    .dataframe thead th {\n",
       "        text-align: right;\n",
       "    }\n",
       "</style>\n",
       "<table border=\"1\" class=\"dataframe\">\n",
       "  <thead>\n",
       "    <tr style=\"text-align: right;\">\n",
       "      <th></th>\n",
       "      <th>id</th>\n",
       "      <th>member_id</th>\n",
       "      <th>loan_amnt</th>\n",
       "      <th>funded_amnt</th>\n",
       "      <th>funded_amnt_inv</th>\n",
       "      <th>term</th>\n",
       "      <th>int_rate</th>\n",
       "      <th>installment</th>\n",
       "      <th>grade</th>\n",
       "      <th>sub_grade</th>\n",
       "      <th>...</th>\n",
       "      <th>orig_projected_additional_accrued_interest</th>\n",
       "      <th>hardship_payoff_balance_amount</th>\n",
       "      <th>hardship_last_payment_amount</th>\n",
       "      <th>debt_settlement_flag</th>\n",
       "      <th>debt_settlement_flag_date</th>\n",
       "      <th>settlement_status</th>\n",
       "      <th>settlement_date</th>\n",
       "      <th>settlement_amount</th>\n",
       "      <th>settlement_percentage</th>\n",
       "      <th>settlement_term</th>\n",
       "    </tr>\n",
       "  </thead>\n",
       "  <tbody>\n",
       "    <tr>\n",
       "      <th>0</th>\n",
       "      <td>144899438</td>\n",
       "      <td>NaN</td>\n",
       "      <td>35000.0</td>\n",
       "      <td>35000.0</td>\n",
       "      <td>35000.0</td>\n",
       "      <td>36 months</td>\n",
       "      <td>14.47%</td>\n",
       "      <td>1204.23</td>\n",
       "      <td>C</td>\n",
       "      <td>C2</td>\n",
       "      <td>...</td>\n",
       "      <td>NaN</td>\n",
       "      <td>NaN</td>\n",
       "      <td>NaN</td>\n",
       "      <td>N</td>\n",
       "      <td>NaN</td>\n",
       "      <td>NaN</td>\n",
       "      <td>NaN</td>\n",
       "      <td>NaN</td>\n",
       "      <td>NaN</td>\n",
       "      <td>NaN</td>\n",
       "    </tr>\n",
       "    <tr>\n",
       "      <th>1</th>\n",
       "      <td>144943072</td>\n",
       "      <td>NaN</td>\n",
       "      <td>5000.0</td>\n",
       "      <td>5000.0</td>\n",
       "      <td>5000.0</td>\n",
       "      <td>36 months</td>\n",
       "      <td>22.35%</td>\n",
       "      <td>191.86</td>\n",
       "      <td>D</td>\n",
       "      <td>D5</td>\n",
       "      <td>...</td>\n",
       "      <td>NaN</td>\n",
       "      <td>NaN</td>\n",
       "      <td>NaN</td>\n",
       "      <td>N</td>\n",
       "      <td>NaN</td>\n",
       "      <td>NaN</td>\n",
       "      <td>NaN</td>\n",
       "      <td>NaN</td>\n",
       "      <td>NaN</td>\n",
       "      <td>NaN</td>\n",
       "    </tr>\n",
       "    <tr>\n",
       "      <th>2</th>\n",
       "      <td>144974419</td>\n",
       "      <td>NaN</td>\n",
       "      <td>10000.0</td>\n",
       "      <td>10000.0</td>\n",
       "      <td>10000.0</td>\n",
       "      <td>60 months</td>\n",
       "      <td>23.40%</td>\n",
       "      <td>284.21</td>\n",
       "      <td>E</td>\n",
       "      <td>E1</td>\n",
       "      <td>...</td>\n",
       "      <td>NaN</td>\n",
       "      <td>NaN</td>\n",
       "      <td>NaN</td>\n",
       "      <td>N</td>\n",
       "      <td>NaN</td>\n",
       "      <td>NaN</td>\n",
       "      <td>NaN</td>\n",
       "      <td>NaN</td>\n",
       "      <td>NaN</td>\n",
       "      <td>NaN</td>\n",
       "    </tr>\n",
       "    <tr>\n",
       "      <th>3</th>\n",
       "      <td>145055546</td>\n",
       "      <td>NaN</td>\n",
       "      <td>17100.0</td>\n",
       "      <td>17100.0</td>\n",
       "      <td>17100.0</td>\n",
       "      <td>36 months</td>\n",
       "      <td>18.94%</td>\n",
       "      <td>626.30</td>\n",
       "      <td>D</td>\n",
       "      <td>D2</td>\n",
       "      <td>...</td>\n",
       "      <td>NaN</td>\n",
       "      <td>NaN</td>\n",
       "      <td>NaN</td>\n",
       "      <td>N</td>\n",
       "      <td>NaN</td>\n",
       "      <td>NaN</td>\n",
       "      <td>NaN</td>\n",
       "      <td>NaN</td>\n",
       "      <td>NaN</td>\n",
       "      <td>NaN</td>\n",
       "    </tr>\n",
       "    <tr>\n",
       "      <th>4</th>\n",
       "      <td>145375687</td>\n",
       "      <td>NaN</td>\n",
       "      <td>4000.0</td>\n",
       "      <td>4000.0</td>\n",
       "      <td>4000.0</td>\n",
       "      <td>36 months</td>\n",
       "      <td>10.72%</td>\n",
       "      <td>130.43</td>\n",
       "      <td>B</td>\n",
       "      <td>B2</td>\n",
       "      <td>...</td>\n",
       "      <td>NaN</td>\n",
       "      <td>NaN</td>\n",
       "      <td>NaN</td>\n",
       "      <td>N</td>\n",
       "      <td>NaN</td>\n",
       "      <td>NaN</td>\n",
       "      <td>NaN</td>\n",
       "      <td>NaN</td>\n",
       "      <td>NaN</td>\n",
       "      <td>NaN</td>\n",
       "    </tr>\n",
       "  </tbody>\n",
       "</table>\n",
       "<p>5 rows × 150 columns</p>\n",
       "</div>"
      ],
      "text/plain": [
       "          id  member_id  loan_amnt  funded_amnt  funded_amnt_inv        term  \\\n",
       "0  144899438        NaN    35000.0      35000.0          35000.0   36 months   \n",
       "1  144943072        NaN     5000.0       5000.0           5000.0   36 months   \n",
       "2  144974419        NaN    10000.0      10000.0          10000.0   60 months   \n",
       "3  145055546        NaN    17100.0      17100.0          17100.0   36 months   \n",
       "4  145375687        NaN     4000.0       4000.0           4000.0   36 months   \n",
       "\n",
       "  int_rate  installment grade sub_grade  ...  \\\n",
       "0   14.47%      1204.23     C        C2  ...   \n",
       "1   22.35%       191.86     D        D5  ...   \n",
       "2   23.40%       284.21     E        E1  ...   \n",
       "3   18.94%       626.30     D        D2  ...   \n",
       "4   10.72%       130.43     B        B2  ...   \n",
       "\n",
       "  orig_projected_additional_accrued_interest hardship_payoff_balance_amount  \\\n",
       "0                                        NaN                            NaN   \n",
       "1                                        NaN                            NaN   \n",
       "2                                        NaN                            NaN   \n",
       "3                                        NaN                            NaN   \n",
       "4                                        NaN                            NaN   \n",
       "\n",
       "  hardship_last_payment_amount  debt_settlement_flag  \\\n",
       "0                          NaN                     N   \n",
       "1                          NaN                     N   \n",
       "2                          NaN                     N   \n",
       "3                          NaN                     N   \n",
       "4                          NaN                     N   \n",
       "\n",
       "  debt_settlement_flag_date settlement_status settlement_date  \\\n",
       "0                       NaN               NaN             NaN   \n",
       "1                       NaN               NaN             NaN   \n",
       "2                       NaN               NaN             NaN   \n",
       "3                       NaN               NaN             NaN   \n",
       "4                       NaN               NaN             NaN   \n",
       "\n",
       "  settlement_amount settlement_percentage settlement_term  \n",
       "0               NaN                   NaN             NaN  \n",
       "1               NaN                   NaN             NaN  \n",
       "2               NaN                   NaN             NaN  \n",
       "3               NaN                   NaN             NaN  \n",
       "4               NaN                   NaN             NaN  \n",
       "\n",
       "[5 rows x 150 columns]"
      ]
     },
     "execution_count": 3,
     "metadata": {},
     "output_type": "execute_result"
    }
   ],
   "source": [
    "all_data_df.head()"
   ]
  },
  {
   "cell_type": "code",
   "execution_count": 4,
   "metadata": {},
   "outputs": [],
   "source": [
    "# Drop columns and rows where all values are na. And where loan_status (our target) is unavailable\n",
    "all_data_df = all_data_df[~(all_data_df[\"loan_status\"].isnull() | all_data_df[\"loan_status\"].isna())]\\\n",
    ".dropna(axis=1, how=\"all\").dropna(axis=0, how=\"all\")"
   ]
  },
  {
   "cell_type": "code",
   "execution_count": 8,
   "metadata": {},
   "outputs": [],
   "source": [
    "with open(directory + \"pickle files/LendingClub_all_df.pkl\",\"wb\") as picklefile:\n",
    "    pickle.dump(all_data_df, picklefile)"
   ]
  },
  {
   "cell_type": "markdown",
   "metadata": {},
   "source": [
    "## Some initial EDA"
   ]
  },
  {
   "cell_type": "code",
   "execution_count": 9,
   "metadata": {},
   "outputs": [
    {
     "data": {
      "text/plain": [
       "Fully Paid                                             0.517022\n",
       "Current                                                0.339053\n",
       "Charged Off                                            0.126033\n",
       "Late (31-120 days)                                     0.007293\n",
       "In Grace Period                                        0.007188\n",
       "Late (16-30 days)                                      0.002230\n",
       "Does not meet the credit policy. Status:Fully Paid     0.000715\n",
       "Does not meet the credit policy. Status:Charged Off    0.000274\n",
       "Default                                                0.000191\n",
       "Name: loan_status, dtype: float64"
      ]
     },
     "execution_count": 9,
     "metadata": {},
     "output_type": "execute_result"
    }
   ],
   "source": [
    "# View loan statuses to evaluate classification target\n",
    "all_data_df[\"loan_status\"].value_counts(normalize=True)"
   ]
  },
  {
   "cell_type": "code",
   "execution_count": 10,
   "metadata": {},
   "outputs": [],
   "source": [
    "# Remove wording \"Does not meet the credit policy\" and treat these loans normally\n",
    "all_data_df.loc[all_data_df[\"loan_status\"] == \"Does not meet the credit policy. Status:Charged Off\",\"loan_status\"]\\\n",
    "=\"Charged Off\"\n",
    "\n",
    "all_data_df.loc[all_data_df[\"loan_status\"] == \"Does not meet the credit policy. Status:Fully Paid\",\"loan_status\"]\\\n",
    "=\"Fully Paid\""
   ]
  },
  {
   "cell_type": "code",
   "execution_count": 11,
   "metadata": {},
   "outputs": [
    {
     "data": {
      "image/png": "[encoded data removed]",
      "text/plain": [
       "<Figure size 432x288 with 1 Axes>"
      ]
     },
     "metadata": {
      "needs_background": "light"
     },
     "output_type": "display_data"
    }
   ],
   "source": [
    "plt.bar(all_data_df[\"purpose\"].value_counts().index,all_data_df[\"purpose\"].value_counts()[0:])\n",
    "plt.title(\"Loan Purpose Frequency\", weight=\"bold\")\n",
    "plt.xticks(rotation=90);"
   ]
  },
  {
   "cell_type": "code",
   "execution_count": 12,
   "metadata": {},
   "outputs": [
    {
     "data": {
      "text/html": [
       "<div>\n",
       "<style scoped>\n",
       "    .dataframe tbody tr th:only-of-type {\n",
       "        vertical-align: middle;\n",
       "    }\n",
       "\n",
       "    .dataframe tbody tr th {\n",
       "        vertical-align: top;\n",
       "    }\n",
       "\n",
       "    .dataframe thead th {\n",
       "        text-align: right;\n",
       "    }\n",
       "</style>\n",
       "<table border=\"1\" class=\"dataframe\">\n",
       "  <thead>\n",
       "    <tr style=\"text-align: right;\">\n",
       "      <th></th>\n",
       "      <th>out_prncp</th>\n",
       "      <th>out_prncp_inv</th>\n",
       "    </tr>\n",
       "  </thead>\n",
       "  <tbody>\n",
       "    <tr>\n",
       "      <th>19</th>\n",
       "      <td>12193.47</td>\n",
       "      <td>12173.15</td>\n",
       "    </tr>\n",
       "    <tr>\n",
       "      <th>139</th>\n",
       "      <td>4691.84</td>\n",
       "      <td>4676.20</td>\n",
       "    </tr>\n",
       "    <tr>\n",
       "      <th>146</th>\n",
       "      <td>506.31</td>\n",
       "      <td>493.65</td>\n",
       "    </tr>\n",
       "    <tr>\n",
       "      <th>200</th>\n",
       "      <td>3803.30</td>\n",
       "      <td>3787.45</td>\n",
       "    </tr>\n",
       "    <tr>\n",
       "      <th>206</th>\n",
       "      <td>1865.38</td>\n",
       "      <td>1849.83</td>\n",
       "    </tr>\n",
       "    <tr>\n",
       "      <th>219</th>\n",
       "      <td>5459.96</td>\n",
       "      <td>5444.79</td>\n",
       "    </tr>\n",
       "    <tr>\n",
       "      <th>278</th>\n",
       "      <td>2325.29</td>\n",
       "      <td>2313.66</td>\n",
       "    </tr>\n",
       "    <tr>\n",
       "      <th>302</th>\n",
       "      <td>1918.71</td>\n",
       "      <td>1902.73</td>\n",
       "    </tr>\n",
       "    <tr>\n",
       "      <th>349</th>\n",
       "      <td>1838.39</td>\n",
       "      <td>1823.07</td>\n",
       "    </tr>\n",
       "    <tr>\n",
       "      <th>359</th>\n",
       "      <td>984.03</td>\n",
       "      <td>968.66</td>\n",
       "    </tr>\n",
       "  </tbody>\n",
       "</table>\n",
       "</div>"
      ],
      "text/plain": [
       "     out_prncp  out_prncp_inv\n",
       "19    12193.47       12173.15\n",
       "139    4691.84        4676.20\n",
       "146     506.31         493.65\n",
       "200    3803.30        3787.45\n",
       "206    1865.38        1849.83\n",
       "219    5459.96        5444.79\n",
       "278    2325.29        2313.66\n",
       "302    1918.71        1902.73\n",
       "349    1838.39        1823.07\n",
       "359     984.03         968.66"
      ]
     },
     "execution_count": 12,
     "metadata": {},
     "output_type": "execute_result"
    }
   ],
   "source": [
    "# out_prncp and out_prncp_inv are similar\n",
    "all_data_df[all_data_df[\"out_prncp\"] != all_data_df[\"out_prncp_inv\"]][[\"out_prncp\",\"out_prncp_inv\"]].head(10)"
   ]
  },
  {
   "cell_type": "code",
   "execution_count": 13,
   "metadata": {},
   "outputs": [
    {
     "data": {
      "text/plain": [
       "0.09993817253162467"
      ]
     },
     "execution_count": 13,
     "metadata": {},
     "output_type": "execute_result"
    }
   ],
   "source": [
    "# funded_amnt and funded_amnt_inv are also very similar, total difference accounts for .09% of investor funded amnt\n",
    "(all_data_df[\"funded_amnt\"].sum() - all_data_df[\"funded_amnt_inv\"].sum())/all_data_df[\"funded_amnt_inv\"].sum()*100"
   ]
  },
  {
   "cell_type": "markdown",
   "metadata": {},
   "source": [
    "### Adjust and create new fields\n",
    "* Convert **int_rate** field to float\n",
    "* Create **Compound Annual Growth Rate (CAGR)** field\n",
    "* Convert **issue_d** and **earliest_cr_line** to *date* type and **term** to *int* type\n",
    "* Create **maturity_d** and **term_remaining** columns "
   ]
  },
  {
   "cell_type": "code",
   "execution_count": 14,
   "metadata": {},
   "outputs": [],
   "source": [
    "# Change interest rate to useable float\n",
    "all_data_df[\"int_rate\"] = all_data_df[\"int_rate\"].apply(lambda x: float(x.replace(\"%\",\"\").strip())/100)"
   ]
  },
  {
   "cell_type": "code",
   "execution_count": 15,
   "metadata": {},
   "outputs": [
    {
     "data": {
      "image/png": "[encoded data removed]",
      "text/plain": [
       "<Figure size 432x288 with 1 Axes>"
      ]
     },
     "metadata": {
      "needs_background": "light"
     },
     "output_type": "display_data"
    }
   ],
   "source": [
    "# Look at average interest rates by purpose\n",
    "int_by_purpose = all_data_df.groupby(\"purpose\")[\"int_rate\"].mean().sort_values(ascending=False)\n",
    "plt.bar(int_by_purpose.index,int_by_purpose.values)\n",
    "plt.title(\"Average Interest Rate by Loan Type\", weight=\"bold\")\n",
    "plt.xticks(rotation=90);"
   ]
  },
  {
   "cell_type": "code",
   "execution_count": 16,
   "metadata": {},
   "outputs": [],
   "source": [
    "# Convert \"issue_d\" and \"earliest_cr_line\" to datetime and \"term\" to int.\n",
    "all_data_df[\"issue_d\"] = pd.to_datetime(all_data_df[\"issue_d\"])\n",
    "all_data_df[\"earliest_cr_line\"] = pd.to_datetime(all_data_df[\"earliest_cr_line\"])\n",
    "all_data_df[\"term\"] = all_data_df[\"term\"].str.replace(\"months\",\"\").astype(\"int\")"
   ]
  },
  {
   "cell_type": "code",
   "execution_count": 18,
   "metadata": {},
   "outputs": [
    {
     "data": {
      "text/plain": [
       "(2778775, 149)"
      ]
     },
     "execution_count": 18,
     "metadata": {},
     "output_type": "execute_result"
    }
   ],
   "source": [
    "all_data_df.shape"
   ]
  },
  {
   "cell_type": "code",
   "execution_count": 19,
   "metadata": {},
   "outputs": [
    {
     "data": {
      "text/html": [
       "<div>\n",
       "<style scoped>\n",
       "    .dataframe tbody tr th:only-of-type {\n",
       "        vertical-align: middle;\n",
       "    }\n",
       "\n",
       "    .dataframe tbody tr th {\n",
       "        vertical-align: top;\n",
       "    }\n",
       "\n",
       "    .dataframe thead th {\n",
       "        text-align: right;\n",
       "    }\n",
       "</style>\n",
       "<table border=\"1\" class=\"dataframe\">\n",
       "  <thead>\n",
       "    <tr style=\"text-align: right;\">\n",
       "      <th></th>\n",
       "      <th>total_rec_int</th>\n",
       "      <th>total_rec_late_fee</th>\n",
       "      <th>total_rec_prncp</th>\n",
       "      <th>recoveries</th>\n",
       "      <th>collection_recovery_fee</th>\n",
       "      <th>total_pymnt</th>\n",
       "    </tr>\n",
       "  </thead>\n",
       "  <tbody>\n",
       "    <tr>\n",
       "      <th>620144</th>\n",
       "      <td>2190.11</td>\n",
       "      <td>0.0</td>\n",
       "      <td>18275.00</td>\n",
       "      <td>0.00</td>\n",
       "      <td>0.0000</td>\n",
       "      <td>20465.110006</td>\n",
       "    </tr>\n",
       "    <tr>\n",
       "      <th>687110</th>\n",
       "      <td>641.69</td>\n",
       "      <td>0.0</td>\n",
       "      <td>724.77</td>\n",
       "      <td>1653.62</td>\n",
       "      <td>297.6516</td>\n",
       "      <td>3020.080000</td>\n",
       "    </tr>\n",
       "    <tr>\n",
       "      <th>1782173</th>\n",
       "      <td>3433.00</td>\n",
       "      <td>0.0</td>\n",
       "      <td>5409.39</td>\n",
       "      <td>0.00</td>\n",
       "      <td>0.0000</td>\n",
       "      <td>8842.390000</td>\n",
       "    </tr>\n",
       "    <tr>\n",
       "      <th>1838384</th>\n",
       "      <td>802.02</td>\n",
       "      <td>0.0</td>\n",
       "      <td>1774.75</td>\n",
       "      <td>0.00</td>\n",
       "      <td>0.0000</td>\n",
       "      <td>2576.770000</td>\n",
       "    </tr>\n",
       "    <tr>\n",
       "      <th>678310</th>\n",
       "      <td>2409.25</td>\n",
       "      <td>0.0</td>\n",
       "      <td>16000.00</td>\n",
       "      <td>0.00</td>\n",
       "      <td>0.0000</td>\n",
       "      <td>18409.254832</td>\n",
       "    </tr>\n",
       "    <tr>\n",
       "      <th>510278</th>\n",
       "      <td>978.93</td>\n",
       "      <td>0.0</td>\n",
       "      <td>16000.00</td>\n",
       "      <td>0.00</td>\n",
       "      <td>0.0000</td>\n",
       "      <td>16978.933999</td>\n",
       "    </tr>\n",
       "    <tr>\n",
       "      <th>2582526</th>\n",
       "      <td>1676.62</td>\n",
       "      <td>0.0</td>\n",
       "      <td>12500.00</td>\n",
       "      <td>0.00</td>\n",
       "      <td>0.0000</td>\n",
       "      <td>14176.623856</td>\n",
       "    </tr>\n",
       "    <tr>\n",
       "      <th>594759</th>\n",
       "      <td>9035.39</td>\n",
       "      <td>0.0</td>\n",
       "      <td>14188.47</td>\n",
       "      <td>0.00</td>\n",
       "      <td>0.0000</td>\n",
       "      <td>23223.860000</td>\n",
       "    </tr>\n",
       "    <tr>\n",
       "      <th>2306184</th>\n",
       "      <td>1766.87</td>\n",
       "      <td>0.0</td>\n",
       "      <td>5204.88</td>\n",
       "      <td>1330.51</td>\n",
       "      <td>239.4918</td>\n",
       "      <td>8302.260000</td>\n",
       "    </tr>\n",
       "    <tr>\n",
       "      <th>1187095</th>\n",
       "      <td>8454.32</td>\n",
       "      <td>0.0</td>\n",
       "      <td>6732.03</td>\n",
       "      <td>0.00</td>\n",
       "      <td>0.0000</td>\n",
       "      <td>15186.350000</td>\n",
       "    </tr>\n",
       "  </tbody>\n",
       "</table>\n",
       "</div>"
      ],
      "text/plain": [
       "         total_rec_int  total_rec_late_fee  total_rec_prncp  recoveries  \\\n",
       "620144         2190.11                 0.0         18275.00        0.00   \n",
       "687110          641.69                 0.0           724.77     1653.62   \n",
       "1782173        3433.00                 0.0          5409.39        0.00   \n",
       "1838384         802.02                 0.0          1774.75        0.00   \n",
       "678310         2409.25                 0.0         16000.00        0.00   \n",
       "510278          978.93                 0.0         16000.00        0.00   \n",
       "2582526        1676.62                 0.0         12500.00        0.00   \n",
       "594759         9035.39                 0.0         14188.47        0.00   \n",
       "2306184        1766.87                 0.0          5204.88     1330.51   \n",
       "1187095        8454.32                 0.0          6732.03        0.00   \n",
       "\n",
       "         collection_recovery_fee   total_pymnt  \n",
       "620144                    0.0000  20465.110006  \n",
       "687110                  297.6516   3020.080000  \n",
       "1782173                   0.0000   8842.390000  \n",
       "1838384                   0.0000   2576.770000  \n",
       "678310                    0.0000  18409.254832  \n",
       "510278                    0.0000  16978.933999  \n",
       "2582526                   0.0000  14176.623856  \n",
       "594759                    0.0000  23223.860000  \n",
       "2306184                 239.4918   8302.260000  \n",
       "1187095                   0.0000  15186.350000  "
      ]
     },
     "execution_count": 19,
     "metadata": {},
     "output_type": "execute_result"
    }
   ],
   "source": [
    "# View components of total_pymnt field\n",
    "all_data_df[[\"total_rec_int\",\"total_rec_late_fee\",\"total_rec_prncp\",\"recoveries\",\"collection_recovery_fee\",\n",
    "            \"total_pymnt\"]].sample(10)"
   ]
  },
  {
   "cell_type": "markdown",
   "metadata": {},
   "source": [
    "### Narrow df to only those loans that are Fully Paid, Defaulted, or Charged Off\n",
    "* Also limit data to 2010-2016 time frame"
   ]
  },
  {
   "cell_type": "code",
   "execution_count": 279,
   "metadata": {},
   "outputs": [
    {
     "data": {
      "text/plain": [
       "2010     12537\n",
       "2011     21721\n",
       "2012     53367\n",
       "2013    134814\n",
       "2014    235589\n",
       "2015    397237\n",
       "2016    400834\n",
       "2017    286788\n",
       "2018    179708\n",
       "2019     59313\n",
       "Name: issue_d, dtype: int64"
      ]
     },
     "execution_count": 279,
     "metadata": {},
     "output_type": "execute_result"
    }
   ],
   "source": [
    "final_status_loans_df[\"issue_d\"].dt.year.value_counts().sort_index()"
   ]
  },
  {
   "cell_type": "code",
   "execution_count": 27,
   "metadata": {},
   "outputs": [],
   "source": [
    "final_status_loans_df = all_data_df[(all_data_df[\"issue_d\"].dt.year.isin(range(2010,2017)))&\n",
    "                                    (all_data_df[\"loan_status\"].isin([\"Fully Paid\",\"Default\",\"Charged Off\"]))]"
   ]
  },
  {
   "cell_type": "code",
   "execution_count": 32,
   "metadata": {},
   "outputs": [],
   "source": [
    "# Create CAGR field\n",
    "final_status_loans_df[\"CAGR\"] = (final_status_loans_df[\"total_pymnt\"]/\\\n",
    "                               final_status_loans_df[\"funded_amnt\"])**(1/(final_status_loans_df[\"term\"]/12))-1"
   ]
  },
  {
   "cell_type": "code",
   "execution_count": 33,
   "metadata": {},
   "outputs": [
    {
     "name": "stderr",
     "output_type": "stream",
     "text": [
      "/Users/erickwalker/opt/anaconda3/lib/python3.7/site-packages/pandas/core/arrays/datetimelike.py:1268: PerformanceWarning: Adding/subtracting array of DateOffsets to DatetimeArray not vectorized\n",
      "  PerformanceWarning,\n"
     ]
    }
   ],
   "source": [
    "# Create maturity date field\n",
    "final_status_loans_df[\"maturity_d\"] = final_status_loans_df[\"issue_d\"] + final_status_loans_df[\"term\"].apply(lambda x: relativedelta(months=x))"
   ]
  },
  {
   "cell_type": "code",
   "execution_count": 37,
   "metadata": {},
   "outputs": [],
   "source": [
    "# Create term remaining field\n",
    "final_status_loans_df[\"term_remaining\"] = (final_status_loans_df[\"maturity_d\"] -\\\n",
    "                                           datetime.strptime(\"12-31-2019\",\"%m-%d-%Y\")).dt.days/30"
   ]
  },
  {
   "cell_type": "code",
   "execution_count": 41,
   "metadata": {},
   "outputs": [
    {
     "data": {
      "text/html": [
       "<div>\n",
       "<style scoped>\n",
       "    .dataframe tbody tr th:only-of-type {\n",
       "        vertical-align: middle;\n",
       "    }\n",
       "\n",
       "    .dataframe tbody tr th {\n",
       "        vertical-align: top;\n",
       "    }\n",
       "\n",
       "    .dataframe thead th {\n",
       "        text-align: right;\n",
       "    }\n",
       "</style>\n",
       "<table border=\"1\" class=\"dataframe\">\n",
       "  <thead>\n",
       "    <tr style=\"text-align: right;\">\n",
       "      <th></th>\n",
       "      <th>issue_d</th>\n",
       "      <th>term</th>\n",
       "      <th>maturity_d</th>\n",
       "      <th>term_remaining</th>\n",
       "      <th>loan_status</th>\n",
       "    </tr>\n",
       "  </thead>\n",
       "  <tbody>\n",
       "    <tr>\n",
       "      <th>0</th>\n",
       "      <td>2018-12-01</td>\n",
       "      <td>36</td>\n",
       "      <td>2021-12-01</td>\n",
       "      <td>23.366667</td>\n",
       "      <td>Fully Paid</td>\n",
       "    </tr>\n",
       "    <tr>\n",
       "      <th>1</th>\n",
       "      <td>2018-12-01</td>\n",
       "      <td>36</td>\n",
       "      <td>2021-12-01</td>\n",
       "      <td>23.366667</td>\n",
       "      <td>Fully Paid</td>\n",
       "    </tr>\n",
       "    <tr>\n",
       "      <th>7</th>\n",
       "      <td>2018-12-01</td>\n",
       "      <td>36</td>\n",
       "      <td>2021-12-01</td>\n",
       "      <td>23.366667</td>\n",
       "      <td>Fully Paid</td>\n",
       "    </tr>\n",
       "    <tr>\n",
       "      <th>14</th>\n",
       "      <td>2018-12-01</td>\n",
       "      <td>36</td>\n",
       "      <td>2021-12-01</td>\n",
       "      <td>23.366667</td>\n",
       "      <td>Fully Paid</td>\n",
       "    </tr>\n",
       "    <tr>\n",
       "      <th>17</th>\n",
       "      <td>2018-12-01</td>\n",
       "      <td>60</td>\n",
       "      <td>2023-12-01</td>\n",
       "      <td>47.700000</td>\n",
       "      <td>Fully Paid</td>\n",
       "    </tr>\n",
       "    <tr>\n",
       "      <th>21</th>\n",
       "      <td>2018-12-01</td>\n",
       "      <td>36</td>\n",
       "      <td>2021-12-01</td>\n",
       "      <td>23.366667</td>\n",
       "      <td>Charged Off</td>\n",
       "    </tr>\n",
       "    <tr>\n",
       "      <th>23</th>\n",
       "      <td>2018-12-01</td>\n",
       "      <td>60</td>\n",
       "      <td>2023-12-01</td>\n",
       "      <td>47.700000</td>\n",
       "      <td>Charged Off</td>\n",
       "    </tr>\n",
       "    <tr>\n",
       "      <th>25</th>\n",
       "      <td>2018-12-01</td>\n",
       "      <td>60</td>\n",
       "      <td>2023-12-01</td>\n",
       "      <td>47.700000</td>\n",
       "      <td>Fully Paid</td>\n",
       "    </tr>\n",
       "    <tr>\n",
       "      <th>27</th>\n",
       "      <td>2018-12-01</td>\n",
       "      <td>60</td>\n",
       "      <td>2023-12-01</td>\n",
       "      <td>47.700000</td>\n",
       "      <td>Fully Paid</td>\n",
       "    </tr>\n",
       "    <tr>\n",
       "      <th>29</th>\n",
       "      <td>2018-12-01</td>\n",
       "      <td>36</td>\n",
       "      <td>2021-12-01</td>\n",
       "      <td>23.366667</td>\n",
       "      <td>Fully Paid</td>\n",
       "    </tr>\n",
       "  </tbody>\n",
       "</table>\n",
       "</div>"
      ],
      "text/plain": [
       "      issue_d  term maturity_d  term_remaining  loan_status\n",
       "0  2018-12-01    36 2021-12-01       23.366667   Fully Paid\n",
       "1  2018-12-01    36 2021-12-01       23.366667   Fully Paid\n",
       "7  2018-12-01    36 2021-12-01       23.366667   Fully Paid\n",
       "14 2018-12-01    36 2021-12-01       23.366667   Fully Paid\n",
       "17 2018-12-01    60 2023-12-01       47.700000   Fully Paid\n",
       "21 2018-12-01    36 2021-12-01       23.366667  Charged Off\n",
       "23 2018-12-01    60 2023-12-01       47.700000  Charged Off\n",
       "25 2018-12-01    60 2023-12-01       47.700000   Fully Paid\n",
       "27 2018-12-01    60 2023-12-01       47.700000   Fully Paid\n",
       "29 2018-12-01    36 2021-12-01       23.366667   Fully Paid"
      ]
     },
     "execution_count": 41,
     "metadata": {},
     "output_type": "execute_result"
    }
   ],
   "source": [
    "final_status_loans_df[[\"issue_d\",\"term\",\"maturity_d\",\"term_remaining\",\"loan_status\"]].head(10)"
   ]
  },
  {
   "cell_type": "code",
   "execution_count": 42,
   "metadata": {},
   "outputs": [
    {
     "data": {
      "text/plain": [
       "Fully Paid     1431776\n",
       "Charged Off     349601\n",
       "Default            531\n",
       "Name: loan_status, dtype: int64"
      ]
     },
     "execution_count": 42,
     "metadata": {},
     "output_type": "execute_result"
    }
   ],
   "source": [
    "final_status_loans_df[\"loan_status\"].value_counts()"
   ]
  },
  {
   "cell_type": "code",
   "execution_count": 43,
   "metadata": {},
   "outputs": [
    {
     "data": {
      "text/plain": [
       "issue_d\n",
       "2010    0.140145\n",
       "2011    0.151789\n",
       "2012    0.161973\n",
       "2013    0.155970\n",
       "2014    0.177194\n",
       "2015    0.199863\n",
       "2016    0.195799\n",
       "2017    0.222241\n",
       "2018    0.235777\n",
       "2019    0.154233\n",
       "Name: loan_status, dtype: float64"
      ]
     },
     "execution_count": 43,
     "metadata": {},
     "output_type": "execute_result"
    }
   ],
   "source": [
    "# Charged off rate by issue_d year\n",
    "final_status_loans_df.groupby(final_status_loans_df[\"issue_d\"].apply(lambda x: x.year))[\"loan_status\"]\\\n",
    ".apply(lambda x:(x==\"Charged Off\").sum()/x.count())"
   ]
  },
  {
   "cell_type": "code",
   "execution_count": 45,
   "metadata": {},
   "outputs": [],
   "source": [
    "# Create field indicating positive class (loan is in Default or Charged Off )\n",
    "final_status_loans_df[\"charge_off\"] = final_status_loans_df[\"loan_status\"].isin([\"Default\",\"Charged Off\"]).astype(\"int\")"
   ]
  },
  {
   "cell_type": "markdown",
   "metadata": {},
   "source": [
    "### Save progress to pickle file "
   ]
  },
  {
   "cell_type": "code",
   "execution_count": 46,
   "metadata": {},
   "outputs": [],
   "source": [
    "with open(directory + \"pickle files/LendingClub_final_status_loans_df.pkl\",\"wb\") as picklefile:\n",
    "    pickle.dump(final_status_loans_df, picklefile)"
   ]
  },
  {
   "cell_type": "markdown",
   "metadata": {},
   "source": [
    "### Examine the return profiles of different loan purposes"
   ]
  },
  {
   "cell_type": "code",
   "execution_count": 49,
   "metadata": {},
   "outputs": [
    {
     "data": {
      "text/plain": [
       "purpose\n",
       "small_business        0.289407\n",
       "moving                0.225119\n",
       "house                 0.224728\n",
       "educational           0.224138\n",
       "renewable_energy      0.219835\n",
       "medical               0.208217\n",
       "debt_consolidation    0.207820\n",
       "other                 0.203516\n",
       "major_purchase        0.186895\n",
       "vacation              0.182300\n",
       "home_improvement      0.174559\n",
       "credit_card           0.169241\n",
       "car                   0.143490\n",
       "wedding               0.123716\n",
       "Name: charge_off, dtype: float64"
      ]
     },
     "execution_count": 49,
     "metadata": {},
     "output_type": "execute_result"
    }
   ],
   "source": [
    "# Rank loan types by percent of loans that are charged off or defaulted\n",
    "final_status_loans_df.groupby(\"purpose\")[\"charge_off\"].mean().sort_values(ascending=False)"
   ]
  },
  {
   "cell_type": "code",
   "execution_count": 99,
   "metadata": {},
   "outputs": [],
   "source": [
    "# Charge off rates vary among loan purpose -- create dummy features for loan purpose\n",
    "final_status_loans_df = pd.get_dummies(final_status_loans_df,columns=[\"purpose\"])"
   ]
  },
  {
   "cell_type": "code",
   "execution_count": 50,
   "metadata": {},
   "outputs": [],
   "source": [
    "# Loan-weighted CAGR by loan purpose\n",
    "final_status_loans_df[\"wtd_CAGR\"] = final_status_loans_df[\"CAGR\"] * final_status_loans_df[\"funded_amnt\"]"
   ]
  },
  {
   "cell_type": "code",
   "execution_count": 57,
   "metadata": {},
   "outputs": [],
   "source": [
    "# Look at all loans\n",
    "groupby_purpose = final_status_loans_df.groupby(\"purpose\")[[\"out_prncp\",\"wtd_CAGR\",\"total_pymnt\",\"total_rec_prncp\",\"total_rec_int\",\"funded_amnt\"]].sum()\n",
    "groupby_purpose[\"CAGR\"] = groupby_purpose[\"wtd_CAGR\"] / groupby_purpose[\"funded_amnt\"]\n",
    "groupby_purpose[\"pct_of_issued_out\"] = groupby_purpose[\"out_prncp\"] / groupby_purpose[\"funded_amnt\"]\n",
    "groupby_purpose[\"ROI\"] = groupby_purpose[\"total_pymnt\"] / groupby_purpose[\"funded_amnt\"] - 1"
   ]
  },
  {
   "cell_type": "code",
   "execution_count": 58,
   "metadata": {},
   "outputs": [
    {
     "data": {
      "text/html": [
       "<div>\n",
       "<style scoped>\n",
       "    .dataframe tbody tr th:only-of-type {\n",
       "        vertical-align: middle;\n",
       "    }\n",
       "\n",
       "    .dataframe tbody tr th {\n",
       "        vertical-align: top;\n",
       "    }\n",
       "\n",
       "    .dataframe thead th {\n",
       "        text-align: right;\n",
       "    }\n",
       "</style>\n",
       "<table border=\"1\" class=\"dataframe\">\n",
       "  <thead>\n",
       "    <tr style=\"text-align: right;\">\n",
       "      <th></th>\n",
       "      <th>out_prncp</th>\n",
       "      <th>wtd_CAGR</th>\n",
       "      <th>total_pymnt</th>\n",
       "      <th>total_rec_prncp</th>\n",
       "      <th>total_rec_int</th>\n",
       "      <th>funded_amnt</th>\n",
       "      <th>CAGR</th>\n",
       "      <th>pct_of_issued_out</th>\n",
       "      <th>ROI</th>\n",
       "    </tr>\n",
       "    <tr>\n",
       "      <th>purpose</th>\n",
       "      <th></th>\n",
       "      <th></th>\n",
       "      <th></th>\n",
       "      <th></th>\n",
       "      <th></th>\n",
       "      <th></th>\n",
       "      <th></th>\n",
       "      <th></th>\n",
       "      <th></th>\n",
       "    </tr>\n",
       "  </thead>\n",
       "  <tbody>\n",
       "    <tr>\n",
       "      <th>small_business</th>\n",
       "      <td>61510.63</td>\n",
       "      <td>-7.743608e+06</td>\n",
       "      <td>3.047338e+08</td>\n",
       "      <td>2.362052e+08</td>\n",
       "      <td>6.046309e+07</td>\n",
       "      <td>3.087642e+08</td>\n",
       "      <td>-0.025079</td>\n",
       "      <td>0.000199</td>\n",
       "      <td>-0.013053</td>\n",
       "    </tr>\n",
       "    <tr>\n",
       "      <th>house</th>\n",
       "      <td>29055.31</td>\n",
       "      <td>-3.786179e+06</td>\n",
       "      <td>1.580228e+08</td>\n",
       "      <td>1.307821e+08</td>\n",
       "      <td>2.396869e+07</td>\n",
       "      <td>1.608560e+08</td>\n",
       "      <td>-0.023538</td>\n",
       "      <td>0.000181</td>\n",
       "      <td>-0.017614</td>\n",
       "    </tr>\n",
       "    <tr>\n",
       "      <th>moving</th>\n",
       "      <td>22925.65</td>\n",
       "      <td>-1.954102e+06</td>\n",
       "      <td>1.010168e+08</td>\n",
       "      <td>8.162724e+07</td>\n",
       "      <td>1.702493e+07</td>\n",
       "      <td>1.012677e+08</td>\n",
       "      <td>-0.019296</td>\n",
       "      <td>0.000226</td>\n",
       "      <td>-0.002478</td>\n",
       "    </tr>\n",
       "    <tr>\n",
       "      <th>major_purchase</th>\n",
       "      <td>117821.90</td>\n",
       "      <td>-9.205436e+06</td>\n",
       "      <td>4.767258e+08</td>\n",
       "      <td>3.937287e+08</td>\n",
       "      <td>7.346246e+07</td>\n",
       "      <td>4.806068e+08</td>\n",
       "      <td>-0.019154</td>\n",
       "      <td>0.000245</td>\n",
       "      <td>-0.008075</td>\n",
       "    </tr>\n",
       "    <tr>\n",
       "      <th>vacation</th>\n",
       "      <td>26804.63</td>\n",
       "      <td>-1.431306e+06</td>\n",
       "      <td>7.841449e+07</td>\n",
       "      <td>6.495055e+07</td>\n",
       "      <td>1.188744e+07</td>\n",
       "      <td>7.844280e+07</td>\n",
       "      <td>-0.018246</td>\n",
       "      <td>0.000342</td>\n",
       "      <td>-0.000361</td>\n",
       "    </tr>\n",
       "    <tr>\n",
       "      <th>medical</th>\n",
       "      <td>35654.54</td>\n",
       "      <td>-3.546973e+06</td>\n",
       "      <td>1.950175e+08</td>\n",
       "      <td>1.598969e+08</td>\n",
       "      <td>3.112105e+07</td>\n",
       "      <td>1.947350e+08</td>\n",
       "      <td>-0.018214</td>\n",
       "      <td>0.000183</td>\n",
       "      <td>0.001451</td>\n",
       "    </tr>\n",
       "    <tr>\n",
       "      <th>renewable_energy</th>\n",
       "      <td>259.83</td>\n",
       "      <td>-2.043826e+05</td>\n",
       "      <td>1.251817e+07</td>\n",
       "      <td>1.007934e+07</td>\n",
       "      <td>2.158516e+06</td>\n",
       "      <td>1.235472e+07</td>\n",
       "      <td>-0.016543</td>\n",
       "      <td>0.000021</td>\n",
       "      <td>0.013229</td>\n",
       "    </tr>\n",
       "    <tr>\n",
       "      <th>other</th>\n",
       "      <td>360034.58</td>\n",
       "      <td>-1.356436e+07</td>\n",
       "      <td>1.093763e+09</td>\n",
       "      <td>8.874021e+08</td>\n",
       "      <td>1.836614e+08</td>\n",
       "      <td>1.078324e+09</td>\n",
       "      <td>-0.012579</td>\n",
       "      <td>0.000334</td>\n",
       "      <td>0.014318</td>\n",
       "    </tr>\n",
       "    <tr>\n",
       "      <th>educational</th>\n",
       "      <td>0.00</td>\n",
       "      <td>-7.353262e+03</td>\n",
       "      <td>8.505526e+05</td>\n",
       "      <td>7.108513e+05</td>\n",
       "      <td>1.321817e+05</td>\n",
       "      <td>8.212250e+05</td>\n",
       "      <td>-0.008954</td>\n",
       "      <td>0.000000</td>\n",
       "      <td>0.035712</td>\n",
       "    </tr>\n",
       "    <tr>\n",
       "      <th>home_improvement</th>\n",
       "      <td>442947.16</td>\n",
       "      <td>-7.496764e+06</td>\n",
       "      <td>1.737299e+09</td>\n",
       "      <td>1.439332e+09</td>\n",
       "      <td>2.688291e+08</td>\n",
       "      <td>1.681239e+09</td>\n",
       "      <td>-0.004459</td>\n",
       "      <td>0.000263</td>\n",
       "      <td>0.033345</td>\n",
       "    </tr>\n",
       "    <tr>\n",
       "      <th>debt_consolidation</th>\n",
       "      <td>3392166.10</td>\n",
       "      <td>-3.846747e+07</td>\n",
       "      <td>1.644074e+10</td>\n",
       "      <td>1.330390e+10</td>\n",
       "      <td>2.828637e+09</td>\n",
       "      <td>1.580760e+10</td>\n",
       "      <td>-0.002433</td>\n",
       "      <td>0.000215</td>\n",
       "      <td>0.040053</td>\n",
       "    </tr>\n",
       "    <tr>\n",
       "      <th>car</th>\n",
       "      <td>24869.20</td>\n",
       "      <td>1.973452e+05</td>\n",
       "      <td>1.806514e+08</td>\n",
       "      <td>1.525641e+08</td>\n",
       "      <td>2.563608e+07</td>\n",
       "      <td>1.732556e+08</td>\n",
       "      <td>0.001139</td>\n",
       "      <td>0.000144</td>\n",
       "      <td>0.042687</td>\n",
       "    </tr>\n",
       "    <tr>\n",
       "      <th>credit_card</th>\n",
       "      <td>1281429.12</td>\n",
       "      <td>1.992719e+07</td>\n",
       "      <td>6.168141e+09</td>\n",
       "      <td>5.152719e+09</td>\n",
       "      <td>9.294376e+08</td>\n",
       "      <td>5.874434e+09</td>\n",
       "      <td>0.003392</td>\n",
       "      <td>0.000218</td>\n",
       "      <td>0.049998</td>\n",
       "    </tr>\n",
       "    <tr>\n",
       "      <th>wedding</th>\n",
       "      <td>0.00</td>\n",
       "      <td>5.328957e+05</td>\n",
       "      <td>2.590320e+07</td>\n",
       "      <td>2.058697e+07</td>\n",
       "      <td>5.051295e+06</td>\n",
       "      <td>2.274425e+07</td>\n",
       "      <td>0.023430</td>\n",
       "      <td>0.000000</td>\n",
       "      <td>0.138890</td>\n",
       "    </tr>\n",
       "  </tbody>\n",
       "</table>\n",
       "</div>"
      ],
      "text/plain": [
       "                     out_prncp      wtd_CAGR   total_pymnt  total_rec_prncp  \\\n",
       "purpose                                                                       \n",
       "small_business        61510.63 -7.743608e+06  3.047338e+08     2.362052e+08   \n",
       "house                 29055.31 -3.786179e+06  1.580228e+08     1.307821e+08   \n",
       "moving                22925.65 -1.954102e+06  1.010168e+08     8.162724e+07   \n",
       "major_purchase       117821.90 -9.205436e+06  4.767258e+08     3.937287e+08   \n",
       "vacation              26804.63 -1.431306e+06  7.841449e+07     6.495055e+07   \n",
       "medical               35654.54 -3.546973e+06  1.950175e+08     1.598969e+08   \n",
       "renewable_energy        259.83 -2.043826e+05  1.251817e+07     1.007934e+07   \n",
       "other                360034.58 -1.356436e+07  1.093763e+09     8.874021e+08   \n",
       "educational               0.00 -7.353262e+03  8.505526e+05     7.108513e+05   \n",
       "home_improvement     442947.16 -7.496764e+06  1.737299e+09     1.439332e+09   \n",
       "debt_consolidation  3392166.10 -3.846747e+07  1.644074e+10     1.330390e+10   \n",
       "car                   24869.20  1.973452e+05  1.806514e+08     1.525641e+08   \n",
       "credit_card         1281429.12  1.992719e+07  6.168141e+09     5.152719e+09   \n",
       "wedding                   0.00  5.328957e+05  2.590320e+07     2.058697e+07   \n",
       "\n",
       "                    total_rec_int   funded_amnt      CAGR  pct_of_issued_out  \\\n",
       "purpose                                                                        \n",
       "small_business       6.046309e+07  3.087642e+08 -0.025079           0.000199   \n",
       "house                2.396869e+07  1.608560e+08 -0.023538           0.000181   \n",
       "moving               1.702493e+07  1.012677e+08 -0.019296           0.000226   \n",
       "major_purchase       7.346246e+07  4.806068e+08 -0.019154           0.000245   \n",
       "vacation             1.188744e+07  7.844280e+07 -0.018246           0.000342   \n",
       "medical              3.112105e+07  1.947350e+08 -0.018214           0.000183   \n",
       "renewable_energy     2.158516e+06  1.235472e+07 -0.016543           0.000021   \n",
       "other                1.836614e+08  1.078324e+09 -0.012579           0.000334   \n",
       "educational          1.321817e+05  8.212250e+05 -0.008954           0.000000   \n",
       "home_improvement     2.688291e+08  1.681239e+09 -0.004459           0.000263   \n",
       "debt_consolidation   2.828637e+09  1.580760e+10 -0.002433           0.000215   \n",
       "car                  2.563608e+07  1.732556e+08  0.001139           0.000144   \n",
       "credit_card          9.294376e+08  5.874434e+09  0.003392           0.000218   \n",
       "wedding              5.051295e+06  2.274425e+07  0.023430           0.000000   \n",
       "\n",
       "                         ROI  \n",
       "purpose                       \n",
       "small_business     -0.013053  \n",
       "house              -0.017614  \n",
       "moving             -0.002478  \n",
       "major_purchase     -0.008075  \n",
       "vacation           -0.000361  \n",
       "medical             0.001451  \n",
       "renewable_energy    0.013229  \n",
       "other               0.014318  \n",
       "educational         0.035712  \n",
       "home_improvement    0.033345  \n",
       "debt_consolidation  0.040053  \n",
       "car                 0.042687  \n",
       "credit_card         0.049998  \n",
       "wedding             0.138890  "
      ]
     },
     "execution_count": 58,
     "metadata": {},
     "output_type": "execute_result"
    }
   ],
   "source": [
    "groupby_purpose.sort_values(by=\"CAGR\", ascending=True)"
   ]
  },
  {
   "cell_type": "markdown",
   "metadata": {},
   "source": [
    "### Return stats on charge_off loans"
   ]
  },
  {
   "cell_type": "code",
   "execution_count": 59,
   "metadata": {},
   "outputs": [],
   "source": [
    "charge_off_groupby_purpose = final_status_loans_df[(final_status_loans_df[\"charge_off\"]==1)] \\\n",
    ".groupby(\"purpose\")[[\"out_prncp\",\"wtd_CAGR\",\"total_pymnt\",\"total_rec_prncp\",\"total_rec_int\",\"funded_amnt\"]].sum()\n",
    "\n",
    "charge_off_groupby_purpose[\"CAGR\"] = charge_off_groupby_purpose[\"wtd_CAGR\"] / charge_off_groupby_purpose[\"funded_amnt\"]\n",
    "charge_off_groupby_purpose[\"pct_of_issued_out\"] = charge_off_groupby_purpose[\"out_prncp\"] / charge_off_groupby_purpose[\"funded_amnt\"]\n",
    "charge_off_groupby_purpose[\"ROI\"] = charge_off_groupby_purpose[\"total_pymnt\"] / charge_off_groupby_purpose[\"funded_amnt\"] - 1"
   ]
  },
  {
   "cell_type": "code",
   "execution_count": 60,
   "metadata": {},
   "outputs": [
    {
     "data": {
      "text/html": [
       "<div>\n",
       "<style scoped>\n",
       "    .dataframe tbody tr th:only-of-type {\n",
       "        vertical-align: middle;\n",
       "    }\n",
       "\n",
       "    .dataframe tbody tr th {\n",
       "        vertical-align: top;\n",
       "    }\n",
       "\n",
       "    .dataframe thead th {\n",
       "        text-align: right;\n",
       "    }\n",
       "</style>\n",
       "<table border=\"1\" class=\"dataframe\">\n",
       "  <thead>\n",
       "    <tr style=\"text-align: right;\">\n",
       "      <th></th>\n",
       "      <th>out_prncp</th>\n",
       "      <th>wtd_CAGR</th>\n",
       "      <th>total_pymnt</th>\n",
       "      <th>total_rec_prncp</th>\n",
       "      <th>total_rec_int</th>\n",
       "      <th>funded_amnt</th>\n",
       "      <th>CAGR</th>\n",
       "      <th>pct_of_issued_out</th>\n",
       "      <th>ROI</th>\n",
       "    </tr>\n",
       "    <tr>\n",
       "      <th>purpose</th>\n",
       "      <th></th>\n",
       "      <th></th>\n",
       "      <th></th>\n",
       "      <th></th>\n",
       "      <th></th>\n",
       "      <th></th>\n",
       "      <th></th>\n",
       "      <th></th>\n",
       "      <th></th>\n",
       "    </tr>\n",
       "  </thead>\n",
       "  <tbody>\n",
       "    <tr>\n",
       "      <th>vacation</th>\n",
       "      <td>26804.63</td>\n",
       "      <td>-4.065246e+06</td>\n",
       "      <td>9.871519e+06</td>\n",
       "      <td>5.520326e+06</td>\n",
       "      <td>2.783256e+06</td>\n",
       "      <td>1.901258e+07</td>\n",
       "      <td>-0.213819</td>\n",
       "      <td>0.001410</td>\n",
       "      <td>-0.480790</td>\n",
       "    </tr>\n",
       "    <tr>\n",
       "      <th>renewable_energy</th>\n",
       "      <td>259.83</td>\n",
       "      <td>-6.581024e+05</td>\n",
       "      <td>1.607392e+06</td>\n",
       "      <td>8.428944e+05</td>\n",
       "      <td>4.852923e+05</td>\n",
       "      <td>3.118275e+06</td>\n",
       "      <td>-0.211047</td>\n",
       "      <td>0.000083</td>\n",
       "      <td>-0.484525</td>\n",
       "    </tr>\n",
       "    <tr>\n",
       "      <th>medical</th>\n",
       "      <td>35654.54</td>\n",
       "      <td>-9.929054e+06</td>\n",
       "      <td>2.344633e+07</td>\n",
       "      <td>1.226991e+07</td>\n",
       "      <td>7.192920e+06</td>\n",
       "      <td>4.710802e+07</td>\n",
       "      <td>-0.210772</td>\n",
       "      <td>0.000757</td>\n",
       "      <td>-0.502286</td>\n",
       "    </tr>\n",
       "    <tr>\n",
       "      <th>house</th>\n",
       "      <td>29055.31</td>\n",
       "      <td>-8.297063e+06</td>\n",
       "      <td>1.883488e+07</td>\n",
       "      <td>9.310794e+06</td>\n",
       "      <td>6.263427e+06</td>\n",
       "      <td>3.938472e+07</td>\n",
       "      <td>-0.210667</td>\n",
       "      <td>0.000738</td>\n",
       "      <td>-0.521772</td>\n",
       "    </tr>\n",
       "    <tr>\n",
       "      <th>educational</th>\n",
       "      <td>0.00</td>\n",
       "      <td>-3.805420e+04</td>\n",
       "      <td>1.069836e+05</td>\n",
       "      <td>7.235129e+04</td>\n",
       "      <td>2.727578e+04</td>\n",
       "      <td>1.827250e+05</td>\n",
       "      <td>-0.208259</td>\n",
       "      <td>0.000000</td>\n",
       "      <td>-0.414510</td>\n",
       "    </tr>\n",
       "    <tr>\n",
       "      <th>moving</th>\n",
       "      <td>22925.65</td>\n",
       "      <td>-5.452554e+06</td>\n",
       "      <td>1.345249e+07</td>\n",
       "      <td>6.937312e+06</td>\n",
       "      <td>4.162338e+06</td>\n",
       "      <td>2.657780e+07</td>\n",
       "      <td>-0.205154</td>\n",
       "      <td>0.000863</td>\n",
       "      <td>-0.493845</td>\n",
       "    </tr>\n",
       "    <tr>\n",
       "      <th>major_purchase</th>\n",
       "      <td>117821.90</td>\n",
       "      <td>-2.355809e+07</td>\n",
       "      <td>5.659598e+07</td>\n",
       "      <td>2.913485e+07</td>\n",
       "      <td>1.796348e+07</td>\n",
       "      <td>1.160130e+08</td>\n",
       "      <td>-0.203064</td>\n",
       "      <td>0.001016</td>\n",
       "      <td>-0.512158</td>\n",
       "    </tr>\n",
       "    <tr>\n",
       "      <th>other</th>\n",
       "      <td>360034.58</td>\n",
       "      <td>-5.067326e+07</td>\n",
       "      <td>1.366477e+08</td>\n",
       "      <td>6.988919e+07</td>\n",
       "      <td>4.415150e+07</td>\n",
       "      <td>2.608109e+08</td>\n",
       "      <td>-0.194291</td>\n",
       "      <td>0.001380</td>\n",
       "      <td>-0.476066</td>\n",
       "    </tr>\n",
       "    <tr>\n",
       "      <th>small_business</th>\n",
       "      <td>61510.63</td>\n",
       "      <td>-1.895452e+07</td>\n",
       "      <td>5.125299e+07</td>\n",
       "      <td>2.593955e+07</td>\n",
       "      <td>1.727832e+07</td>\n",
       "      <td>9.849855e+07</td>\n",
       "      <td>-0.192435</td>\n",
       "      <td>0.000624</td>\n",
       "      <td>-0.479657</td>\n",
       "    </tr>\n",
       "    <tr>\n",
       "      <th>wedding</th>\n",
       "      <td>0.00</td>\n",
       "      <td>-5.949150e+05</td>\n",
       "      <td>1.856495e+06</td>\n",
       "      <td>9.924247e+05</td>\n",
       "      <td>6.004758e+05</td>\n",
       "      <td>3.149700e+06</td>\n",
       "      <td>-0.188880</td>\n",
       "      <td>0.000000</td>\n",
       "      <td>-0.410580</td>\n",
       "    </tr>\n",
       "    <tr>\n",
       "      <th>home_improvement</th>\n",
       "      <td>442947.16</td>\n",
       "      <td>-6.127011e+07</td>\n",
       "      <td>1.778081e+08</td>\n",
       "      <td>9.287565e+07</td>\n",
       "      <td>5.591331e+07</td>\n",
       "      <td>3.347818e+08</td>\n",
       "      <td>-0.183015</td>\n",
       "      <td>0.001323</td>\n",
       "      <td>-0.468884</td>\n",
       "    </tr>\n",
       "    <tr>\n",
       "      <th>car</th>\n",
       "      <td>24869.20</td>\n",
       "      <td>-5.409602e+06</td>\n",
       "      <td>1.626830e+07</td>\n",
       "      <td>9.113975e+06</td>\n",
       "      <td>4.714873e+06</td>\n",
       "      <td>2.980542e+07</td>\n",
       "      <td>-0.181497</td>\n",
       "      <td>0.000834</td>\n",
       "      <td>-0.454183</td>\n",
       "    </tr>\n",
       "    <tr>\n",
       "      <th>credit_card</th>\n",
       "      <td>1281429.12</td>\n",
       "      <td>-1.774058e+08</td>\n",
       "      <td>5.930919e+08</td>\n",
       "      <td>3.341764e+08</td>\n",
       "      <td>1.732027e+08</td>\n",
       "      <td>1.055891e+09</td>\n",
       "      <td>-0.168015</td>\n",
       "      <td>0.001214</td>\n",
       "      <td>-0.438302</td>\n",
       "    </tr>\n",
       "    <tr>\n",
       "      <th>debt_consolidation</th>\n",
       "      <td>3392166.10</td>\n",
       "      <td>-5.860017e+08</td>\n",
       "      <td>1.966320e+09</td>\n",
       "      <td>1.015248e+09</td>\n",
       "      <td>6.438089e+08</td>\n",
       "      <td>3.518946e+09</td>\n",
       "      <td>-0.166528</td>\n",
       "      <td>0.000964</td>\n",
       "      <td>-0.441219</td>\n",
       "    </tr>\n",
       "  </tbody>\n",
       "</table>\n",
       "</div>"
      ],
      "text/plain": [
       "                     out_prncp      wtd_CAGR   total_pymnt  total_rec_prncp  \\\n",
       "purpose                                                                       \n",
       "vacation              26804.63 -4.065246e+06  9.871519e+06     5.520326e+06   \n",
       "renewable_energy        259.83 -6.581024e+05  1.607392e+06     8.428944e+05   \n",
       "medical               35654.54 -9.929054e+06  2.344633e+07     1.226991e+07   \n",
       "house                 29055.31 -8.297063e+06  1.883488e+07     9.310794e+06   \n",
       "educational               0.00 -3.805420e+04  1.069836e+05     7.235129e+04   \n",
       "moving                22925.65 -5.452554e+06  1.345249e+07     6.937312e+06   \n",
       "major_purchase       117821.90 -2.355809e+07  5.659598e+07     2.913485e+07   \n",
       "other                360034.58 -5.067326e+07  1.366477e+08     6.988919e+07   \n",
       "small_business        61510.63 -1.895452e+07  5.125299e+07     2.593955e+07   \n",
       "wedding                   0.00 -5.949150e+05  1.856495e+06     9.924247e+05   \n",
       "home_improvement     442947.16 -6.127011e+07  1.778081e+08     9.287565e+07   \n",
       "car                   24869.20 -5.409602e+06  1.626830e+07     9.113975e+06   \n",
       "credit_card         1281429.12 -1.774058e+08  5.930919e+08     3.341764e+08   \n",
       "debt_consolidation  3392166.10 -5.860017e+08  1.966320e+09     1.015248e+09   \n",
       "\n",
       "                    total_rec_int   funded_amnt      CAGR  pct_of_issued_out  \\\n",
       "purpose                                                                        \n",
       "vacation             2.783256e+06  1.901258e+07 -0.213819           0.001410   \n",
       "renewable_energy     4.852923e+05  3.118275e+06 -0.211047           0.000083   \n",
       "medical              7.192920e+06  4.710802e+07 -0.210772           0.000757   \n",
       "house                6.263427e+06  3.938472e+07 -0.210667           0.000738   \n",
       "educational          2.727578e+04  1.827250e+05 -0.208259           0.000000   \n",
       "moving               4.162338e+06  2.657780e+07 -0.205154           0.000863   \n",
       "major_purchase       1.796348e+07  1.160130e+08 -0.203064           0.001016   \n",
       "other                4.415150e+07  2.608109e+08 -0.194291           0.001380   \n",
       "small_business       1.727832e+07  9.849855e+07 -0.192435           0.000624   \n",
       "wedding              6.004758e+05  3.149700e+06 -0.188880           0.000000   \n",
       "home_improvement     5.591331e+07  3.347818e+08 -0.183015           0.001323   \n",
       "car                  4.714873e+06  2.980542e+07 -0.181497           0.000834   \n",
       "credit_card          1.732027e+08  1.055891e+09 -0.168015           0.001214   \n",
       "debt_consolidation   6.438089e+08  3.518946e+09 -0.166528           0.000964   \n",
       "\n",
       "                         ROI  \n",
       "purpose                       \n",
       "vacation           -0.480790  \n",
       "renewable_energy   -0.484525  \n",
       "medical            -0.502286  \n",
       "house              -0.521772  \n",
       "educational        -0.414510  \n",
       "moving             -0.493845  \n",
       "major_purchase     -0.512158  \n",
       "other              -0.476066  \n",
       "small_business     -0.479657  \n",
       "wedding            -0.410580  \n",
       "home_improvement   -0.468884  \n",
       "car                -0.454183  \n",
       "credit_card        -0.438302  \n",
       "debt_consolidation -0.441219  "
      ]
     },
     "execution_count": 60,
     "metadata": {},
     "output_type": "execute_result"
    }
   ],
   "source": [
    "charge_off_groupby_purpose.sort_values(by=\"CAGR\", ascending=True)"
   ]
  },
  {
   "cell_type": "markdown",
   "metadata": {},
   "source": [
    "### Return stats on paid off loans"
   ]
  },
  {
   "cell_type": "code",
   "execution_count": 62,
   "metadata": {},
   "outputs": [],
   "source": [
    "paid_off_groupby_purpose = final_status_loans_df[(final_status_loans_df[\"charge_off\"]==0)].groupby(\"purpose\")\\\n",
    "[[\"out_prncp\",\"wtd_CAGR\",\"total_pymnt\",\"total_rec_prncp\",\"total_rec_int\",\"funded_amnt\"]].sum()"
   ]
  },
  {
   "cell_type": "code",
   "execution_count": 65,
   "metadata": {},
   "outputs": [],
   "source": [
    "paid_off_groupby_purpose[\"CAGR\"] = paid_off_groupby_purpose[\"wtd_CAGR\"] / paid_off_groupby_purpose[\"funded_amnt\"]\n",
    "paid_off_groupby_purpose[\"pct_of_issued_out\"] = paid_off_groupby_purpose[\"out_prncp\"] / paid_off_groupby_purpose[\"funded_amnt\"]\n",
    "paid_off_groupby_purpose[\"ROI\"] = paid_off_groupby_purpose[\"total_pymnt\"] / paid_off_groupby_purpose[\"funded_amnt\"] - 1"
   ]
  },
  {
   "cell_type": "code",
   "execution_count": 66,
   "metadata": {},
   "outputs": [
    {
     "data": {
      "text/html": [
       "<div>\n",
       "<style scoped>\n",
       "    .dataframe tbody tr th:only-of-type {\n",
       "        vertical-align: middle;\n",
       "    }\n",
       "\n",
       "    .dataframe tbody tr th {\n",
       "        vertical-align: top;\n",
       "    }\n",
       "\n",
       "    .dataframe thead th {\n",
       "        text-align: right;\n",
       "    }\n",
       "</style>\n",
       "<table border=\"1\" class=\"dataframe\">\n",
       "  <thead>\n",
       "    <tr style=\"text-align: right;\">\n",
       "      <th></th>\n",
       "      <th>out_prncp</th>\n",
       "      <th>wtd_CAGR</th>\n",
       "      <th>total_pymnt</th>\n",
       "      <th>total_rec_prncp</th>\n",
       "      <th>total_rec_int</th>\n",
       "      <th>funded_amnt</th>\n",
       "      <th>CAGR</th>\n",
       "      <th>pct_of_issued_out</th>\n",
       "      <th>ROI</th>\n",
       "    </tr>\n",
       "    <tr>\n",
       "      <th>purpose</th>\n",
       "      <th></th>\n",
       "      <th></th>\n",
       "      <th></th>\n",
       "      <th></th>\n",
       "      <th></th>\n",
       "      <th></th>\n",
       "      <th></th>\n",
       "      <th></th>\n",
       "      <th></th>\n",
       "    </tr>\n",
       "  </thead>\n",
       "  <tbody>\n",
       "    <tr>\n",
       "      <th>wedding</th>\n",
       "      <td>0.0</td>\n",
       "      <td>1.127811e+06</td>\n",
       "      <td>2.404671e+07</td>\n",
       "      <td>1.959455e+07</td>\n",
       "      <td>4.450819e+06</td>\n",
       "      <td>1.959455e+07</td>\n",
       "      <td>0.057557</td>\n",
       "      <td>0.0</td>\n",
       "      <td>0.227214</td>\n",
       "    </tr>\n",
       "    <tr>\n",
       "      <th>small_business</th>\n",
       "      <td>0.0</td>\n",
       "      <td>1.121092e+07</td>\n",
       "      <td>2.534808e+08</td>\n",
       "      <td>2.102657e+08</td>\n",
       "      <td>4.318477e+07</td>\n",
       "      <td>2.102657e+08</td>\n",
       "      <td>0.053318</td>\n",
       "      <td>0.0</td>\n",
       "      <td>0.205526</td>\n",
       "    </tr>\n",
       "    <tr>\n",
       "      <th>renewable_energy</th>\n",
       "      <td>0.0</td>\n",
       "      <td>4.537198e+05</td>\n",
       "      <td>1.091078e+07</td>\n",
       "      <td>9.236450e+06</td>\n",
       "      <td>1.673224e+06</td>\n",
       "      <td>9.236450e+06</td>\n",
       "      <td>0.049123</td>\n",
       "      <td>0.0</td>\n",
       "      <td>0.181274</td>\n",
       "    </tr>\n",
       "    <tr>\n",
       "      <th>educational</th>\n",
       "      <td>0.0</td>\n",
       "      <td>3.070094e+04</td>\n",
       "      <td>7.435690e+05</td>\n",
       "      <td>6.385000e+05</td>\n",
       "      <td>1.049059e+05</td>\n",
       "      <td>6.385000e+05</td>\n",
       "      <td>0.048083</td>\n",
       "      <td>0.0</td>\n",
       "      <td>0.164556</td>\n",
       "    </tr>\n",
       "    <tr>\n",
       "      <th>moving</th>\n",
       "      <td>0.0</td>\n",
       "      <td>3.498451e+06</td>\n",
       "      <td>8.756432e+07</td>\n",
       "      <td>7.468992e+07</td>\n",
       "      <td>1.286259e+07</td>\n",
       "      <td>7.468992e+07</td>\n",
       "      <td>0.046840</td>\n",
       "      <td>0.0</td>\n",
       "      <td>0.172371</td>\n",
       "    </tr>\n",
       "    <tr>\n",
       "      <th>other</th>\n",
       "      <td>0.0</td>\n",
       "      <td>3.710890e+07</td>\n",
       "      <td>9.571156e+08</td>\n",
       "      <td>8.175129e+08</td>\n",
       "      <td>1.395099e+08</td>\n",
       "      <td>8.175129e+08</td>\n",
       "      <td>0.045392</td>\n",
       "      <td>0.0</td>\n",
       "      <td>0.170765</td>\n",
       "    </tr>\n",
       "    <tr>\n",
       "      <th>debt_consolidation</th>\n",
       "      <td>0.0</td>\n",
       "      <td>5.475342e+08</td>\n",
       "      <td>1.447442e+10</td>\n",
       "      <td>1.228865e+10</td>\n",
       "      <td>2.184828e+09</td>\n",
       "      <td>1.228865e+10</td>\n",
       "      <td>0.044556</td>\n",
       "      <td>0.0</td>\n",
       "      <td>0.177869</td>\n",
       "    </tr>\n",
       "    <tr>\n",
       "      <th>vacation</th>\n",
       "      <td>0.0</td>\n",
       "      <td>2.633940e+06</td>\n",
       "      <td>6.854297e+07</td>\n",
       "      <td>5.943022e+07</td>\n",
       "      <td>9.104189e+06</td>\n",
       "      <td>5.943022e+07</td>\n",
       "      <td>0.044320</td>\n",
       "      <td>0.0</td>\n",
       "      <td>0.153335</td>\n",
       "    </tr>\n",
       "    <tr>\n",
       "      <th>medical</th>\n",
       "      <td>0.0</td>\n",
       "      <td>6.382082e+06</td>\n",
       "      <td>1.715712e+08</td>\n",
       "      <td>1.476270e+08</td>\n",
       "      <td>2.392813e+07</td>\n",
       "      <td>1.476270e+08</td>\n",
       "      <td>0.043231</td>\n",
       "      <td>0.0</td>\n",
       "      <td>0.162194</td>\n",
       "    </tr>\n",
       "    <tr>\n",
       "      <th>credit_card</th>\n",
       "      <td>0.0</td>\n",
       "      <td>1.973330e+08</td>\n",
       "      <td>5.575049e+09</td>\n",
       "      <td>4.818543e+09</td>\n",
       "      <td>7.562349e+08</td>\n",
       "      <td>4.818543e+09</td>\n",
       "      <td>0.040953</td>\n",
       "      <td>0.0</td>\n",
       "      <td>0.156999</td>\n",
       "    </tr>\n",
       "    <tr>\n",
       "      <th>home_improvement</th>\n",
       "      <td>0.0</td>\n",
       "      <td>5.377335e+07</td>\n",
       "      <td>1.559491e+09</td>\n",
       "      <td>1.346457e+09</td>\n",
       "      <td>2.129158e+08</td>\n",
       "      <td>1.346457e+09</td>\n",
       "      <td>0.039937</td>\n",
       "      <td>0.0</td>\n",
       "      <td>0.158219</td>\n",
       "    </tr>\n",
       "    <tr>\n",
       "      <th>major_purchase</th>\n",
       "      <td>0.0</td>\n",
       "      <td>1.435265e+07</td>\n",
       "      <td>4.201298e+08</td>\n",
       "      <td>3.645939e+08</td>\n",
       "      <td>5.549899e+07</td>\n",
       "      <td>3.645939e+08</td>\n",
       "      <td>0.039366</td>\n",
       "      <td>0.0</td>\n",
       "      <td>0.152323</td>\n",
       "    </tr>\n",
       "    <tr>\n",
       "      <th>car</th>\n",
       "      <td>0.0</td>\n",
       "      <td>5.606948e+06</td>\n",
       "      <td>1.643831e+08</td>\n",
       "      <td>1.434501e+08</td>\n",
       "      <td>2.092121e+07</td>\n",
       "      <td>1.434502e+08</td>\n",
       "      <td>0.039086</td>\n",
       "      <td>0.0</td>\n",
       "      <td>0.145925</td>\n",
       "    </tr>\n",
       "    <tr>\n",
       "      <th>house</th>\n",
       "      <td>0.0</td>\n",
       "      <td>4.510884e+06</td>\n",
       "      <td>1.391879e+08</td>\n",
       "      <td>1.214713e+08</td>\n",
       "      <td>1.770527e+07</td>\n",
       "      <td>1.214713e+08</td>\n",
       "      <td>0.037135</td>\n",
       "      <td>0.0</td>\n",
       "      <td>0.145850</td>\n",
       "    </tr>\n",
       "  </tbody>\n",
       "</table>\n",
       "</div>"
      ],
      "text/plain": [
       "                    out_prncp      wtd_CAGR   total_pymnt  total_rec_prncp  \\\n",
       "purpose                                                                      \n",
       "wedding                   0.0  1.127811e+06  2.404671e+07     1.959455e+07   \n",
       "small_business            0.0  1.121092e+07  2.534808e+08     2.102657e+08   \n",
       "renewable_energy          0.0  4.537198e+05  1.091078e+07     9.236450e+06   \n",
       "educational               0.0  3.070094e+04  7.435690e+05     6.385000e+05   \n",
       "moving                    0.0  3.498451e+06  8.756432e+07     7.468992e+07   \n",
       "other                     0.0  3.710890e+07  9.571156e+08     8.175129e+08   \n",
       "debt_consolidation        0.0  5.475342e+08  1.447442e+10     1.228865e+10   \n",
       "vacation                  0.0  2.633940e+06  6.854297e+07     5.943022e+07   \n",
       "medical                   0.0  6.382082e+06  1.715712e+08     1.476270e+08   \n",
       "credit_card               0.0  1.973330e+08  5.575049e+09     4.818543e+09   \n",
       "home_improvement          0.0  5.377335e+07  1.559491e+09     1.346457e+09   \n",
       "major_purchase            0.0  1.435265e+07  4.201298e+08     3.645939e+08   \n",
       "car                       0.0  5.606948e+06  1.643831e+08     1.434501e+08   \n",
       "house                     0.0  4.510884e+06  1.391879e+08     1.214713e+08   \n",
       "\n",
       "                    total_rec_int   funded_amnt      CAGR  pct_of_issued_out  \\\n",
       "purpose                                                                        \n",
       "wedding              4.450819e+06  1.959455e+07  0.057557                0.0   \n",
       "small_business       4.318477e+07  2.102657e+08  0.053318                0.0   \n",
       "renewable_energy     1.673224e+06  9.236450e+06  0.049123                0.0   \n",
       "educational          1.049059e+05  6.385000e+05  0.048083                0.0   \n",
       "moving               1.286259e+07  7.468992e+07  0.046840                0.0   \n",
       "other                1.395099e+08  8.175129e+08  0.045392                0.0   \n",
       "debt_consolidation   2.184828e+09  1.228865e+10  0.044556                0.0   \n",
       "vacation             9.104189e+06  5.943022e+07  0.044320                0.0   \n",
       "medical              2.392813e+07  1.476270e+08  0.043231                0.0   \n",
       "credit_card          7.562349e+08  4.818543e+09  0.040953                0.0   \n",
       "home_improvement     2.129158e+08  1.346457e+09  0.039937                0.0   \n",
       "major_purchase       5.549899e+07  3.645939e+08  0.039366                0.0   \n",
       "car                  2.092121e+07  1.434502e+08  0.039086                0.0   \n",
       "house                1.770527e+07  1.214713e+08  0.037135                0.0   \n",
       "\n",
       "                         ROI  \n",
       "purpose                       \n",
       "wedding             0.227214  \n",
       "small_business      0.205526  \n",
       "renewable_energy    0.181274  \n",
       "educational         0.164556  \n",
       "moving              0.172371  \n",
       "other               0.170765  \n",
       "debt_consolidation  0.177869  \n",
       "vacation            0.153335  \n",
       "medical             0.162194  \n",
       "credit_card         0.156999  \n",
       "home_improvement    0.158219  \n",
       "major_purchase      0.152323  \n",
       "car                 0.145925  \n",
       "house               0.145850  "
      ]
     },
     "execution_count": 66,
     "metadata": {},
     "output_type": "execute_result"
    }
   ],
   "source": [
    "paid_off_groupby_purpose.sort_values(by=\"CAGR\", ascending=False)"
   ]
  },
  {
   "cell_type": "code",
   "execution_count": 284,
   "metadata": {},
   "outputs": [
    {
     "data": {
      "text/plain": [
       "0.048350019368707836"
      ]
     },
     "execution_count": 284,
     "metadata": {},
     "output_type": "execute_result"
    }
   ],
   "source": [
    "# CAGR for paid off loans \n",
    "final_status_loans_df[final_status_loans_df[\"charge_off\"]==0][\"wtd_CAGR\"].sum() /\\\n",
    "final_status_loans_df[final_status_loans_df[\"charge_off\"]==0][\"funded_amnt\"].sum()"
   ]
  },
  {
   "cell_type": "code",
   "execution_count": 285,
   "metadata": {},
   "outputs": [
    {
     "data": {
      "text/plain": [
       "-0.1381973024734858"
      ]
     },
     "execution_count": 285,
     "metadata": {},
     "output_type": "execute_result"
    }
   ],
   "source": [
    "# CAGR for charged off loans \n",
    "final_status_loans_df[final_status_loans_df[\"charge_off\"]==1][\"wtd_CAGR\"].sum() /\\\n",
    "final_status_loans_df[final_status_loans_df[\"charge_off\"]==1][\"funded_amnt\"].sum()"
   ]
  },
  {
   "cell_type": "markdown",
   "metadata": {},
   "source": [
    "### Compute the ratio of charge_off loan returns to non-charge_off loan returns\n",
    "This will provide an indication of the relative importance of recall vs precision in the FBeta score used in model selection. *Numbers are taken from the last two cells above.*  \n",
    "<br>\n",
    "**Beta** = $$ \\left|{\\dfrac{CAGR_{charged off}}{CAGR_{fully paid}}}\\right| = \\left|\\dfrac{-13.82}{4.83}\\right| = 2.86 $$"
   ]
  },
  {
   "cell_type": "code",
   "execution_count": 11,
   "metadata": {},
   "outputs": [],
   "source": [
    "beta = 2.86"
   ]
  },
  {
   "cell_type": "code",
   "execution_count": 72,
   "metadata": {},
   "outputs": [],
   "source": [
    "# FICO scores are split into low - high range, take average of the two and drop low, high columns\n",
    "final_status_loans_df[\"FICO_avg\"] = (final_status_loans_df[\"fico_range_high\"] + final_status_loans_df[\"fico_range_low\"]) / 2\n",
    "final_status_loans_df.drop(columns = [\"fico_range_low\",\"fico_range_high\"],inplace=True)"
   ]
  },
  {
   "cell_type": "code",
   "execution_count": 73,
   "metadata": {},
   "outputs": [],
   "source": [
    "# Make total FICO avg column based on both primary and secondary FICOs if fields are populated,\n",
    "# else use primary FICO\n",
    "final_status_loans_df[\"sec_FICO_avg\"] = (final_status_loans_df[\"sec_app_fico_range_high\"] + final_status_loans_df[\"sec_app_fico_range_low\"])/2\n",
    "final_status_loans_df[\"total_FICO_avg\"] = ((final_status_loans_df[\"sec_FICO_avg\"] + final_status_loans_df[\"FICO_avg\"])/2)\\\n",
    ".combine_first(final_status_loans_df[\"FICO_avg\"])"
   ]
  },
  {
   "cell_type": "code",
   "execution_count": 84,
   "metadata": {},
   "outputs": [
    {
     "data": {
      "text/html": [
       "<div>\n",
       "<style scoped>\n",
       "    .dataframe tbody tr th:only-of-type {\n",
       "        vertical-align: middle;\n",
       "    }\n",
       "\n",
       "    .dataframe tbody tr th {\n",
       "        vertical-align: top;\n",
       "    }\n",
       "\n",
       "    .dataframe thead th {\n",
       "        text-align: right;\n",
       "    }\n",
       "</style>\n",
       "<table border=\"1\" class=\"dataframe\">\n",
       "  <thead>\n",
       "    <tr style=\"text-align: right;\">\n",
       "      <th></th>\n",
       "      <th>FICO_avg</th>\n",
       "      <th>sec_FICO_avg</th>\n",
       "      <th>total_FICO_avg</th>\n",
       "    </tr>\n",
       "  </thead>\n",
       "  <tbody>\n",
       "    <tr>\n",
       "      <th>1980025</th>\n",
       "      <td>687.0</td>\n",
       "      <td>NaN</td>\n",
       "      <td>687.0</td>\n",
       "    </tr>\n",
       "    <tr>\n",
       "      <th>2659298</th>\n",
       "      <td>692.0</td>\n",
       "      <td>NaN</td>\n",
       "      <td>692.0</td>\n",
       "    </tr>\n",
       "    <tr>\n",
       "      <th>836707</th>\n",
       "      <td>717.0</td>\n",
       "      <td>NaN</td>\n",
       "      <td>717.0</td>\n",
       "    </tr>\n",
       "    <tr>\n",
       "      <th>1752159</th>\n",
       "      <td>727.0</td>\n",
       "      <td>697.0</td>\n",
       "      <td>712.0</td>\n",
       "    </tr>\n",
       "    <tr>\n",
       "      <th>2570210</th>\n",
       "      <td>727.0</td>\n",
       "      <td>NaN</td>\n",
       "      <td>727.0</td>\n",
       "    </tr>\n",
       "    <tr>\n",
       "      <th>359159</th>\n",
       "      <td>717.0</td>\n",
       "      <td>NaN</td>\n",
       "      <td>717.0</td>\n",
       "    </tr>\n",
       "    <tr>\n",
       "      <th>803797</th>\n",
       "      <td>707.0</td>\n",
       "      <td>NaN</td>\n",
       "      <td>707.0</td>\n",
       "    </tr>\n",
       "    <tr>\n",
       "      <th>510155</th>\n",
       "      <td>707.0</td>\n",
       "      <td>NaN</td>\n",
       "      <td>707.0</td>\n",
       "    </tr>\n",
       "    <tr>\n",
       "      <th>1946780</th>\n",
       "      <td>662.0</td>\n",
       "      <td>NaN</td>\n",
       "      <td>662.0</td>\n",
       "    </tr>\n",
       "    <tr>\n",
       "      <th>280501</th>\n",
       "      <td>687.0</td>\n",
       "      <td>NaN</td>\n",
       "      <td>687.0</td>\n",
       "    </tr>\n",
       "  </tbody>\n",
       "</table>\n",
       "</div>"
      ],
      "text/plain": [
       "         FICO_avg  sec_FICO_avg  total_FICO_avg\n",
       "1980025     687.0           NaN           687.0\n",
       "2659298     692.0           NaN           692.0\n",
       "836707      717.0           NaN           717.0\n",
       "1752159     727.0         697.0           712.0\n",
       "2570210     727.0           NaN           727.0\n",
       "359159      717.0           NaN           717.0\n",
       "803797      707.0           NaN           707.0\n",
       "510155      707.0           NaN           707.0\n",
       "1946780     662.0           NaN           662.0\n",
       "280501      687.0           NaN           687.0"
      ]
     },
     "execution_count": 84,
     "metadata": {},
     "output_type": "execute_result"
    }
   ],
   "source": [
    "final_status_loans_df[[\"FICO_avg\",\"sec_FICO_avg\",\"total_FICO_avg\"]].sample(10)"
   ]
  },
  {
   "cell_type": "markdown",
   "metadata": {},
   "source": [
    "#### In this data verified loans are more likely to be charged off than un-verified loans\n",
    "* Unsure if there's a reason for that, of it it's just noise\n",
    "* Excluding from analysis for now"
   ]
  },
  {
   "cell_type": "code",
   "execution_count": 85,
   "metadata": {},
   "outputs": [],
   "source": [
    "# Classifier for is_verified, to check if loan is verified or not\n",
    "final_status_loans_df[\"is_verified\"] = ((final_status_loans_df[\"verification_status\"].isin([\"Verified\",\"Source Verified\"])) |\\\n",
    "                               (final_status_loans_df[\"verification_status_joint\"].isin([\"Verified\",\"Source Verified\"])))\\\n",
    "                                .astype(\"int\")"
   ]
  },
  {
   "cell_type": "code",
   "execution_count": 287,
   "metadata": {},
   "outputs": [
    {
     "name": "stdout",
     "output_type": "stream",
     "text": [
      "Percent of all loans that are charged off: 0.18663178618882748\n",
      "Percent of verified loans that are charged off: 0.20588389796504578\n",
      "Percent of un-verified loans that are charged off: 0.13896775193283636\n"
     ]
    }
   ],
   "source": [
    "# Check if % of loans that have verified income are more charge_off than those that aren't\n",
    "print(\"Percent of all loans that are charged off:\",final_status_loans_df[final_status_loans_df[\"charge_off\"]==1].shape[0]/\\\n",
    "      final_status_loans_df.shape[0])\n",
    "print(\"Percent of verified loans that are charged off:\",\n",
    "      len(final_status_loans_df[(final_status_loans_df[\"is_verified\"]==1) & (final_status_loans_df[\"charge_off\"]==1)]) / \n",
    "      final_status_loans_df[final_status_loans_df[\"is_verified\"]==1][\"charge_off\"].size)\n",
    "print(\"Percent of un-verified loans that are charged off:\",\n",
    "      len(final_status_loans_df[(final_status_loans_df[\"is_verified\"]==0) & (final_status_loans_df[\"charge_off\"]==1)]) /\n",
    "      final_status_loans_df[final_status_loans_df[\"is_verified\"]==0][\"charge_off\"].size)"
   ]
  },
  {
   "cell_type": "code",
   "execution_count": 288,
   "metadata": {},
   "outputs": [
    {
     "data": {
      "text/plain": [
       "Not Verified    0.213559\n",
       "Name: verification_status_joint, dtype: float64"
      ]
     },
     "execution_count": 288,
     "metadata": {},
     "output_type": "execute_result"
    }
   ],
   "source": [
    "# Percent of charge_off loans by verification status\n",
    "final_status_loans_df[final_status_loans_df[\"charge_off\"]==1][\"verification_status_joint\"].value_counts() / \\\n",
    "final_status_loans_df[\"verification_status_joint\"].value_counts()"
   ]
  },
  {
   "cell_type": "markdown",
   "metadata": {},
   "source": [
    "#### Create \"dti\" feature: Ratio of monthly payments on debt (excluding mortgage and requested LC loan) to income\n",
    "* Make one dti feature, combining dti and dti_joint"
   ]
  },
  {
   "cell_type": "code",
   "execution_count": 88,
   "metadata": {},
   "outputs": [],
   "source": [
    "# Make debt to income (dti) column based on joint dti if field is populated, else use dti\n",
    "final_status_loans_df[\"dti_clean\"] = final_status_loans_df[\"dti_joint\"].combine_first(final_status_loans_df[\"dti\"])"
   ]
  },
  {
   "cell_type": "code",
   "execution_count": 89,
   "metadata": {},
   "outputs": [
    {
     "data": {
      "text/plain": [
       "0"
      ]
     },
     "execution_count": 89,
     "metadata": {},
     "output_type": "execute_result"
    }
   ],
   "source": [
    "# Check dti_clean for na / nulls\n",
    "final_status_loans_df[\"dti_clean\"].isnull().sum()"
   ]
  },
  {
   "cell_type": "code",
   "execution_count": 289,
   "metadata": {},
   "outputs": [
    {
     "data": {
      "text/plain": [
       "2440474    13.77\n",
       "2440452    19.10\n",
       "2440451     5.59\n",
       "2440450    21.45\n",
       "2440449    22.95\n",
       "Name: dti_clean, dtype: float64"
      ]
     },
     "execution_count": 289,
     "metadata": {},
     "output_type": "execute_result"
    }
   ],
   "source": [
    "final_status_loans_df[\"dti_clean\"].head()"
   ]
  },
  {
   "cell_type": "markdown",
   "metadata": {},
   "source": [
    "#### Annual Income\n",
    "* Make **final_income** column based on income that corresponds to application type\n",
    "* Make income to installment ratio"
   ]
  },
  {
   "cell_type": "code",
   "execution_count": 92,
   "metadata": {},
   "outputs": [],
   "source": [
    "final_status_loans_df[\"final_inc\"] = final_status_loans_df[\"annual_inc\"]\n",
    "final_status_loans_df.loc[final_status_loans_df[\"application_type\"]==\"Joint App\",\"final_inc\"] = final_status_loans_df[\"annual_inc_joint\"]"
   ]
  },
  {
   "cell_type": "code",
   "execution_count": 93,
   "metadata": {},
   "outputs": [],
   "source": [
    "# Make monthly income column\n",
    "final_status_loans_df[\"monthly_inc\"] = final_status_loans_df[\"final_inc\"]/12"
   ]
  },
  {
   "cell_type": "code",
   "execution_count": 94,
   "metadata": {},
   "outputs": [],
   "source": [
    "# Monthly Income to Installment ratio\n",
    "final_status_loans_df[\"install_to_inc\"] = final_status_loans_df[\"installment\"] / final_status_loans_df[\"monthly_inc\"] * 100"
   ]
  },
  {
   "cell_type": "code",
   "execution_count": 95,
   "metadata": {},
   "outputs": [],
   "source": [
    "# Monthly Income to total debt payments ratio\n",
    "final_status_loans_df[\"total_dti\"] = final_status_loans_df[\"dti_clean\"] + final_status_loans_df[\"install_to_inc\"]"
   ]
  },
  {
   "cell_type": "code",
   "execution_count": 290,
   "metadata": {},
   "outputs": [],
   "source": [
    "final_status_loans_df[\"dti_bins\"] = pd.cut(final_status_loans_df[\"total_dti\"],5)"
   ]
  },
  {
   "cell_type": "code",
   "execution_count": 292,
   "metadata": {},
   "outputs": [
    {
     "data": {
      "text/plain": [
       "dti_bins\n",
       "(-0.0361, 15.977]    0.121393\n",
       "(15.977, 31.911]     0.173541\n",
       "(31.911, 47.845]     0.245754\n",
       "(47.845, 63.779]     0.315005\n",
       "(63.779, 79.713]     0.387755\n",
       "Name: charge_off, dtype: float64"
      ]
     },
     "execution_count": 292,
     "metadata": {},
     "output_type": "execute_result"
    }
   ],
   "source": [
    "final_status_loans_df.groupby(\"dti_bins\")[\"charge_off\"].mean()"
   ]
  },
  {
   "cell_type": "markdown",
   "metadata": {},
   "source": [
    "#### Employment: See if relationship exists between Employment Length and Title and default rates"
   ]
  },
  {
   "cell_type": "code",
   "execution_count": 100,
   "metadata": {},
   "outputs": [],
   "source": [
    "# Convert employment length to integer\n",
    "final_status_loans_df[\"emp_length\"] = pd.to_numeric(final_status_loans_df[\"emp_length\"].str.replace(\" year\",\"\").str \\\n",
    "                                           .replace(\"s\",\"\").str.replace(\"+\",\"\").str.replace(\"< \",\"\"),\n",
    "                                           errors=\"coerce\")"
   ]
  },
  {
   "cell_type": "code",
   "execution_count": 101,
   "metadata": {},
   "outputs": [
    {
     "data": {
      "text/plain": [
       "0.0"
      ]
     },
     "execution_count": 101,
     "metadata": {},
     "output_type": "execute_result"
    }
   ],
   "source": [
    "# fill nas in emp_length\n",
    "final_status_loans_df[\"emp_length\"].fillna(final_status_loans_df[\"emp_length\"].median(),inplace=True)\n",
    "\n",
    "final_status_loans_df[\"emp_length\"].isna().sum()/final_status_loans_df.shape[0]"
   ]
  },
  {
   "cell_type": "code",
   "execution_count": 293,
   "metadata": {},
   "outputs": [
    {
     "data": {
      "image/png": "[encoded data removed]",
      "text/plain": [
       "<Figure size 432x288 with 1 Axes>"
      ]
     },
     "metadata": {
      "needs_background": "light"
     },
     "output_type": "display_data"
    }
   ],
   "source": [
    "# Breakdown of charge_off small business loans by employment length\n",
    "(final_status_loans_df[final_status_loans_df[\"charge_off\"]==1][\"emp_length\"].value_counts()/final_status_loans_df[\"emp_length\"].value_counts())\\\n",
    ".sort_index().plot.bar();"
   ]
  },
  {
   "cell_type": "markdown",
   "metadata": {},
   "source": [
    "#### Weak correlation appears to exist between employment length and default rate"
   ]
  },
  {
   "cell_type": "code",
   "execution_count": 294,
   "metadata": {},
   "outputs": [
    {
     "data": {
      "text/plain": [
       "0.18663178618882748"
      ]
     },
     "execution_count": 294,
     "metadata": {},
     "output_type": "execute_result"
    }
   ],
   "source": [
    "# % of all small business loans that are charged off\n",
    "final_status_loans_df[final_status_loans_df[\"charge_off\"]==1].shape[0]/final_status_loans_df[\"charge_off\"].size"
   ]
  },
  {
   "cell_type": "code",
   "execution_count": 295,
   "metadata": {},
   "outputs": [],
   "source": [
    "# Clean up emp_title\n",
    "final_status_loans_df[\"emp_title_clean\"] = final_status_loans_df[\"emp_title\"].str.strip().str.title().fillna(\"\")"
   ]
  },
  {
   "cell_type": "code",
   "execution_count": 296,
   "metadata": {},
   "outputs": [
    {
     "data": {
      "text/plain": [
       "0.18326013729586832"
      ]
     },
     "execution_count": 296,
     "metadata": {},
     "output_type": "execute_result"
    }
   ],
   "source": [
    "# See whether titles with \"Manager\" in them are correlated with charge offs \n",
    "final_status_loans_df[(final_status_loans_df[\"emp_title_clean\"].str.contains(\"Manager\")) & (final_status_loans_df[\"charge_off\"]==1)].shape[0]\\\n",
    "/final_status_loans_df[(final_status_loans_df[\"emp_title_clean\"].str.contains(\"Manager\"))].shape[0]"
   ]
  },
  {
   "cell_type": "code",
   "execution_count": 297,
   "metadata": {},
   "outputs": [
    {
     "data": {
      "text/plain": [
       "0.2172358823245254"
      ]
     },
     "execution_count": 297,
     "metadata": {},
     "output_type": "execute_result"
    }
   ],
   "source": [
    "# See whether titles with \"Owner\" in them are correlated with charge offs\n",
    "final_status_loans_df[(final_status_loans_df[\"emp_title_clean\"].str.contains(\"Owner\")) & (final_status_loans_df[\"charge_off\"]==1)].shape[0]\\\n",
    "/final_status_loans_df[(final_status_loans_df[\"emp_title_clean\"].str.contains(\"Owner\"))].shape[0]"
   ]
  },
  {
   "cell_type": "code",
   "execution_count": 298,
   "metadata": {},
   "outputs": [
    {
     "data": {
      "text/plain": [
       "0.16965736361338773"
      ]
     },
     "execution_count": 298,
     "metadata": {},
     "output_type": "execute_result"
    }
   ],
   "source": [
    "# See whether employment in the medical industry correlates with charge offs\n",
    "final_status_loans_df[final_status_loans_df[\"charge_off\"]==1][\"emp_title_clean\"].apply(lambda x:any(i in [\"Physician\",\"Doctor\",\"Dentist\",\"Surgeon\",\"Nurse\"]\\\n",
    "                                                    for i in x.split())).sum()/\\\n",
    "final_status_loans_df[\"emp_title_clean\"].apply(lambda x:any(i in [\"Physician\",\"Doctor\",\"Dentist\",\"Surgeon\",\"Nurse\"]\\\n",
    "                                                    for i in x.split())).sum()"
   ]
  },
  {
   "cell_type": "code",
   "execution_count": 108,
   "metadata": {},
   "outputs": [],
   "source": [
    "# Create new field -- one (1) if employment is related to the medical field \n",
    "final_status_loans_df[\"is_medical\"] = final_status_loans_df[\"emp_title_clean\"].apply(lambda x:\\\n",
    "                                                                   any(i in [\"Physician\",\"Doctor\",\"Dentist\",\n",
    "                                                                             \"Surgeon\",\"Nurse\"]\\\n",
    "                                                                       for i in x.split())).astype(\"int\")"
   ]
  },
  {
   "cell_type": "code",
   "execution_count": 109,
   "metadata": {},
   "outputs": [],
   "source": [
    "final_status_loans_df[\"is_manager\"] = final_status_loans_df[\"emp_title_clean\"].str.contains(\"Manager\").astype(\"int\").fillna(0)\n",
    "final_status_loans_df[\"is_owner\"] = final_status_loans_df[\"emp_title_clean\"].str.contains(\"Owner\").astype(\"int\").fillna(0)"
   ]
  },
  {
   "cell_type": "code",
   "execution_count": 110,
   "metadata": {},
   "outputs": [
    {
     "data": {
      "text/html": [
       "<div>\n",
       "<style scoped>\n",
       "    .dataframe tbody tr th:only-of-type {\n",
       "        vertical-align: middle;\n",
       "    }\n",
       "\n",
       "    .dataframe tbody tr th {\n",
       "        vertical-align: top;\n",
       "    }\n",
       "\n",
       "    .dataframe thead th {\n",
       "        text-align: right;\n",
       "    }\n",
       "</style>\n",
       "<table border=\"1\" class=\"dataframe\">\n",
       "  <thead>\n",
       "    <tr style=\"text-align: right;\">\n",
       "      <th></th>\n",
       "      <th>is_manager</th>\n",
       "      <th>is_owner</th>\n",
       "      <th>is_medical</th>\n",
       "      <th>emp_title_clean</th>\n",
       "    </tr>\n",
       "  </thead>\n",
       "  <tbody>\n",
       "    <tr>\n",
       "      <th>0</th>\n",
       "      <td>0</td>\n",
       "      <td>0</td>\n",
       "      <td>1</td>\n",
       "      <td>Staff Physician</td>\n",
       "    </tr>\n",
       "    <tr>\n",
       "      <th>1</th>\n",
       "      <td>0</td>\n",
       "      <td>0</td>\n",
       "      <td>0</td>\n",
       "      <td>Director Of Sales</td>\n",
       "    </tr>\n",
       "    <tr>\n",
       "      <th>7</th>\n",
       "      <td>0</td>\n",
       "      <td>0</td>\n",
       "      <td>0</td>\n",
       "      <td>Analyst</td>\n",
       "    </tr>\n",
       "    <tr>\n",
       "      <th>14</th>\n",
       "      <td>0</td>\n",
       "      <td>0</td>\n",
       "      <td>0</td>\n",
       "      <td>Administrative</td>\n",
       "    </tr>\n",
       "    <tr>\n",
       "      <th>17</th>\n",
       "      <td>0</td>\n",
       "      <td>0</td>\n",
       "      <td>0</td>\n",
       "      <td>Instructional Coordinator</td>\n",
       "    </tr>\n",
       "  </tbody>\n",
       "</table>\n",
       "</div>"
      ],
      "text/plain": [
       "    is_manager  is_owner  is_medical            emp_title_clean\n",
       "0            0         0           1            Staff Physician\n",
       "1            0         0           0          Director Of Sales\n",
       "7            0         0           0                    Analyst\n",
       "14           0         0           0             Administrative\n",
       "17           0         0           0  Instructional Coordinator"
      ]
     },
     "execution_count": 110,
     "metadata": {},
     "output_type": "execute_result"
    }
   ],
   "source": [
    "final_status_loans_df[[\"is_manager\",\"is_owner\",\"is_medical\",\"emp_title_clean\"]].head()"
   ]
  },
  {
   "cell_type": "markdown",
   "metadata": {},
   "source": [
    "### Some small business loans have a Description field -- may hold information about creditworthiness"
   ]
  },
  {
   "cell_type": "code",
   "execution_count": 111,
   "metadata": {},
   "outputs": [],
   "source": [
    "final_status_loans_df[\"desc_clean\"] = final_status_loans_df[\"desc\"].fillna(\"\")"
   ]
  },
  {
   "cell_type": "code",
   "execution_count": 112,
   "metadata": {},
   "outputs": [],
   "source": [
    "# examine whether any relationship exists between length of description and default rates\n",
    "final_status_loans_df[\"desc_length\"] = final_status_loans_df[\"desc_clean\"].apply(lambda x: len(str(x).split(\" \")))"
   ]
  },
  {
   "cell_type": "code",
   "execution_count": 299,
   "metadata": {},
   "outputs": [],
   "source": [
    "final_status_loans_df[\"desc_buckets\"]=pd.cut(final_status_loans_df[\"desc_length\"],10)"
   ]
  },
  {
   "cell_type": "code",
   "execution_count": 300,
   "metadata": {},
   "outputs": [
    {
     "data": {
      "text/plain": [
       "desc_buckets\n",
       "(-0.059, 106.9]    0.186833\n",
       "(106.9, 212.8]     0.144789\n",
       "(212.8, 318.7]     0.160907\n",
       "(318.7, 424.6]     0.207317\n",
       "(424.6, 530.5]     0.194030\n",
       "(530.5, 636.4]     0.200000\n",
       "(636.4, 742.3]     0.250000\n",
       "(742.3, 848.2]     0.571429\n",
       "(848.2, 954.1]     1.000000\n",
       "(954.1, 1060.0]    0.500000\n",
       "Name: charge_off, dtype: float64"
      ]
     },
     "execution_count": 300,
     "metadata": {},
     "output_type": "execute_result"
    }
   ],
   "source": [
    "final_status_loans_df.groupby(\"desc_buckets\")[\"charge_off\"].mean()"
   ]
  },
  {
   "cell_type": "code",
   "execution_count": 301,
   "metadata": {},
   "outputs": [
    {
     "data": {
      "text/plain": [
       "1      1138142\n",
       "9         4850\n",
       "13        3114\n",
       "16        3067\n",
       "17        3048\n",
       "        ...   \n",
       "487          1\n",
       "485          1\n",
       "482          1\n",
       "469          1\n",
       "875          1\n",
       "Name: desc_length, Length: 565, dtype: int64"
      ]
     },
     "execution_count": 301,
     "metadata": {},
     "output_type": "execute_result"
    }
   ],
   "source": [
    "final_status_loans_df[\"desc_length\"].value_counts()"
   ]
  },
  {
   "cell_type": "markdown",
   "metadata": {},
   "source": [
    "#### Takeaways for description length: \n",
    "1. Most SB loans lack any description -- could be problematic\n",
    "2. There isn't much of a relationship between length and loan default rates. As you approach 600+ words default rates fall, but those account for a very small percent of the total population\n",
    "\n",
    "**Next, try applying Sentiment Analysis**"
   ]
  },
  {
   "cell_type": "code",
   "execution_count": 116,
   "metadata": {},
   "outputs": [],
   "source": [
    "analyser = SentimentIntensityAnalyzer()\n",
    "final_status_loans_df[\"desc_sentiment\"] = final_status_loans_df[\"desc_clean\"].apply(lambda x: 9999 if type(x) == int else\\\n",
    "                                                                  analyser.polarity_scores(x))"
   ]
  },
  {
   "cell_type": "code",
   "execution_count": 117,
   "metadata": {},
   "outputs": [],
   "source": [
    "final_status_loans_df[\"desc_compound_score\"] = final_status_loans_df[\"desc_sentiment\"].apply(lambda x: 9999 if type(x) ==\\\n",
    "                                                                           int else x[\"compound\"])"
   ]
  },
  {
   "cell_type": "code",
   "execution_count": 118,
   "metadata": {},
   "outputs": [
    {
     "data": {
      "text/html": [
       "<div>\n",
       "<style scoped>\n",
       "    .dataframe tbody tr th:only-of-type {\n",
       "        vertical-align: middle;\n",
       "    }\n",
       "\n",
       "    .dataframe tbody tr th {\n",
       "        vertical-align: top;\n",
       "    }\n",
       "\n",
       "    .dataframe thead th {\n",
       "        text-align: right;\n",
       "    }\n",
       "</style>\n",
       "<table border=\"1\" class=\"dataframe\">\n",
       "  <thead>\n",
       "    <tr style=\"text-align: right;\">\n",
       "      <th></th>\n",
       "      <th>desc_clean</th>\n",
       "      <th>desc_compound_score</th>\n",
       "    </tr>\n",
       "  </thead>\n",
       "  <tbody>\n",
       "    <tr>\n",
       "      <th>285485</th>\n",
       "      <td>Borrower added on 09/01/12 &gt; Finish an exist...</td>\n",
       "      <td>0.4201</td>\n",
       "    </tr>\n",
       "    <tr>\n",
       "      <th>237224</th>\n",
       "      <td>Borrower added on 04/01/13 &gt; consolodating c...</td>\n",
       "      <td>0.3818</td>\n",
       "    </tr>\n",
       "    <tr>\n",
       "      <th>2413089</th>\n",
       "      <td>Borrower added on 06/11/11 &gt; I have much hig...</td>\n",
       "      <td>0.8020</td>\n",
       "    </tr>\n",
       "    <tr>\n",
       "      <th>182421</th>\n",
       "      <td>Borrower added on 08/27/13 &gt; debt consolidat...</td>\n",
       "      <td>-0.3612</td>\n",
       "    </tr>\n",
       "    <tr>\n",
       "      <th>192276</th>\n",
       "      <td>Borrower added on 07/31/13 &gt; to consolidate ...</td>\n",
       "      <td>0.5994</td>\n",
       "    </tr>\n",
       "  </tbody>\n",
       "</table>\n",
       "</div>"
      ],
      "text/plain": [
       "                                                desc_clean  \\\n",
       "285485     Borrower added on 09/01/12 > Finish an exist...   \n",
       "237224     Borrower added on 04/01/13 > consolodating c...   \n",
       "2413089    Borrower added on 06/11/11 > I have much hig...   \n",
       "182421     Borrower added on 08/27/13 > debt consolidat...   \n",
       "192276     Borrower added on 07/31/13 > to consolidate ...   \n",
       "\n",
       "         desc_compound_score  \n",
       "285485                0.4201  \n",
       "237224                0.3818  \n",
       "2413089               0.8020  \n",
       "182421               -0.3612  \n",
       "192276                0.5994  "
      ]
     },
     "execution_count": 118,
     "metadata": {},
     "output_type": "execute_result"
    }
   ],
   "source": [
    "final_status_loans_df[final_status_loans_df[\"desc_compound_score\"]!=0][[\"desc_clean\",\"desc_compound_score\"]].sample(5)"
   ]
  },
  {
   "cell_type": "code",
   "execution_count": 302,
   "metadata": {},
   "outputs": [
    {
     "data": {
      "text/plain": [
       "Fully Paid            1438676\n",
       "Current                942153\n",
       "Charged Off            350978\n",
       "Late (31-120 days)      20265\n",
       "In Grace Period         19974\n",
       "Late (16-30 days)        6198\n",
       "Default                   531\n",
       "Name: loan_status, dtype: int64"
      ]
     },
     "execution_count": 302,
     "metadata": {},
     "output_type": "execute_result"
    }
   ],
   "source": [
    "all_data_df[\"loan_status\"].value_counts()"
   ]
  },
  {
   "cell_type": "code",
   "execution_count": 303,
   "metadata": {},
   "outputs": [],
   "source": [
    "final_status_loans_df[\"sentiment_buckets\"] = pd.cut(final_status_loans_df[\"desc_compound_score\"],15)"
   ]
  },
  {
   "cell_type": "code",
   "execution_count": 304,
   "metadata": {},
   "outputs": [
    {
     "data": {
      "text/plain": [
       "sentiment_buckets\n",
       "(-0.977, -0.843]     0.184211\n",
       "(-0.843, -0.712]     0.191176\n",
       "(-0.712, -0.58]      0.169759\n",
       "(-0.58, -0.448]      0.154755\n",
       "(-0.448, -0.317]     0.176486\n",
       "(-0.317, -0.185]     0.157578\n",
       "(-0.185, -0.0536]    0.159333\n",
       "(-0.0536, 0.078]     0.189511\n",
       "(0.078, 0.21]        0.140039\n",
       "(0.21, 0.341]        0.169840\n",
       "(0.341, 0.473]       0.151185\n",
       "(0.473, 0.605]       0.148754\n",
       "(0.605, 0.736]       0.144063\n",
       "(0.736, 0.868]       0.147439\n",
       "(0.868, 0.999]       0.150987\n",
       "Name: charge_off, dtype: float64"
      ]
     },
     "execution_count": 304,
     "metadata": {},
     "output_type": "execute_result"
    }
   ],
   "source": [
    "final_status_loans_df.groupby(\"sentiment_buckets\")[\"charge_off\"].mean()"
   ]
  },
  {
   "cell_type": "markdown",
   "metadata": {},
   "source": [
    "#### Percent of cards with balances greater than 75% of limit"
   ]
  },
  {
   "cell_type": "code",
   "execution_count": 122,
   "metadata": {},
   "outputs": [
    {
     "data": {
      "text/plain": [
       "61660"
      ]
     },
     "execution_count": 122,
     "metadata": {},
     "output_type": "execute_result"
    }
   ],
   "source": [
    "# Check for na and nulls\n",
    "final_status_loans_df[\"percent_bc_gt_75\"].isna().sum()"
   ]
  },
  {
   "cell_type": "code",
   "execution_count": 123,
   "metadata": {},
   "outputs": [],
   "source": [
    "final_status_loans_df[\"test_percent_bc_gt_75\"] = final_status_loans_df[\"percent_bc_gt_75\"].fillna(final_status_loans_df[\"percent_bc_gt_75\"].mean())\n"
   ]
  },
  {
   "cell_type": "code",
   "execution_count": 126,
   "metadata": {},
   "outputs": [],
   "source": [
    "# FICO score and percent_bc_gt_75 are correlated, fill na values with mode of value for given FICO score\n",
    "final_status_loans_df[\"percent_bc_gt_75\"].fillna(final_status_loans_df[\"percent_bc_gt_75\"].mode(),inplace=True)\n"
   ]
  },
  {
   "cell_type": "code",
   "execution_count": 127,
   "metadata": {},
   "outputs": [
    {
     "data": {
      "text/html": [
       "<div>\n",
       "<style scoped>\n",
       "    .dataframe tbody tr th:only-of-type {\n",
       "        vertical-align: middle;\n",
       "    }\n",
       "\n",
       "    .dataframe tbody tr th {\n",
       "        vertical-align: top;\n",
       "    }\n",
       "\n",
       "    .dataframe thead th {\n",
       "        text-align: right;\n",
       "    }\n",
       "</style>\n",
       "<table border=\"1\" class=\"dataframe\">\n",
       "  <thead>\n",
       "    <tr style=\"text-align: right;\">\n",
       "      <th></th>\n",
       "      <th>percent_bc_gt_75</th>\n",
       "      <th>FICO_avg</th>\n",
       "      <th>tax_liens</th>\n",
       "      <th>emp_length</th>\n",
       "    </tr>\n",
       "  </thead>\n",
       "  <tbody>\n",
       "    <tr>\n",
       "      <th>percent_bc_gt_75</th>\n",
       "      <td>1.000000</td>\n",
       "      <td>-0.418944</td>\n",
       "      <td>-0.012288</td>\n",
       "      <td>0.029181</td>\n",
       "    </tr>\n",
       "    <tr>\n",
       "      <th>FICO_avg</th>\n",
       "      <td>-0.418944</td>\n",
       "      <td>1.000000</td>\n",
       "      <td>-0.058947</td>\n",
       "      <td>0.019347</td>\n",
       "    </tr>\n",
       "    <tr>\n",
       "      <th>tax_liens</th>\n",
       "      <td>-0.012288</td>\n",
       "      <td>-0.058947</td>\n",
       "      <td>1.000000</td>\n",
       "      <td>0.013479</td>\n",
       "    </tr>\n",
       "    <tr>\n",
       "      <th>emp_length</th>\n",
       "      <td>0.029181</td>\n",
       "      <td>0.019347</td>\n",
       "      <td>0.013479</td>\n",
       "      <td>1.000000</td>\n",
       "    </tr>\n",
       "  </tbody>\n",
       "</table>\n",
       "</div>"
      ],
      "text/plain": [
       "                  percent_bc_gt_75  FICO_avg  tax_liens  emp_length\n",
       "percent_bc_gt_75          1.000000 -0.418944  -0.012288    0.029181\n",
       "FICO_avg                 -0.418944  1.000000  -0.058947    0.019347\n",
       "tax_liens                -0.012288 -0.058947   1.000000    0.013479\n",
       "emp_length                0.029181  0.019347   0.013479    1.000000"
      ]
     },
     "execution_count": 127,
     "metadata": {},
     "output_type": "execute_result"
    }
   ],
   "source": [
    "final_status_loans_df[[\"percent_bc_gt_75\",\"FICO_avg\",\"tax_liens\",\"emp_length\"]].corr()"
   ]
  },
  {
   "cell_type": "markdown",
   "metadata": {},
   "source": [
    "#### Home Ownership"
   ]
  },
  {
   "cell_type": "code",
   "execution_count": 128,
   "metadata": {},
   "outputs": [
    {
     "data": {
      "text/plain": [
       "OTHER       0.260000\n",
       "RENT        0.228360\n",
       "OWN         0.202718\n",
       "ANY         0.189885\n",
       "MORTGAGE    0.169621\n",
       "NONE        0.152174\n",
       "Name: home_ownership, dtype: float64"
      ]
     },
     "execution_count": 128,
     "metadata": {},
     "output_type": "execute_result"
    }
   ],
   "source": [
    "# Check relationship between home_ownership status and charge_off rates\n",
    "(final_status_loans_df[final_status_loans_df[\"charge_off\"]==1][\"home_ownership\"].value_counts()\\\n",
    "                                         /final_status_loans_df[\"home_ownership\"].value_counts()).sort_values(ascending=False)"
   ]
  },
  {
   "cell_type": "code",
   "execution_count": 129,
   "metadata": {},
   "outputs": [],
   "source": [
    "# Create home_owner variable, 1 if home_ownership = Mortgage or Own\n",
    "final_status_loans_df[\"renter_or_other\"] = final_status_loans_df[\"home_ownership\"].isin([\"RENT\",\"OTHER\"]).astype(\"int\")"
   ]
  },
  {
   "cell_type": "code",
   "execution_count": 130,
   "metadata": {},
   "outputs": [],
   "source": [
    "# Address # of mortgage accounts variable\n",
    "final_status_loans_df[\"mort_acc_clean\"] = final_status_loans_df[\"mort_acc\"]\n",
    "# If mort_acc is na, and loan is labeled MORTGAGE, set mort_acc to 1\n",
    "final_status_loans_df.loc[(final_status_loans_df[\"mort_acc_clean\"].isna()) &\\\n",
    "                                         (final_status_loans_df[\"home_ownership\"]==\"MORTGAGE\"),\"mort_acc_clean\"]=1\n",
    "# Otherwise, set nas to zero\n",
    "final_status_loans_df.loc[final_status_loans_df[\"mort_acc_clean\"].isna() ,\"mort_acc_clean\"]=0"
   ]
  },
  {
   "cell_type": "markdown",
   "metadata": {},
   "source": [
    "#### Delinquencies"
   ]
  },
  {
   "cell_type": "code",
   "execution_count": 131,
   "metadata": {},
   "outputs": [
    {
     "data": {
      "text/plain": [
       "903214"
      ]
     },
     "execution_count": 131,
     "metadata": {},
     "output_type": "execute_result"
    }
   ],
   "source": [
    "final_status_loans_df[\"mths_since_last_delinq\"].isna().sum() "
   ]
  },
  {
   "cell_type": "code",
   "execution_count": 132,
   "metadata": {},
   "outputs": [],
   "source": [
    "final_status_loans_df[\"mths_since_last_delinq_clean\"] = final_status_loans_df[\"mths_since_last_delinq\"].fillna(9999)"
   ]
  },
  {
   "cell_type": "code",
   "execution_count": 133,
   "metadata": {},
   "outputs": [
    {
     "data": {
      "text/plain": [
       "59983"
      ]
     },
     "execution_count": 133,
     "metadata": {},
     "output_type": "execute_result"
    }
   ],
   "source": [
    "final_status_loans_df[\"mths_since_recent_bc\"].isna().sum()"
   ]
  },
  {
   "cell_type": "code",
   "execution_count": 134,
   "metadata": {},
   "outputs": [
    {
     "data": {
      "text/plain": [
       "0"
      ]
     },
     "execution_count": 134,
     "metadata": {},
     "output_type": "execute_result"
    }
   ],
   "source": [
    "final_status_loans_df[\"delinq_2yrs\"].isna().sum() "
   ]
  },
  {
   "cell_type": "code",
   "execution_count": 135,
   "metadata": {},
   "outputs": [
    {
     "data": {
      "text/plain": [
       "0.0     0.193752\n",
       "1.0     0.203969\n",
       "2.0     0.212046\n",
       "3.0     0.222130\n",
       "4.0     0.221455\n",
       "5.0     0.224700\n",
       "6.0     0.213147\n",
       "7.0     0.234524\n",
       "8.0     0.218872\n",
       "9.0     0.227273\n",
       "10.0    0.208716\n",
       "11.0    0.246575\n",
       "12.0    0.271845\n",
       "13.0    0.234848\n",
       "14.0    0.229358\n",
       "15.0    0.194444\n",
       "16.0    0.279070\n",
       "17.0    0.250000\n",
       "18.0    0.172414\n",
       "19.0    0.277778\n",
       "20.0    0.230769\n",
       "21.0    0.428571\n",
       "22.0         NaN\n",
       "23.0    0.500000\n",
       "24.0         NaN\n",
       "25.0    0.500000\n",
       "26.0         NaN\n",
       "27.0    1.000000\n",
       "28.0         NaN\n",
       "29.0         NaN\n",
       "30.0         NaN\n",
       "32.0         NaN\n",
       "36.0    1.000000\n",
       "39.0         NaN\n",
       "42.0         NaN\n",
       "Name: delinq_2yrs, dtype: float64"
      ]
     },
     "execution_count": 135,
     "metadata": {},
     "output_type": "execute_result"
    }
   ],
   "source": [
    "final_status_loans_df[final_status_loans_df[\"charge_off\"]==1][\"delinq_2yrs\"].value_counts()/final_status_loans_df[\"delinq_2yrs\"].value_counts()"
   ]
  },
  {
   "cell_type": "code",
   "execution_count": 136,
   "metadata": {},
   "outputs": [
    {
     "data": {
      "text/plain": [
       "0"
      ]
     },
     "execution_count": 136,
     "metadata": {},
     "output_type": "execute_result"
    }
   ],
   "source": [
    "final_status_loans_df[\"delinq_amnt\"].isna().sum() "
   ]
  },
  {
   "cell_type": "code",
   "execution_count": 137,
   "metadata": {},
   "outputs": [],
   "source": [
    "final_status_loans_df[\"mths_since_recent_bc_clean\"] = final_status_loans_df[\"mths_since_recent_bc\"].fillna(final_status_loans_df[\"mths_since_recent_bc\"].mean())"
   ]
  },
  {
   "cell_type": "code",
   "execution_count": 138,
   "metadata": {},
   "outputs": [
    {
     "data": {
      "text/plain": [
       "263.0    0.035714\n",
       "265.0    0.038462\n",
       "300.0    0.047619\n",
       "244.0    0.051282\n",
       "290.0    0.052632\n",
       "           ...   \n",
       "612.0         NaN\n",
       "615.0         NaN\n",
       "616.0         NaN\n",
       "639.0         NaN\n",
       "656.0         NaN\n",
       "Name: mths_since_recent_bc_clean, Length: 513, dtype: float64"
      ]
     },
     "execution_count": 138,
     "metadata": {},
     "output_type": "execute_result"
    }
   ],
   "source": [
    "# Check relationship delinquencies and charge_off rates\n",
    "(final_status_loans_df[final_status_loans_df[\"charge_off\"]==1][\"mths_since_recent_bc_clean\"].value_counts()\\\n",
    "                                         /final_status_loans_df[\"mths_since_recent_bc_clean\"].value_counts()).sort_values()"
   ]
  },
  {
   "cell_type": "markdown",
   "metadata": {},
   "source": [
    "#### Number of days since Earliest Credit Line "
   ]
  },
  {
   "cell_type": "code",
   "execution_count": 144,
   "metadata": {},
   "outputs": [],
   "source": [
    "final_status_loans_df[\"earliest_cr_line\"] = pd.to_datetime(final_status_loans_df[\"earliest_cr_line\"])"
   ]
  },
  {
   "cell_type": "code",
   "execution_count": 145,
   "metadata": {},
   "outputs": [],
   "source": [
    "final_status_loans_df[\"earliest_cr_line_days\"] = (final_status_loans_df[\"issue_d\"] - final_status_loans_df[\"earliest_cr_line\"]).dt.days"
   ]
  },
  {
   "cell_type": "markdown",
   "metadata": {},
   "source": [
    "### Create is_joint feature (Joint loans are more likely to be charged off)\n",
    "Reason behind that is not immediately clear"
   ]
  },
  {
   "cell_type": "code",
   "execution_count": 151,
   "metadata": {},
   "outputs": [
    {
     "data": {
      "text/plain": [
       "Individual    0.194521\n",
       "Joint App     0.251091\n",
       "Name: application_type, dtype: float64"
      ]
     },
     "execution_count": 151,
     "metadata": {},
     "output_type": "execute_result"
    }
   ],
   "source": [
    "final_status_loans_df[final_status_loans_df[\"charge_off\"]==1][\"application_type\"].value_counts()/\\\n",
    "final_status_loans_df[\"application_type\"].value_counts()"
   ]
  },
  {
   "cell_type": "code",
   "execution_count": 154,
   "metadata": {},
   "outputs": [],
   "source": [
    "final_status_loans_df[\"is_joint\"] = (final_status_loans_df[\"application_type\"]==\"Joint App\").astype(\"int\")"
   ]
  },
  {
   "cell_type": "markdown",
   "metadata": {},
   "source": [
    "#### Derogatory Public Records"
   ]
  },
  {
   "cell_type": "code",
   "execution_count": 305,
   "metadata": {},
   "outputs": [
    {
     "data": {
      "text/plain": [
       "0"
      ]
     },
     "execution_count": 305,
     "metadata": {},
     "output_type": "execute_result"
    }
   ],
   "source": [
    "final_status_loans_df[\"pub_rec\"].isna().sum() "
   ]
  },
  {
   "cell_type": "code",
   "execution_count": 306,
   "metadata": {},
   "outputs": [
    {
     "data": {
      "image/png": "[encoded data removed]",
      "text/plain": [
       "<Figure size 720x360 with 1 Axes>"
      ]
     },
     "metadata": {
      "needs_background": "light"
     },
     "output_type": "display_data"
    }
   ],
   "source": [
    "# Check relationship between derogatory public records and charge_off rates\n",
    "plt.figure(figsize=(10,5))\n",
    "(final_status_loans_df[final_status_loans_df[\"charge_off\"]==0][\"pub_rec\"].value_counts()\\\n",
    "                                         /final_status_loans_df[\"pub_rec\"].value_counts()).sort_index().plot.bar()\n",
    "plt.ylabel(\"Charge off rate\")\n",
    "plt.xlabel(\"Derogatory public records\");"
   ]
  },
  {
   "cell_type": "markdown",
   "metadata": {},
   "source": [
    "#### Inquiries in the last 6 months"
   ]
  },
  {
   "cell_type": "code",
   "execution_count": null,
   "metadata": {},
   "outputs": [],
   "source": [
    "final_status_loans_df[\"inq_last_6mths\"].fillna(final_status_loans_df[\"inq_last_6mths\"].mode(),inplace=True)"
   ]
  },
  {
   "cell_type": "code",
   "execution_count": 246,
   "metadata": {},
   "outputs": [
    {
     "data": {
      "text/plain": [
       "0"
      ]
     },
     "execution_count": 246,
     "metadata": {},
     "output_type": "execute_result"
    }
   ],
   "source": [
    "final_status_loans_df[\"inq_last_6mths\"].isna().sum()"
   ]
  },
  {
   "cell_type": "code",
   "execution_count": 307,
   "metadata": {},
   "outputs": [
    {
     "data": {
      "image/png": "[encoded data removed]",
      "text/plain": [
       "<Figure size 432x288 with 1 Axes>"
      ]
     },
     "metadata": {
      "needs_background": "light"
     },
     "output_type": "display_data"
    }
   ],
   "source": [
    "(final_status_loans_df[final_status_loans_df[\"charge_off\"]==1][\"inq_last_6mths\"].value_counts()/\\\n",
    "final_status_loans_df[\"inq_last_6mths\"].value_counts()).plot.bar()\n",
    "plt.xlabel(\"inq_last_6mths\")\n",
    "plt.ylabel(\"charge off rate\");"
   ]
  },
  {
   "cell_type": "markdown",
   "metadata": {},
   "source": [
    "#### Tax Liens"
   ]
  },
  {
   "cell_type": "code",
   "execution_count": 180,
   "metadata": {},
   "outputs": [
    {
     "data": {
      "text/plain": [
       "0"
      ]
     },
     "execution_count": 180,
     "metadata": {},
     "output_type": "execute_result"
    }
   ],
   "source": [
    "final_status_loans_df[\"tax_liens\"].isna().sum()"
   ]
  },
  {
   "cell_type": "code",
   "execution_count": 181,
   "metadata": {},
   "outputs": [],
   "source": [
    "final_status_loans_df[\"tax_liens_clean\"] = final_status_loans_df[\"tax_liens\"].fillna(final_status_loans_df[\"tax_liens\"].mean())"
   ]
  },
  {
   "cell_type": "code",
   "execution_count": 308,
   "metadata": {},
   "outputs": [],
   "source": [
    "tax_liens = (final_status_loans_df[final_status_loans_df[\"charge_off\"]==1][\"tax_liens_clean\"].value_counts()/\\\n",
    "final_status_loans_df[\"tax_liens_clean\"].value_counts())"
   ]
  },
  {
   "cell_type": "code",
   "execution_count": 309,
   "metadata": {},
   "outputs": [
    {
     "data": {
      "image/png": "[encoded data removed]",
      "text/plain": [
       "<Figure size 432x288 with 1 Axes>"
      ]
     },
     "metadata": {
      "needs_background": "light"
     },
     "output_type": "display_data"
    }
   ],
   "source": [
    "plt.scatter(tax_liens.index,tax_liens.values)\n",
    "plt.xlabel(\"tax liens\")\n",
    "plt.ylabel(\"charge off rate\");"
   ]
  },
  {
   "cell_type": "markdown",
   "metadata": {},
   "source": [
    "#### Current balance to credit limit"
   ]
  },
  {
   "cell_type": "code",
   "execution_count": 194,
   "metadata": {},
   "outputs": [],
   "source": [
    "final_status_loans_df[\"all_util_clean\"] = final_status_loans_df[\"all_util\"].fillna(\n",
    "    final_status_loans_df[\"all_util\"].mean())"
   ]
  },
  {
   "cell_type": "code",
   "execution_count": 310,
   "metadata": {},
   "outputs": [
    {
     "data": {
      "image/png": "[encoded data removed]",
      "text/plain": [
       "<Figure size 432x288 with 1 Axes>"
      ]
     },
     "metadata": {
      "needs_background": "light"
     },
     "output_type": "display_data"
    }
   ],
   "source": [
    "all_util = final_status_loans_df[final_status_loans_df[\"charge_off\"]==1][\"all_util_clean\"].value_counts()/\\\n",
    "final_status_loans_df[\"all_util_clean\"].value_counts()\n",
    "\n",
    "plt.scatter(all_util.index,all_util.values)\n",
    "plt.xlabel(\"credit utilization\")\n",
    "plt.ylabel(\"charge off rate\");"
   ]
  },
  {
   "cell_type": "markdown",
   "metadata": {},
   "source": [
    "### Subgrade"
   ]
  },
  {
   "cell_type": "code",
   "execution_count": 311,
   "metadata": {},
   "outputs": [],
   "source": [
    "final_status_loans_df[\"subgrade_map\"] = final_status_loans_df[\"sub_grade\"].map(\n",
    "    dict(zip(sorted(final_status_loans_df[\"sub_grade\"].unique()),range(0,36))))"
   ]
  },
  {
   "cell_type": "markdown",
   "metadata": {},
   "source": [
    "### Final Pickle"
   ]
  },
  {
   "cell_type": "code",
   "execution_count": 312,
   "metadata": {},
   "outputs": [],
   "source": [
    "# Save pickle file\n",
    "with open(directory + \"pickle files/df_for_model.pkl\",\"wb\") as picklefile:\n",
    "    pickle.dump(final_status_loans_df, picklefile)"
   ]
  },
  {
   "cell_type": "code",
   "execution_count": 3,
   "metadata": {},
   "outputs": [],
   "source": [
    "# Open pickle file\n",
    "with open(directory + \"pickle files/df_for_model.pkl\",\"rb\") as picklefile:\n",
    "    final_status_loans_df = pickle.load(picklefile)"
   ]
  },
  {
   "cell_type": "code",
   "execution_count": 313,
   "metadata": {},
   "outputs": [],
   "source": [
    "final_status_loans_df.to_csv(directory + \"LendingClub Data/csv/final_status_loans_df.csv\")"
   ]
  },
  {
   "cell_type": "markdown",
   "metadata": {},
   "source": [
    "### Declare Features and Target\n",
    "Split df into train, validate, and test sets -- using 60% train, 20% validate, 20% test "
   ]
  },
  {
   "cell_type": "code",
   "execution_count": 4,
   "metadata": {},
   "outputs": [],
   "source": [
    "# Sort by issue_d to ensure time series consistency\n",
    "final_status_loans_df = final_status_loans_df.sort_values(by=\"issue_d\")"
   ]
  },
  {
   "cell_type": "code",
   "execution_count": 5,
   "metadata": {},
   "outputs": [],
   "source": [
    "features = [\"total_dti\",\"total_FICO_avg\",\"renter_or_other\",\"mort_acc_clean\",\"mths_since_last_delinq_clean\",\n",
    "            \"emp_length\",\"inq_last_6mths\",\"is_joint\",\"delinq_2yrs\",\"earliest_cr_line_days\",\"pub_rec\",\n",
    "            \"is_medical\",\"subgrade_map\",\"tax_liens_clean\",\"all_util_clean\",\"purpose_credit_card\",\n",
    "            \"purpose_debt_consolidation\",\"purpose_other\",\"purpose_car\",\"purpose_vacation\", \"purpose_house\",\n",
    "            \"purpose_home_improvement\",\"purpose_major_purchase\",\"purpose_small_business\",\n",
    "            \"purpose_renewable_energy\",\"purpose_medical\",\"purpose_moving\",\"purpose_wedding\",\n",
    "            \"purpose_educational\"]\n",
    "\n",
    "train_val, validate, test = np.split(final_status_loans_df, [int(0.6*len(final_status_loans_df)), \n",
    "                                                                   int(0.8*len(final_status_loans_df))])"
   ]
  },
  {
   "cell_type": "code",
   "execution_count": 6,
   "metadata": {},
   "outputs": [
    {
     "data": {
      "text/plain": [
       "True"
      ]
     },
     "execution_count": 6,
     "metadata": {},
     "output_type": "execute_result"
    }
   ],
   "source": [
    "# Ensure all data has been included in split\n",
    "train_val.shape[0] + validate.shape[0] + test.shape[0] == final_status_loans_df.shape[0]"
   ]
  },
  {
   "cell_type": "code",
   "execution_count": 7,
   "metadata": {},
   "outputs": [],
   "source": [
    "X_train_val = train_val[features]\n",
    "X_validate = validate[features]\n",
    "X_test = test[features]\n",
    "\n",
    "y_train_val = train_val[\"charge_off\"]\n",
    "y_validate = validate[\"charge_off\"]\n",
    "y_test = test[\"charge_off\"]"
   ]
  },
  {
   "cell_type": "code",
   "execution_count": 8,
   "metadata": {},
   "outputs": [
    {
     "name": "stdout",
     "output_type": "stream",
     "text": [
      "X_train: 753659\n",
      "y_train: 753659\n",
      "\n",
      "X_validate: 251220\n",
      "y_validate: 251220\n",
      "\n",
      "X_test: 251220\n",
      "y_test: 251220\n"
     ]
    }
   ],
   "source": [
    "print(f\"X_train: {X_train_val.shape[0]}\")\n",
    "print(f\"y_train: {y_train_val.shape[0]}\")\n",
    "print(\"\")\n",
    "\n",
    "print(f\"X_validate: {X_validate.shape[0]}\")\n",
    "print(f\"y_validate: {y_validate.shape[0]}\")\n",
    "print(\"\")\n",
    "\n",
    "print(f\"X_test: {X_test.shape[0]}\")\n",
    "print(f\"y_test: {y_test.shape[0]}\")"
   ]
  },
  {
   "cell_type": "code",
   "execution_count": 9,
   "metadata": {},
   "outputs": [],
   "source": [
    "# Scale data for Logistic Regression\n",
    "scaler = StandardScaler()\n",
    "X_train_val_scaled = scaler.fit_transform(X_train_val)\n",
    "X_validate_scaled = scaler.transform(X_validate)"
   ]
  },
  {
   "cell_type": "markdown",
   "metadata": {},
   "source": [
    "### Use Cross-Validation to select model that maximizes F_Beta score\n",
    "Looking to balance Precision with Recall"
   ]
  },
  {
   "cell_type": "markdown",
   "metadata": {},
   "source": [
    "### Start by evaluating Logistic Regression model"
   ]
  },
  {
   "cell_type": "code",
   "execution_count": 12,
   "metadata": {},
   "outputs": [
    {
     "data": {
      "text/plain": [
       "{'class_weight': {0: 0.1, 1: 0.9}}"
      ]
     },
     "execution_count": 12,
     "metadata": {},
     "output_type": "execute_result"
    }
   ],
   "source": [
    "# Calculate FBeta score on validation data using class_weight found with GridSearchCV\n",
    "fbeta = make_scorer(fbeta_score, beta=beta)\n",
    "\n",
    "gsc_lr = GridSearchCV(LogisticRegression(random_state=4), \n",
    "                   param_grid={\"class_weight\": [{0: weight, 1: 1-weight} for weight in np.arange(0.1,1,0.1)]},\n",
    "                  scoring = fbeta).fit(X_train_val_scaled,y_train_val)\n",
    "gsc_lr.best_params_"
   ]
  },
  {
   "cell_type": "code",
   "execution_count": 13,
   "metadata": {},
   "outputs": [],
   "source": [
    "logistic_regression = LogisticRegression(random_state=4, class_weight = gsc_lr.best_params_[\"class_weight\"])\n",
    "logistic_regression.fit(X_train_val_scaled, y_train_val)\n",
    "\n",
    "threshold = 0.50\n",
    "y_proba_lr = logistic_regression.predict_proba(X_validate_scaled)[:,1]\n",
    "\n",
    "y_preds_lr = (y_proba_lr > threshold).astype(int)"
   ]
  },
  {
   "cell_type": "code",
   "execution_count": 14,
   "metadata": {},
   "outputs": [],
   "source": [
    "def plot_ROC(y_pred, y_prob, y_test, title):\n",
    "    fpr, tpr, _ = roc_curve(y_test, y_prob)\n",
    "    plt.plot(fpr, tpr, label=f\"{title}\")\n",
    "\n",
    "    x = np.linspace(0,1,1000)\n",
    "    plt.plot(x, x, linestyle = \"--\")\n",
    "\n",
    "    plt.title(title, weight=\"bold\")\n",
    "    plt.xlabel(\"False Positive Rate\")\n",
    "    plt.ylabel(\"True Positive Rate\")\n",
    "    plt.savefig(directory + \"/Graphs/\" + title +\".png\", dpi=300)\n",
    "    \n",
    "    print(f\"F_{beta:0.2f} Score: {fbeta_score(y_test, y_pred, beta=3):.3f}\")\n",
    "    print(f\"Recall: {recall_score(y_test, y_pred):.3f}\")\n",
    "    print(f\"Precision: {precision_score(y_test, y_pred):.3f}\")\n",
    "    print(f\"ROC AUC: {roc_auc_score(y_test, y_prob):.3f}\")\n",
    "    print(f\"Accuracy: {accuracy_score(y_test, y_pred):.3f}\")"
   ]
  },
  {
   "cell_type": "code",
   "execution_count": 15,
   "metadata": {},
   "outputs": [
    {
     "name": "stdout",
     "output_type": "stream",
     "text": [
      "F_2.86 Score: 0.611\n",
      "Recall: 0.740\n",
      "Precision: 0.238\n",
      "ROC AUC: 0.566\n",
      "Accuracy: 0.469\n"
     ]
    },
    {
     "data": {
      "image/png": "[encoded data removed]",
      "text/plain": [
       "<Figure size 432x288 with 1 Axes>"
      ]
     },
     "metadata": {
      "needs_background": "light"
     },
     "output_type": "display_data"
    }
   ],
   "source": [
    "plot_ROC(y_preds_lr, y_proba_lr, y_validate, \"Logistic Regression ROC Curve\")"
   ]
  },
  {
   "cell_type": "code",
   "execution_count": 16,
   "metadata": {},
   "outputs": [],
   "source": [
    "# Create heat map of confusion matrix\n",
    "# Confusion Matrix, Precision, and Recall scores\n",
    "def create_confusion_matrix(y_test, y_pred, title):\n",
    "    c_matrix = confusion_matrix(y_test, y_pred, normalize=\"all\")\n",
    "    plt.figure()\n",
    "    sns.heatmap(c_matrix,cmap=plt.cm.Blues, annot=True, square=True,\n",
    "    xticklabels=['Fully Paid', 'Charged Off'],\n",
    "    yticklabels=['Fully Paid', 'Charged Off'])\n",
    "    plt.title(title,weight=\"bold\")\n",
    "    plt.xlabel('prediction',weight=\"bold\",labelpad=10)\n",
    "    plt.ylabel('actual',weight=\"bold\",labelpad=10)"
   ]
  },
  {
   "cell_type": "code",
   "execution_count": 17,
   "metadata": {},
   "outputs": [
    {
     "data": {
      "image/png": "[encoded data removed]",
      "text/plain": [
       "<Figure size 432x288 with 2 Axes>"
      ]
     },
     "metadata": {
      "needs_background": "light"
     },
     "output_type": "display_data"
    }
   ],
   "source": [
    "fig = create_confusion_matrix(y_validate, y_preds_lr, \"Logistic Regression\")\n",
    "plt.savefig(directory + 'Graphs/Log_CM.png',dpi=300);"
   ]
  },
  {
   "cell_type": "markdown",
   "metadata": {},
   "source": [
    "### Test Random Forest on validation set "
   ]
  },
  {
   "cell_type": "code",
   "execution_count": 19,
   "metadata": {},
   "outputs": [],
   "source": [
    "# Randomized search to find hyperparameters that maximize FBeta\n",
    "\n",
    "# Number of trees in random forest\n",
    "rscv_params = {\"n_estimators\" : [int(x) for x in np.linspace(start = 100, stop = 1000, num = 10)],\n",
    "          # Number of features to consider at every split\n",
    "          \"max_features\" : [\"auto\", \"sqrt\"],\n",
    "          # Maximum number of levels in tree\n",
    "          \"max_depth\" : [int(x) for x in np.linspace(1, 100, num = 11)],\n",
    "          # Minimum number of samples required to split a node\n",
    "          \"min_samples_split\" : range(2,11),\n",
    "          # Minimum number of samples required at each leaf node\n",
    "          \"min_samples_leaf\" : range(1,6),\n",
    "          \"class_weight\":[{0: weight, 1: 1-weight} for weight in np.arange(0.1,1,0.1)]}\n",
    "\n",
    "fbeta = make_scorer(fbeta_score, beta=beta)\n",
    "\n",
    "rscv = RandomizedSearchCV(RandomForestClassifier(random_state=4), rscv_params, cv=3, scoring=fbeta)\n",
    "rscv.fit(X_train_val, y_train_val)\n",
    "rscv.best_params_"
   ]
  },
  {
   "cell_type": "code",
   "execution_count": 20,
   "metadata": {},
   "outputs": [
    {
     "data": {
      "text/plain": [
       "{'n_estimators': 500,\n",
       " 'min_samples_split': 3,\n",
       " 'min_samples_leaf': 5,\n",
       " 'max_features': 'sqrt',\n",
       " 'max_depth': 10,\n",
       " 'class_weight': {0: 0.1, 1: 0.9}}"
      ]
     },
     "execution_count": 20,
     "metadata": {},
     "output_type": "execute_result"
    }
   ],
   "source": [
    "rscv.best_params_"
   ]
  },
  {
   "cell_type": "code",
   "execution_count": 21,
   "metadata": {},
   "outputs": [
    {
     "ename": "KeyboardInterrupt",
     "evalue": "",
     "output_type": "error",
     "traceback": [
      "\u001b[0;31m---------------------------------------------------------------------------\u001b[0m",
      "\u001b[0;31mKeyboardInterrupt\u001b[0m                         Traceback (most recent call last)",
      "\u001b[0;32m<ipython-input-21-a0095f7df0a5>\u001b[0m in \u001b[0;36m<module>\u001b[0;34m\u001b[0m\n\u001b[1;32m     12\u001b[0m \u001b[0;34m\u001b[0m\u001b[0m\n\u001b[1;32m     13\u001b[0m \u001b[0mgscv_rf\u001b[0m \u001b[0;34m=\u001b[0m \u001b[0mGridSearchCV\u001b[0m\u001b[0;34m(\u001b[0m\u001b[0mRandomForestClassifier\u001b[0m\u001b[0;34m(\u001b[0m\u001b[0mrandom_state\u001b[0m\u001b[0;34m=\u001b[0m\u001b[0;36m4\u001b[0m\u001b[0;34m)\u001b[0m\u001b[0;34m,\u001b[0m \u001b[0mparam_grid\u001b[0m \u001b[0;34m=\u001b[0m \u001b[0mgscv_params\u001b[0m\u001b[0;34m,\u001b[0m \u001b[0mscoring\u001b[0m\u001b[0;34m=\u001b[0m\u001b[0mfbeta\u001b[0m\u001b[0;34m,\u001b[0m \u001b[0mcv\u001b[0m\u001b[0;34m=\u001b[0m\u001b[0;36m3\u001b[0m\u001b[0;34m)\u001b[0m\u001b[0;34m\u001b[0m\u001b[0;34m\u001b[0m\u001b[0m\n\u001b[0;32m---> 14\u001b[0;31m \u001b[0mgscv_rf\u001b[0m\u001b[0;34m.\u001b[0m\u001b[0mfit\u001b[0m\u001b[0;34m(\u001b[0m\u001b[0mX_train_val\u001b[0m\u001b[0;34m,\u001b[0m \u001b[0my_train_val\u001b[0m\u001b[0;34m)\u001b[0m\u001b[0;34m\u001b[0m\u001b[0;34m\u001b[0m\u001b[0m\n\u001b[0m\u001b[1;32m     15\u001b[0m \u001b[0mgscv_rf\u001b[0m\u001b[0;34m.\u001b[0m\u001b[0mbest_params_\u001b[0m\u001b[0;34m\u001b[0m\u001b[0;34m\u001b[0m\u001b[0m\n",
      "\u001b[0;32m~/opt/anaconda3/lib/python3.7/site-packages/sklearn/model_selection/_search.py\u001b[0m in \u001b[0;36mfit\u001b[0;34m(self, X, y, groups, **fit_params)\u001b[0m\n\u001b[1;32m    708\u001b[0m                 \u001b[0;32mreturn\u001b[0m \u001b[0mresults\u001b[0m\u001b[0;34m\u001b[0m\u001b[0;34m\u001b[0m\u001b[0m\n\u001b[1;32m    709\u001b[0m \u001b[0;34m\u001b[0m\u001b[0m\n\u001b[0;32m--> 710\u001b[0;31m             \u001b[0mself\u001b[0m\u001b[0;34m.\u001b[0m\u001b[0m_run_search\u001b[0m\u001b[0;34m(\u001b[0m\u001b[0mevaluate_candidates\u001b[0m\u001b[0;34m)\u001b[0m\u001b[0;34m\u001b[0m\u001b[0;34m\u001b[0m\u001b[0m\n\u001b[0m\u001b[1;32m    711\u001b[0m \u001b[0;34m\u001b[0m\u001b[0m\n\u001b[1;32m    712\u001b[0m         \u001b[0;31m# For multi-metric evaluation, store the best_index_, best_params_ and\u001b[0m\u001b[0;34m\u001b[0m\u001b[0;34m\u001b[0m\u001b[0;34m\u001b[0m\u001b[0m\n",
      "\u001b[0;32m~/opt/anaconda3/lib/python3.7/site-packages/sklearn/model_selection/_search.py\u001b[0m in \u001b[0;36m_run_search\u001b[0;34m(self, evaluate_candidates)\u001b[0m\n\u001b[1;32m   1149\u001b[0m     \u001b[0;32mdef\u001b[0m \u001b[0m_run_search\u001b[0m\u001b[0;34m(\u001b[0m\u001b[0mself\u001b[0m\u001b[0;34m,\u001b[0m \u001b[0mevaluate_candidates\u001b[0m\u001b[0;34m)\u001b[0m\u001b[0;34m:\u001b[0m\u001b[0;34m\u001b[0m\u001b[0;34m\u001b[0m\u001b[0m\n\u001b[1;32m   1150\u001b[0m         \u001b[0;34m\"\"\"Search all candidates in param_grid\"\"\"\u001b[0m\u001b[0;34m\u001b[0m\u001b[0;34m\u001b[0m\u001b[0m\n\u001b[0;32m-> 1151\u001b[0;31m         \u001b[0mevaluate_candidates\u001b[0m\u001b[0;34m(\u001b[0m\u001b[0mParameterGrid\u001b[0m\u001b[0;34m(\u001b[0m\u001b[0mself\u001b[0m\u001b[0;34m.\u001b[0m\u001b[0mparam_grid\u001b[0m\u001b[0;34m)\u001b[0m\u001b[0;34m)\u001b[0m\u001b[0;34m\u001b[0m\u001b[0;34m\u001b[0m\u001b[0m\n\u001b[0m\u001b[1;32m   1152\u001b[0m \u001b[0;34m\u001b[0m\u001b[0m\n\u001b[1;32m   1153\u001b[0m \u001b[0;34m\u001b[0m\u001b[0m\n",
      "\u001b[0;32m~/opt/anaconda3/lib/python3.7/site-packages/sklearn/model_selection/_search.py\u001b[0m in \u001b[0;36mevaluate_candidates\u001b[0;34m(candidate_params)\u001b[0m\n\u001b[1;32m    687\u001b[0m                                \u001b[0;32mfor\u001b[0m \u001b[0mparameters\u001b[0m\u001b[0;34m,\u001b[0m \u001b[0;34m(\u001b[0m\u001b[0mtrain\u001b[0m\u001b[0;34m,\u001b[0m \u001b[0mtest\u001b[0m\u001b[0;34m)\u001b[0m\u001b[0;34m\u001b[0m\u001b[0;34m\u001b[0m\u001b[0m\n\u001b[1;32m    688\u001b[0m                                in product(candidate_params,\n\u001b[0;32m--> 689\u001b[0;31m                                           cv.split(X, y, groups)))\n\u001b[0m\u001b[1;32m    690\u001b[0m \u001b[0;34m\u001b[0m\u001b[0m\n\u001b[1;32m    691\u001b[0m                 \u001b[0;32mif\u001b[0m \u001b[0mlen\u001b[0m\u001b[0;34m(\u001b[0m\u001b[0mout\u001b[0m\u001b[0;34m)\u001b[0m \u001b[0;34m<\u001b[0m \u001b[0;36m1\u001b[0m\u001b[0;34m:\u001b[0m\u001b[0;34m\u001b[0m\u001b[0;34m\u001b[0m\u001b[0m\n",
      "\u001b[0;32m~/opt/anaconda3/lib/python3.7/site-packages/joblib/parallel.py\u001b[0m in \u001b[0;36m__call__\u001b[0;34m(self, iterable)\u001b[0m\n\u001b[1;32m   1005\u001b[0m                 \u001b[0mself\u001b[0m\u001b[0;34m.\u001b[0m\u001b[0m_iterating\u001b[0m \u001b[0;34m=\u001b[0m \u001b[0mself\u001b[0m\u001b[0;34m.\u001b[0m\u001b[0m_original_iterator\u001b[0m \u001b[0;32mis\u001b[0m \u001b[0;32mnot\u001b[0m \u001b[0;32mNone\u001b[0m\u001b[0;34m\u001b[0m\u001b[0;34m\u001b[0m\u001b[0m\n\u001b[1;32m   1006\u001b[0m \u001b[0;34m\u001b[0m\u001b[0m\n\u001b[0;32m-> 1007\u001b[0;31m             \u001b[0;32mwhile\u001b[0m \u001b[0mself\u001b[0m\u001b[0;34m.\u001b[0m\u001b[0mdispatch_one_batch\u001b[0m\u001b[0;34m(\u001b[0m\u001b[0miterator\u001b[0m\u001b[0;34m)\u001b[0m\u001b[0;34m:\u001b[0m\u001b[0;34m\u001b[0m\u001b[0;34m\u001b[0m\u001b[0m\n\u001b[0m\u001b[1;32m   1008\u001b[0m                 \u001b[0;32mpass\u001b[0m\u001b[0;34m\u001b[0m\u001b[0;34m\u001b[0m\u001b[0m\n\u001b[1;32m   1009\u001b[0m \u001b[0;34m\u001b[0m\u001b[0m\n",
      "\u001b[0;32m~/opt/anaconda3/lib/python3.7/site-packages/joblib/parallel.py\u001b[0m in \u001b[0;36mdispatch_one_batch\u001b[0;34m(self, iterator)\u001b[0m\n\u001b[1;32m    833\u001b[0m                 \u001b[0;32mreturn\u001b[0m \u001b[0;32mFalse\u001b[0m\u001b[0;34m\u001b[0m\u001b[0;34m\u001b[0m\u001b[0m\n\u001b[1;32m    834\u001b[0m             \u001b[0;32melse\u001b[0m\u001b[0;34m:\u001b[0m\u001b[0;34m\u001b[0m\u001b[0;34m\u001b[0m\u001b[0m\n\u001b[0;32m--> 835\u001b[0;31m                 \u001b[0mself\u001b[0m\u001b[0;34m.\u001b[0m\u001b[0m_dispatch\u001b[0m\u001b[0;34m(\u001b[0m\u001b[0mtasks\u001b[0m\u001b[0;34m)\u001b[0m\u001b[0;34m\u001b[0m\u001b[0;34m\u001b[0m\u001b[0m\n\u001b[0m\u001b[1;32m    836\u001b[0m                 \u001b[0;32mreturn\u001b[0m \u001b[0;32mTrue\u001b[0m\u001b[0;34m\u001b[0m\u001b[0;34m\u001b[0m\u001b[0m\n\u001b[1;32m    837\u001b[0m \u001b[0;34m\u001b[0m\u001b[0m\n",
      "\u001b[0;32m~/opt/anaconda3/lib/python3.7/site-packages/joblib/parallel.py\u001b[0m in \u001b[0;36m_dispatch\u001b[0;34m(self, batch)\u001b[0m\n\u001b[1;32m    752\u001b[0m         \u001b[0;32mwith\u001b[0m \u001b[0mself\u001b[0m\u001b[0;34m.\u001b[0m\u001b[0m_lock\u001b[0m\u001b[0;34m:\u001b[0m\u001b[0;34m\u001b[0m\u001b[0;34m\u001b[0m\u001b[0m\n\u001b[1;32m    753\u001b[0m             \u001b[0mjob_idx\u001b[0m \u001b[0;34m=\u001b[0m \u001b[0mlen\u001b[0m\u001b[0;34m(\u001b[0m\u001b[0mself\u001b[0m\u001b[0;34m.\u001b[0m\u001b[0m_jobs\u001b[0m\u001b[0;34m)\u001b[0m\u001b[0;34m\u001b[0m\u001b[0;34m\u001b[0m\u001b[0m\n\u001b[0;32m--> 754\u001b[0;31m             \u001b[0mjob\u001b[0m \u001b[0;34m=\u001b[0m \u001b[0mself\u001b[0m\u001b[0;34m.\u001b[0m\u001b[0m_backend\u001b[0m\u001b[0;34m.\u001b[0m\u001b[0mapply_async\u001b[0m\u001b[0;34m(\u001b[0m\u001b[0mbatch\u001b[0m\u001b[0;34m,\u001b[0m \u001b[0mcallback\u001b[0m\u001b[0;34m=\u001b[0m\u001b[0mcb\u001b[0m\u001b[0;34m)\u001b[0m\u001b[0;34m\u001b[0m\u001b[0;34m\u001b[0m\u001b[0m\n\u001b[0m\u001b[1;32m    755\u001b[0m             \u001b[0;31m# A job can complete so quickly than its callback is\u001b[0m\u001b[0;34m\u001b[0m\u001b[0;34m\u001b[0m\u001b[0;34m\u001b[0m\u001b[0m\n\u001b[1;32m    756\u001b[0m             \u001b[0;31m# called before we get here, causing self._jobs to\u001b[0m\u001b[0;34m\u001b[0m\u001b[0;34m\u001b[0m\u001b[0;34m\u001b[0m\u001b[0m\n",
      "\u001b[0;32m~/opt/anaconda3/lib/python3.7/site-packages/joblib/_parallel_backends.py\u001b[0m in \u001b[0;36mapply_async\u001b[0;34m(self, func, callback)\u001b[0m\n\u001b[1;32m    207\u001b[0m     \u001b[0;32mdef\u001b[0m \u001b[0mapply_async\u001b[0m\u001b[0;34m(\u001b[0m\u001b[0mself\u001b[0m\u001b[0;34m,\u001b[0m \u001b[0mfunc\u001b[0m\u001b[0;34m,\u001b[0m \u001b[0mcallback\u001b[0m\u001b[0;34m=\u001b[0m\u001b[0;32mNone\u001b[0m\u001b[0;34m)\u001b[0m\u001b[0;34m:\u001b[0m\u001b[0;34m\u001b[0m\u001b[0;34m\u001b[0m\u001b[0m\n\u001b[1;32m    208\u001b[0m         \u001b[0;34m\"\"\"Schedule a func to be run\"\"\"\u001b[0m\u001b[0;34m\u001b[0m\u001b[0;34m\u001b[0m\u001b[0m\n\u001b[0;32m--> 209\u001b[0;31m         \u001b[0mresult\u001b[0m \u001b[0;34m=\u001b[0m \u001b[0mImmediateResult\u001b[0m\u001b[0;34m(\u001b[0m\u001b[0mfunc\u001b[0m\u001b[0;34m)\u001b[0m\u001b[0;34m\u001b[0m\u001b[0;34m\u001b[0m\u001b[0m\n\u001b[0m\u001b[1;32m    210\u001b[0m         \u001b[0;32mif\u001b[0m \u001b[0mcallback\u001b[0m\u001b[0;34m:\u001b[0m\u001b[0;34m\u001b[0m\u001b[0;34m\u001b[0m\u001b[0m\n\u001b[1;32m    211\u001b[0m             \u001b[0mcallback\u001b[0m\u001b[0;34m(\u001b[0m\u001b[0mresult\u001b[0m\u001b[0;34m)\u001b[0m\u001b[0;34m\u001b[0m\u001b[0;34m\u001b[0m\u001b[0m\n",
      "\u001b[0;32m~/opt/anaconda3/lib/python3.7/site-packages/joblib/_parallel_backends.py\u001b[0m in \u001b[0;36m__init__\u001b[0;34m(self, batch)\u001b[0m\n\u001b[1;32m    588\u001b[0m         \u001b[0;31m# Don't delay the application, to avoid keeping the input\u001b[0m\u001b[0;34m\u001b[0m\u001b[0;34m\u001b[0m\u001b[0;34m\u001b[0m\u001b[0m\n\u001b[1;32m    589\u001b[0m         \u001b[0;31m# arguments in memory\u001b[0m\u001b[0;34m\u001b[0m\u001b[0;34m\u001b[0m\u001b[0;34m\u001b[0m\u001b[0m\n\u001b[0;32m--> 590\u001b[0;31m         \u001b[0mself\u001b[0m\u001b[0;34m.\u001b[0m\u001b[0mresults\u001b[0m \u001b[0;34m=\u001b[0m \u001b[0mbatch\u001b[0m\u001b[0;34m(\u001b[0m\u001b[0;34m)\u001b[0m\u001b[0;34m\u001b[0m\u001b[0;34m\u001b[0m\u001b[0m\n\u001b[0m\u001b[1;32m    591\u001b[0m \u001b[0;34m\u001b[0m\u001b[0m\n\u001b[1;32m    592\u001b[0m     \u001b[0;32mdef\u001b[0m \u001b[0mget\u001b[0m\u001b[0;34m(\u001b[0m\u001b[0mself\u001b[0m\u001b[0;34m)\u001b[0m\u001b[0;34m:\u001b[0m\u001b[0;34m\u001b[0m\u001b[0;34m\u001b[0m\u001b[0m\n",
      "\u001b[0;32m~/opt/anaconda3/lib/python3.7/site-packages/joblib/parallel.py\u001b[0m in \u001b[0;36m__call__\u001b[0;34m(self)\u001b[0m\n\u001b[1;32m    254\u001b[0m         \u001b[0;32mwith\u001b[0m \u001b[0mparallel_backend\u001b[0m\u001b[0;34m(\u001b[0m\u001b[0mself\u001b[0m\u001b[0;34m.\u001b[0m\u001b[0m_backend\u001b[0m\u001b[0;34m,\u001b[0m \u001b[0mn_jobs\u001b[0m\u001b[0;34m=\u001b[0m\u001b[0mself\u001b[0m\u001b[0;34m.\u001b[0m\u001b[0m_n_jobs\u001b[0m\u001b[0;34m)\u001b[0m\u001b[0;34m:\u001b[0m\u001b[0;34m\u001b[0m\u001b[0;34m\u001b[0m\u001b[0m\n\u001b[1;32m    255\u001b[0m             return [func(*args, **kwargs)\n\u001b[0;32m--> 256\u001b[0;31m                     for func, args, kwargs in self.items]\n\u001b[0m\u001b[1;32m    257\u001b[0m \u001b[0;34m\u001b[0m\u001b[0m\n\u001b[1;32m    258\u001b[0m     \u001b[0;32mdef\u001b[0m \u001b[0m__len__\u001b[0m\u001b[0;34m(\u001b[0m\u001b[0mself\u001b[0m\u001b[0;34m)\u001b[0m\u001b[0;34m:\u001b[0m\u001b[0;34m\u001b[0m\u001b[0;34m\u001b[0m\u001b[0m\n",
      "\u001b[0;32m~/opt/anaconda3/lib/python3.7/site-packages/joblib/parallel.py\u001b[0m in \u001b[0;36m<listcomp>\u001b[0;34m(.0)\u001b[0m\n\u001b[1;32m    254\u001b[0m         \u001b[0;32mwith\u001b[0m \u001b[0mparallel_backend\u001b[0m\u001b[0;34m(\u001b[0m\u001b[0mself\u001b[0m\u001b[0;34m.\u001b[0m\u001b[0m_backend\u001b[0m\u001b[0;34m,\u001b[0m \u001b[0mn_jobs\u001b[0m\u001b[0;34m=\u001b[0m\u001b[0mself\u001b[0m\u001b[0;34m.\u001b[0m\u001b[0m_n_jobs\u001b[0m\u001b[0;34m)\u001b[0m\u001b[0;34m:\u001b[0m\u001b[0;34m\u001b[0m\u001b[0;34m\u001b[0m\u001b[0m\n\u001b[1;32m    255\u001b[0m             return [func(*args, **kwargs)\n\u001b[0;32m--> 256\u001b[0;31m                     for func, args, kwargs in self.items]\n\u001b[0m\u001b[1;32m    257\u001b[0m \u001b[0;34m\u001b[0m\u001b[0m\n\u001b[1;32m    258\u001b[0m     \u001b[0;32mdef\u001b[0m \u001b[0m__len__\u001b[0m\u001b[0;34m(\u001b[0m\u001b[0mself\u001b[0m\u001b[0;34m)\u001b[0m\u001b[0;34m:\u001b[0m\u001b[0;34m\u001b[0m\u001b[0;34m\u001b[0m\u001b[0m\n",
      "\u001b[0;32m~/opt/anaconda3/lib/python3.7/site-packages/sklearn/model_selection/_validation.py\u001b[0m in \u001b[0;36m_fit_and_score\u001b[0;34m(estimator, X, y, scorer, train, test, verbose, parameters, fit_params, return_train_score, return_parameters, return_n_test_samples, return_times, return_estimator, error_score)\u001b[0m\n\u001b[1;32m    513\u001b[0m             \u001b[0mestimator\u001b[0m\u001b[0;34m.\u001b[0m\u001b[0mfit\u001b[0m\u001b[0;34m(\u001b[0m\u001b[0mX_train\u001b[0m\u001b[0;34m,\u001b[0m \u001b[0;34m**\u001b[0m\u001b[0mfit_params\u001b[0m\u001b[0;34m)\u001b[0m\u001b[0;34m\u001b[0m\u001b[0;34m\u001b[0m\u001b[0m\n\u001b[1;32m    514\u001b[0m         \u001b[0;32melse\u001b[0m\u001b[0;34m:\u001b[0m\u001b[0;34m\u001b[0m\u001b[0;34m\u001b[0m\u001b[0m\n\u001b[0;32m--> 515\u001b[0;31m             \u001b[0mestimator\u001b[0m\u001b[0;34m.\u001b[0m\u001b[0mfit\u001b[0m\u001b[0;34m(\u001b[0m\u001b[0mX_train\u001b[0m\u001b[0;34m,\u001b[0m \u001b[0my_train\u001b[0m\u001b[0;34m,\u001b[0m \u001b[0;34m**\u001b[0m\u001b[0mfit_params\u001b[0m\u001b[0;34m)\u001b[0m\u001b[0;34m\u001b[0m\u001b[0;34m\u001b[0m\u001b[0m\n\u001b[0m\u001b[1;32m    516\u001b[0m \u001b[0;34m\u001b[0m\u001b[0m\n\u001b[1;32m    517\u001b[0m     \u001b[0;32mexcept\u001b[0m \u001b[0mException\u001b[0m \u001b[0;32mas\u001b[0m \u001b[0me\u001b[0m\u001b[0;34m:\u001b[0m\u001b[0;34m\u001b[0m\u001b[0;34m\u001b[0m\u001b[0m\n",
      "\u001b[0;32m~/opt/anaconda3/lib/python3.7/site-packages/sklearn/ensemble/_forest.py\u001b[0m in \u001b[0;36mfit\u001b[0;34m(self, X, y, sample_weight)\u001b[0m\n\u001b[1;32m    381\u001b[0m                     \u001b[0mverbose\u001b[0m\u001b[0;34m=\u001b[0m\u001b[0mself\u001b[0m\u001b[0;34m.\u001b[0m\u001b[0mverbose\u001b[0m\u001b[0;34m,\u001b[0m \u001b[0mclass_weight\u001b[0m\u001b[0;34m=\u001b[0m\u001b[0mself\u001b[0m\u001b[0;34m.\u001b[0m\u001b[0mclass_weight\u001b[0m\u001b[0;34m,\u001b[0m\u001b[0;34m\u001b[0m\u001b[0;34m\u001b[0m\u001b[0m\n\u001b[1;32m    382\u001b[0m                     n_samples_bootstrap=n_samples_bootstrap)\n\u001b[0;32m--> 383\u001b[0;31m                 for i, t in enumerate(trees))\n\u001b[0m\u001b[1;32m    384\u001b[0m \u001b[0;34m\u001b[0m\u001b[0m\n\u001b[1;32m    385\u001b[0m             \u001b[0;31m# Collect newly grown trees\u001b[0m\u001b[0;34m\u001b[0m\u001b[0;34m\u001b[0m\u001b[0;34m\u001b[0m\u001b[0m\n",
      "\u001b[0;32m~/opt/anaconda3/lib/python3.7/site-packages/joblib/parallel.py\u001b[0m in \u001b[0;36m__call__\u001b[0;34m(self, iterable)\u001b[0m\n\u001b[1;32m   1005\u001b[0m                 \u001b[0mself\u001b[0m\u001b[0;34m.\u001b[0m\u001b[0m_iterating\u001b[0m \u001b[0;34m=\u001b[0m \u001b[0mself\u001b[0m\u001b[0;34m.\u001b[0m\u001b[0m_original_iterator\u001b[0m \u001b[0;32mis\u001b[0m \u001b[0;32mnot\u001b[0m \u001b[0;32mNone\u001b[0m\u001b[0;34m\u001b[0m\u001b[0;34m\u001b[0m\u001b[0m\n\u001b[1;32m   1006\u001b[0m \u001b[0;34m\u001b[0m\u001b[0m\n\u001b[0;32m-> 1007\u001b[0;31m             \u001b[0;32mwhile\u001b[0m \u001b[0mself\u001b[0m\u001b[0;34m.\u001b[0m\u001b[0mdispatch_one_batch\u001b[0m\u001b[0;34m(\u001b[0m\u001b[0miterator\u001b[0m\u001b[0;34m)\u001b[0m\u001b[0;34m:\u001b[0m\u001b[0;34m\u001b[0m\u001b[0;34m\u001b[0m\u001b[0m\n\u001b[0m\u001b[1;32m   1008\u001b[0m                 \u001b[0;32mpass\u001b[0m\u001b[0;34m\u001b[0m\u001b[0;34m\u001b[0m\u001b[0m\n\u001b[1;32m   1009\u001b[0m \u001b[0;34m\u001b[0m\u001b[0m\n",
      "\u001b[0;32m~/opt/anaconda3/lib/python3.7/site-packages/joblib/parallel.py\u001b[0m in \u001b[0;36mdispatch_one_batch\u001b[0;34m(self, iterator)\u001b[0m\n\u001b[1;32m    833\u001b[0m                 \u001b[0;32mreturn\u001b[0m \u001b[0;32mFalse\u001b[0m\u001b[0;34m\u001b[0m\u001b[0;34m\u001b[0m\u001b[0m\n\u001b[1;32m    834\u001b[0m             \u001b[0;32melse\u001b[0m\u001b[0;34m:\u001b[0m\u001b[0;34m\u001b[0m\u001b[0;34m\u001b[0m\u001b[0m\n\u001b[0;32m--> 835\u001b[0;31m                 \u001b[0mself\u001b[0m\u001b[0;34m.\u001b[0m\u001b[0m_dispatch\u001b[0m\u001b[0;34m(\u001b[0m\u001b[0mtasks\u001b[0m\u001b[0;34m)\u001b[0m\u001b[0;34m\u001b[0m\u001b[0;34m\u001b[0m\u001b[0m\n\u001b[0m\u001b[1;32m    836\u001b[0m                 \u001b[0;32mreturn\u001b[0m \u001b[0;32mTrue\u001b[0m\u001b[0;34m\u001b[0m\u001b[0;34m\u001b[0m\u001b[0m\n\u001b[1;32m    837\u001b[0m \u001b[0;34m\u001b[0m\u001b[0m\n",
      "\u001b[0;32m~/opt/anaconda3/lib/python3.7/site-packages/joblib/parallel.py\u001b[0m in \u001b[0;36m_dispatch\u001b[0;34m(self, batch)\u001b[0m\n\u001b[1;32m    752\u001b[0m         \u001b[0;32mwith\u001b[0m \u001b[0mself\u001b[0m\u001b[0;34m.\u001b[0m\u001b[0m_lock\u001b[0m\u001b[0;34m:\u001b[0m\u001b[0;34m\u001b[0m\u001b[0;34m\u001b[0m\u001b[0m\n\u001b[1;32m    753\u001b[0m             \u001b[0mjob_idx\u001b[0m \u001b[0;34m=\u001b[0m \u001b[0mlen\u001b[0m\u001b[0;34m(\u001b[0m\u001b[0mself\u001b[0m\u001b[0;34m.\u001b[0m\u001b[0m_jobs\u001b[0m\u001b[0;34m)\u001b[0m\u001b[0;34m\u001b[0m\u001b[0;34m\u001b[0m\u001b[0m\n\u001b[0;32m--> 754\u001b[0;31m             \u001b[0mjob\u001b[0m \u001b[0;34m=\u001b[0m \u001b[0mself\u001b[0m\u001b[0;34m.\u001b[0m\u001b[0m_backend\u001b[0m\u001b[0;34m.\u001b[0m\u001b[0mapply_async\u001b[0m\u001b[0;34m(\u001b[0m\u001b[0mbatch\u001b[0m\u001b[0;34m,\u001b[0m \u001b[0mcallback\u001b[0m\u001b[0;34m=\u001b[0m\u001b[0mcb\u001b[0m\u001b[0;34m)\u001b[0m\u001b[0;34m\u001b[0m\u001b[0;34m\u001b[0m\u001b[0m\n\u001b[0m\u001b[1;32m    755\u001b[0m             \u001b[0;31m# A job can complete so quickly than its callback is\u001b[0m\u001b[0;34m\u001b[0m\u001b[0;34m\u001b[0m\u001b[0;34m\u001b[0m\u001b[0m\n\u001b[1;32m    756\u001b[0m             \u001b[0;31m# called before we get here, causing self._jobs to\u001b[0m\u001b[0;34m\u001b[0m\u001b[0;34m\u001b[0m\u001b[0;34m\u001b[0m\u001b[0m\n",
      "\u001b[0;32m~/opt/anaconda3/lib/python3.7/site-packages/joblib/_parallel_backends.py\u001b[0m in \u001b[0;36mapply_async\u001b[0;34m(self, func, callback)\u001b[0m\n\u001b[1;32m    207\u001b[0m     \u001b[0;32mdef\u001b[0m \u001b[0mapply_async\u001b[0m\u001b[0;34m(\u001b[0m\u001b[0mself\u001b[0m\u001b[0;34m,\u001b[0m \u001b[0mfunc\u001b[0m\u001b[0;34m,\u001b[0m \u001b[0mcallback\u001b[0m\u001b[0;34m=\u001b[0m\u001b[0;32mNone\u001b[0m\u001b[0;34m)\u001b[0m\u001b[0;34m:\u001b[0m\u001b[0;34m\u001b[0m\u001b[0;34m\u001b[0m\u001b[0m\n\u001b[1;32m    208\u001b[0m         \u001b[0;34m\"\"\"Schedule a func to be run\"\"\"\u001b[0m\u001b[0;34m\u001b[0m\u001b[0;34m\u001b[0m\u001b[0m\n\u001b[0;32m--> 209\u001b[0;31m         \u001b[0mresult\u001b[0m \u001b[0;34m=\u001b[0m \u001b[0mImmediateResult\u001b[0m\u001b[0;34m(\u001b[0m\u001b[0mfunc\u001b[0m\u001b[0;34m)\u001b[0m\u001b[0;34m\u001b[0m\u001b[0;34m\u001b[0m\u001b[0m\n\u001b[0m\u001b[1;32m    210\u001b[0m         \u001b[0;32mif\u001b[0m \u001b[0mcallback\u001b[0m\u001b[0;34m:\u001b[0m\u001b[0;34m\u001b[0m\u001b[0;34m\u001b[0m\u001b[0m\n\u001b[1;32m    211\u001b[0m             \u001b[0mcallback\u001b[0m\u001b[0;34m(\u001b[0m\u001b[0mresult\u001b[0m\u001b[0;34m)\u001b[0m\u001b[0;34m\u001b[0m\u001b[0;34m\u001b[0m\u001b[0m\n",
      "\u001b[0;32m~/opt/anaconda3/lib/python3.7/site-packages/joblib/_parallel_backends.py\u001b[0m in \u001b[0;36m__init__\u001b[0;34m(self, batch)\u001b[0m\n\u001b[1;32m    588\u001b[0m         \u001b[0;31m# Don't delay the application, to avoid keeping the input\u001b[0m\u001b[0;34m\u001b[0m\u001b[0;34m\u001b[0m\u001b[0;34m\u001b[0m\u001b[0m\n\u001b[1;32m    589\u001b[0m         \u001b[0;31m# arguments in memory\u001b[0m\u001b[0;34m\u001b[0m\u001b[0;34m\u001b[0m\u001b[0;34m\u001b[0m\u001b[0m\n\u001b[0;32m--> 590\u001b[0;31m         \u001b[0mself\u001b[0m\u001b[0;34m.\u001b[0m\u001b[0mresults\u001b[0m \u001b[0;34m=\u001b[0m \u001b[0mbatch\u001b[0m\u001b[0;34m(\u001b[0m\u001b[0;34m)\u001b[0m\u001b[0;34m\u001b[0m\u001b[0;34m\u001b[0m\u001b[0m\n\u001b[0m\u001b[1;32m    591\u001b[0m \u001b[0;34m\u001b[0m\u001b[0m\n\u001b[1;32m    592\u001b[0m     \u001b[0;32mdef\u001b[0m \u001b[0mget\u001b[0m\u001b[0;34m(\u001b[0m\u001b[0mself\u001b[0m\u001b[0;34m)\u001b[0m\u001b[0;34m:\u001b[0m\u001b[0;34m\u001b[0m\u001b[0;34m\u001b[0m\u001b[0m\n",
      "\u001b[0;32m~/opt/anaconda3/lib/python3.7/site-packages/joblib/parallel.py\u001b[0m in \u001b[0;36m__call__\u001b[0;34m(self)\u001b[0m\n\u001b[1;32m    254\u001b[0m         \u001b[0;32mwith\u001b[0m \u001b[0mparallel_backend\u001b[0m\u001b[0;34m(\u001b[0m\u001b[0mself\u001b[0m\u001b[0;34m.\u001b[0m\u001b[0m_backend\u001b[0m\u001b[0;34m,\u001b[0m \u001b[0mn_jobs\u001b[0m\u001b[0;34m=\u001b[0m\u001b[0mself\u001b[0m\u001b[0;34m.\u001b[0m\u001b[0m_n_jobs\u001b[0m\u001b[0;34m)\u001b[0m\u001b[0;34m:\u001b[0m\u001b[0;34m\u001b[0m\u001b[0;34m\u001b[0m\u001b[0m\n\u001b[1;32m    255\u001b[0m             return [func(*args, **kwargs)\n\u001b[0;32m--> 256\u001b[0;31m                     for func, args, kwargs in self.items]\n\u001b[0m\u001b[1;32m    257\u001b[0m \u001b[0;34m\u001b[0m\u001b[0m\n\u001b[1;32m    258\u001b[0m     \u001b[0;32mdef\u001b[0m \u001b[0m__len__\u001b[0m\u001b[0;34m(\u001b[0m\u001b[0mself\u001b[0m\u001b[0;34m)\u001b[0m\u001b[0;34m:\u001b[0m\u001b[0;34m\u001b[0m\u001b[0;34m\u001b[0m\u001b[0m\n",
      "\u001b[0;32m~/opt/anaconda3/lib/python3.7/site-packages/joblib/parallel.py\u001b[0m in \u001b[0;36m<listcomp>\u001b[0;34m(.0)\u001b[0m\n\u001b[1;32m    254\u001b[0m         \u001b[0;32mwith\u001b[0m \u001b[0mparallel_backend\u001b[0m\u001b[0;34m(\u001b[0m\u001b[0mself\u001b[0m\u001b[0;34m.\u001b[0m\u001b[0m_backend\u001b[0m\u001b[0;34m,\u001b[0m \u001b[0mn_jobs\u001b[0m\u001b[0;34m=\u001b[0m\u001b[0mself\u001b[0m\u001b[0;34m.\u001b[0m\u001b[0m_n_jobs\u001b[0m\u001b[0;34m)\u001b[0m\u001b[0;34m:\u001b[0m\u001b[0;34m\u001b[0m\u001b[0;34m\u001b[0m\u001b[0m\n\u001b[1;32m    255\u001b[0m             return [func(*args, **kwargs)\n\u001b[0;32m--> 256\u001b[0;31m                     for func, args, kwargs in self.items]\n\u001b[0m\u001b[1;32m    257\u001b[0m \u001b[0;34m\u001b[0m\u001b[0m\n\u001b[1;32m    258\u001b[0m     \u001b[0;32mdef\u001b[0m \u001b[0m__len__\u001b[0m\u001b[0;34m(\u001b[0m\u001b[0mself\u001b[0m\u001b[0;34m)\u001b[0m\u001b[0;34m:\u001b[0m\u001b[0;34m\u001b[0m\u001b[0;34m\u001b[0m\u001b[0m\n",
      "\u001b[0;32m~/opt/anaconda3/lib/python3.7/site-packages/sklearn/ensemble/_forest.py\u001b[0m in \u001b[0;36m_parallel_build_trees\u001b[0;34m(tree, forest, X, y, sample_weight, tree_idx, n_trees, verbose, class_weight, n_samples_bootstrap)\u001b[0m\n\u001b[1;32m    163\u001b[0m             \u001b[0mcurr_sample_weight\u001b[0m \u001b[0;34m*=\u001b[0m \u001b[0mcompute_sample_weight\u001b[0m\u001b[0;34m(\u001b[0m\u001b[0;34m'balanced'\u001b[0m\u001b[0;34m,\u001b[0m \u001b[0my\u001b[0m\u001b[0;34m,\u001b[0m \u001b[0mindices\u001b[0m\u001b[0;34m)\u001b[0m\u001b[0;34m\u001b[0m\u001b[0;34m\u001b[0m\u001b[0m\n\u001b[1;32m    164\u001b[0m \u001b[0;34m\u001b[0m\u001b[0m\n\u001b[0;32m--> 165\u001b[0;31m         \u001b[0mtree\u001b[0m\u001b[0;34m.\u001b[0m\u001b[0mfit\u001b[0m\u001b[0;34m(\u001b[0m\u001b[0mX\u001b[0m\u001b[0;34m,\u001b[0m \u001b[0my\u001b[0m\u001b[0;34m,\u001b[0m \u001b[0msample_weight\u001b[0m\u001b[0;34m=\u001b[0m\u001b[0mcurr_sample_weight\u001b[0m\u001b[0;34m,\u001b[0m \u001b[0mcheck_input\u001b[0m\u001b[0;34m=\u001b[0m\u001b[0;32mFalse\u001b[0m\u001b[0;34m)\u001b[0m\u001b[0;34m\u001b[0m\u001b[0;34m\u001b[0m\u001b[0m\n\u001b[0m\u001b[1;32m    166\u001b[0m     \u001b[0;32melse\u001b[0m\u001b[0;34m:\u001b[0m\u001b[0;34m\u001b[0m\u001b[0;34m\u001b[0m\u001b[0m\n\u001b[1;32m    167\u001b[0m         \u001b[0mtree\u001b[0m\u001b[0;34m.\u001b[0m\u001b[0mfit\u001b[0m\u001b[0;34m(\u001b[0m\u001b[0mX\u001b[0m\u001b[0;34m,\u001b[0m \u001b[0my\u001b[0m\u001b[0;34m,\u001b[0m \u001b[0msample_weight\u001b[0m\u001b[0;34m=\u001b[0m\u001b[0msample_weight\u001b[0m\u001b[0;34m,\u001b[0m \u001b[0mcheck_input\u001b[0m\u001b[0;34m=\u001b[0m\u001b[0;32mFalse\u001b[0m\u001b[0;34m)\u001b[0m\u001b[0;34m\u001b[0m\u001b[0;34m\u001b[0m\u001b[0m\n",
      "\u001b[0;32m~/opt/anaconda3/lib/python3.7/site-packages/sklearn/tree/_classes.py\u001b[0m in \u001b[0;36mfit\u001b[0;34m(self, X, y, sample_weight, check_input, X_idx_sorted)\u001b[0m\n\u001b[1;32m    875\u001b[0m             \u001b[0msample_weight\u001b[0m\u001b[0;34m=\u001b[0m\u001b[0msample_weight\u001b[0m\u001b[0;34m,\u001b[0m\u001b[0;34m\u001b[0m\u001b[0;34m\u001b[0m\u001b[0m\n\u001b[1;32m    876\u001b[0m             \u001b[0mcheck_input\u001b[0m\u001b[0;34m=\u001b[0m\u001b[0mcheck_input\u001b[0m\u001b[0;34m,\u001b[0m\u001b[0;34m\u001b[0m\u001b[0;34m\u001b[0m\u001b[0m\n\u001b[0;32m--> 877\u001b[0;31m             X_idx_sorted=X_idx_sorted)\n\u001b[0m\u001b[1;32m    878\u001b[0m         \u001b[0;32mreturn\u001b[0m \u001b[0mself\u001b[0m\u001b[0;34m\u001b[0m\u001b[0;34m\u001b[0m\u001b[0m\n\u001b[1;32m    879\u001b[0m \u001b[0;34m\u001b[0m\u001b[0m\n",
      "\u001b[0;32m~/opt/anaconda3/lib/python3.7/site-packages/sklearn/tree/_classes.py\u001b[0m in \u001b[0;36mfit\u001b[0;34m(self, X, y, sample_weight, check_input, X_idx_sorted)\u001b[0m\n\u001b[1;32m    171\u001b[0m \u001b[0;34m\u001b[0m\u001b[0m\n\u001b[1;32m    172\u001b[0m         \u001b[0;32mif\u001b[0m \u001b[0mis_classification\u001b[0m\u001b[0;34m:\u001b[0m\u001b[0;34m\u001b[0m\u001b[0;34m\u001b[0m\u001b[0m\n\u001b[0;32m--> 173\u001b[0;31m             \u001b[0mcheck_classification_targets\u001b[0m\u001b[0;34m(\u001b[0m\u001b[0my\u001b[0m\u001b[0;34m)\u001b[0m\u001b[0;34m\u001b[0m\u001b[0;34m\u001b[0m\u001b[0m\n\u001b[0m\u001b[1;32m    174\u001b[0m             \u001b[0my\u001b[0m \u001b[0;34m=\u001b[0m \u001b[0mnp\u001b[0m\u001b[0;34m.\u001b[0m\u001b[0mcopy\u001b[0m\u001b[0;34m(\u001b[0m\u001b[0my\u001b[0m\u001b[0;34m)\u001b[0m\u001b[0;34m\u001b[0m\u001b[0;34m\u001b[0m\u001b[0m\n\u001b[1;32m    175\u001b[0m \u001b[0;34m\u001b[0m\u001b[0m\n",
      "\u001b[0;32m~/opt/anaconda3/lib/python3.7/site-packages/sklearn/utils/multiclass.py\u001b[0m in \u001b[0;36mcheck_classification_targets\u001b[0;34m(y)\u001b[0m\n\u001b[1;32m    164\u001b[0m     \u001b[0my\u001b[0m \u001b[0;34m:\u001b[0m \u001b[0marray\u001b[0m\u001b[0;34m-\u001b[0m\u001b[0mlike\u001b[0m\u001b[0;34m\u001b[0m\u001b[0;34m\u001b[0m\u001b[0m\n\u001b[1;32m    165\u001b[0m     \"\"\"\n\u001b[0;32m--> 166\u001b[0;31m     \u001b[0my_type\u001b[0m \u001b[0;34m=\u001b[0m \u001b[0mtype_of_target\u001b[0m\u001b[0;34m(\u001b[0m\u001b[0my\u001b[0m\u001b[0;34m)\u001b[0m\u001b[0;34m\u001b[0m\u001b[0;34m\u001b[0m\u001b[0m\n\u001b[0m\u001b[1;32m    167\u001b[0m     if y_type not in ['binary', 'multiclass', 'multiclass-multioutput',\n\u001b[1;32m    168\u001b[0m                       'multilabel-indicator', 'multilabel-sequences']:\n",
      "\u001b[0;32m~/opt/anaconda3/lib/python3.7/site-packages/sklearn/utils/multiclass.py\u001b[0m in \u001b[0;36mtype_of_target\u001b[0;34m(y)\u001b[0m\n\u001b[1;32m    285\u001b[0m         \u001b[0;32mreturn\u001b[0m \u001b[0;34m'continuous'\u001b[0m \u001b[0;34m+\u001b[0m \u001b[0msuffix\u001b[0m\u001b[0;34m\u001b[0m\u001b[0;34m\u001b[0m\u001b[0m\n\u001b[1;32m    286\u001b[0m \u001b[0;34m\u001b[0m\u001b[0m\n\u001b[0;32m--> 287\u001b[0;31m     \u001b[0;32mif\u001b[0m \u001b[0;34m(\u001b[0m\u001b[0mlen\u001b[0m\u001b[0;34m(\u001b[0m\u001b[0mnp\u001b[0m\u001b[0;34m.\u001b[0m\u001b[0munique\u001b[0m\u001b[0;34m(\u001b[0m\u001b[0my\u001b[0m\u001b[0;34m)\u001b[0m\u001b[0;34m)\u001b[0m \u001b[0;34m>\u001b[0m \u001b[0;36m2\u001b[0m\u001b[0;34m)\u001b[0m \u001b[0;32mor\u001b[0m \u001b[0;34m(\u001b[0m\u001b[0my\u001b[0m\u001b[0;34m.\u001b[0m\u001b[0mndim\u001b[0m \u001b[0;34m>=\u001b[0m \u001b[0;36m2\u001b[0m \u001b[0;32mand\u001b[0m \u001b[0mlen\u001b[0m\u001b[0;34m(\u001b[0m\u001b[0my\u001b[0m\u001b[0;34m[\u001b[0m\u001b[0;36m0\u001b[0m\u001b[0;34m]\u001b[0m\u001b[0;34m)\u001b[0m \u001b[0;34m>\u001b[0m \u001b[0;36m1\u001b[0m\u001b[0;34m)\u001b[0m\u001b[0;34m:\u001b[0m\u001b[0;34m\u001b[0m\u001b[0;34m\u001b[0m\u001b[0m\n\u001b[0m\u001b[1;32m    288\u001b[0m         \u001b[0;32mreturn\u001b[0m \u001b[0;34m'multiclass'\u001b[0m \u001b[0;34m+\u001b[0m \u001b[0msuffix\u001b[0m  \u001b[0;31m# [1, 2, 3] or [[1., 2., 3]] or [[1, 2]]\u001b[0m\u001b[0;34m\u001b[0m\u001b[0;34m\u001b[0m\u001b[0m\n\u001b[1;32m    289\u001b[0m     \u001b[0;32melse\u001b[0m\u001b[0;34m:\u001b[0m\u001b[0;34m\u001b[0m\u001b[0;34m\u001b[0m\u001b[0m\n",
      "\u001b[0;32m<__array_function__ internals>\u001b[0m in \u001b[0;36munique\u001b[0;34m(*args, **kwargs)\u001b[0m\n",
      "\u001b[0;32m~/opt/anaconda3/lib/python3.7/site-packages/numpy/lib/arraysetops.py\u001b[0m in \u001b[0;36munique\u001b[0;34m(ar, return_index, return_inverse, return_counts, axis)\u001b[0m\n\u001b[1;32m    261\u001b[0m     \u001b[0mar\u001b[0m \u001b[0;34m=\u001b[0m \u001b[0mnp\u001b[0m\u001b[0;34m.\u001b[0m\u001b[0masanyarray\u001b[0m\u001b[0;34m(\u001b[0m\u001b[0mar\u001b[0m\u001b[0;34m)\u001b[0m\u001b[0;34m\u001b[0m\u001b[0;34m\u001b[0m\u001b[0m\n\u001b[1;32m    262\u001b[0m     \u001b[0;32mif\u001b[0m \u001b[0maxis\u001b[0m \u001b[0;32mis\u001b[0m \u001b[0;32mNone\u001b[0m\u001b[0;34m:\u001b[0m\u001b[0;34m\u001b[0m\u001b[0;34m\u001b[0m\u001b[0m\n\u001b[0;32m--> 263\u001b[0;31m         \u001b[0mret\u001b[0m \u001b[0;34m=\u001b[0m \u001b[0m_unique1d\u001b[0m\u001b[0;34m(\u001b[0m\u001b[0mar\u001b[0m\u001b[0;34m,\u001b[0m \u001b[0mreturn_index\u001b[0m\u001b[0;34m,\u001b[0m \u001b[0mreturn_inverse\u001b[0m\u001b[0;34m,\u001b[0m \u001b[0mreturn_counts\u001b[0m\u001b[0;34m)\u001b[0m\u001b[0;34m\u001b[0m\u001b[0;34m\u001b[0m\u001b[0m\n\u001b[0m\u001b[1;32m    264\u001b[0m         \u001b[0;32mreturn\u001b[0m \u001b[0m_unpack_tuple\u001b[0m\u001b[0;34m(\u001b[0m\u001b[0mret\u001b[0m\u001b[0;34m)\u001b[0m\u001b[0;34m\u001b[0m\u001b[0;34m\u001b[0m\u001b[0m\n\u001b[1;32m    265\u001b[0m \u001b[0;34m\u001b[0m\u001b[0m\n",
      "\u001b[0;32m~/opt/anaconda3/lib/python3.7/site-packages/numpy/lib/arraysetops.py\u001b[0m in \u001b[0;36m_unique1d\u001b[0;34m(ar, return_index, return_inverse, return_counts)\u001b[0m\n\u001b[1;32m    309\u001b[0m         \u001b[0maux\u001b[0m \u001b[0;34m=\u001b[0m \u001b[0mar\u001b[0m\u001b[0;34m[\u001b[0m\u001b[0mperm\u001b[0m\u001b[0;34m]\u001b[0m\u001b[0;34m\u001b[0m\u001b[0;34m\u001b[0m\u001b[0m\n\u001b[1;32m    310\u001b[0m     \u001b[0;32melse\u001b[0m\u001b[0;34m:\u001b[0m\u001b[0;34m\u001b[0m\u001b[0;34m\u001b[0m\u001b[0m\n\u001b[0;32m--> 311\u001b[0;31m         \u001b[0mar\u001b[0m\u001b[0;34m.\u001b[0m\u001b[0msort\u001b[0m\u001b[0;34m(\u001b[0m\u001b[0;34m)\u001b[0m\u001b[0;34m\u001b[0m\u001b[0;34m\u001b[0m\u001b[0m\n\u001b[0m\u001b[1;32m    312\u001b[0m         \u001b[0maux\u001b[0m \u001b[0;34m=\u001b[0m \u001b[0mar\u001b[0m\u001b[0;34m\u001b[0m\u001b[0;34m\u001b[0m\u001b[0m\n\u001b[1;32m    313\u001b[0m     \u001b[0mmask\u001b[0m \u001b[0;34m=\u001b[0m \u001b[0mnp\u001b[0m\u001b[0;34m.\u001b[0m\u001b[0mempty\u001b[0m\u001b[0;34m(\u001b[0m\u001b[0maux\u001b[0m\u001b[0;34m.\u001b[0m\u001b[0mshape\u001b[0m\u001b[0;34m,\u001b[0m \u001b[0mdtype\u001b[0m\u001b[0;34m=\u001b[0m\u001b[0mnp\u001b[0m\u001b[0;34m.\u001b[0m\u001b[0mbool_\u001b[0m\u001b[0;34m)\u001b[0m\u001b[0;34m\u001b[0m\u001b[0;34m\u001b[0m\u001b[0m\n",
      "\u001b[0;31mKeyboardInterrupt\u001b[0m: "
     ]
    }
   ],
   "source": [
    "gscv_params = {\"n_estimators\" : [400,500,600],\n",
    "          # Minimum number of samples required to split a node\n",
    "          \"min_samples_split\" : [2,3,5],\n",
    "          # Minimum number of samples required at each leaf node\n",
    "          \"min_samples_leaf\" : [4,5,6,7],\n",
    "          # Number of features to consider at every split\n",
    "          \"max_features\" : [\"sqrt\"],\n",
    "          # Maximum number of levels in tree\n",
    "          \"max_depth\" : [5,10,25,50],\n",
    "          \"class_weight\":[{0: 0.1, 1: 0.9},{0: 0.2, 1: 0.8},{0: 0.3, 1: 0.7}]\n",
    "              }\n",
    "               \n",
    "gscv_rf = GridSearchCV(RandomForestClassifier(random_state=4), param_grid = gscv_params, scoring=fbeta, cv=3)\n",
    "gscv_rf.fit(X_train_val, y_train_val)\n",
    "gscv_rf.best_params_"
   ]
  },
  {
   "cell_type": "code",
   "execution_count": 176,
   "metadata": {},
   "outputs": [],
   "source": [
    "random_forest = RandomForestClassifier(random_state = 4, n_estimators = gscv_rf.best_params_[\"n_estimators\"],\n",
    "                                       min_samples_split = gscv_rf.best_params_[\"min_samples_split\"], \n",
    "                                       min_samples_leaf = gscv_rf.best_params_[\"min_samples_leaf\"],\n",
    "                                      max_features = gscv_rf.best_params_[\"max_features\"],\n",
    "                                      max_depth = gscv_rf.best_params_[\"max_depth\"],\n",
    "                                      class_weight = gscv_rf.best_params_[\"class_weight\"])\n",
    "\n",
    "random_forest.fit(X_train_val, y_train_val);"
   ]
  },
  {
   "cell_type": "code",
   "execution_count": 193,
   "metadata": {},
   "outputs": [
    {
     "name": "stdout",
     "output_type": "stream",
     "text": [
      "F_2.84 Score: 0.732\n",
      "Recall: 0.995\n",
      "Precision: 0.216\n",
      "ROC AUC: 0.654\n",
      "Accuracy: 0.241\n"
     ]
    },
    {
     "data": {
      "image/png": "[encoded data removed]",
      "text/plain": [
       "<Figure size 432x288 with 1 Axes>"
      ]
     },
     "metadata": {
      "needs_background": "light"
     },
     "output_type": "display_data"
    }
   ],
   "source": [
    "threshold = 0.23\n",
    "y_proba_rf = random_forest.predict_proba(X_validate)[:,1]\n",
    "y_preds_rf = (y_proba_rf > threshold).astype(int)\n",
    "\n",
    "plot_ROC(y_preds_rf, y_proba_rf, y_validate, \"Random Forest ROC Curve\")"
   ]
  },
  {
   "cell_type": "code",
   "execution_count": 202,
   "metadata": {},
   "outputs": [
    {
     "data": {
      "image/png": "[encoded data removed]",
      "text/plain": [
       "<Figure size 432x288 with 2 Axes>"
      ]
     },
     "metadata": {
      "needs_background": "light"
     },
     "output_type": "display_data"
    }
   ],
   "source": [
    "fig = create_confusion_matrix(y_validate, y_preds_rf, \"Random Forest\")\n",
    "plt.savefig(directory + 'Graphs/RF_CM.png',dpi=300);"
   ]
  },
  {
   "cell_type": "markdown",
   "metadata": {},
   "source": [
    "### Logistic Regression has highest FBeta sore\n",
    "Run the model again, now training on entire train + validation set"
   ]
  },
  {
   "cell_type": "code",
   "execution_count": 197,
   "metadata": {},
   "outputs": [],
   "source": [
    "X_train = pd.concat([X_train_val,X_validate])\n",
    "y_train = pd.concat([y_train_val,y_validate])\n",
    "\n",
    "# Scale data for Logistic Regression\n",
    "scaler = StandardScaler()\n",
    "X_train_scaled = scaler.fit_transform(X_train)\n",
    "X_test_scaled = scaler.transform(X_test)"
   ]
  },
  {
   "cell_type": "code",
   "execution_count": 198,
   "metadata": {},
   "outputs": [],
   "source": [
    "logistic_regression = LogisticRegression(random_state=4, class_weight = gsc_lr.best_params_[\"class_weight\"])\n",
    "logistic_regression.fit(X_train_scaled,y_train)\n",
    "\n",
    "threshold = 0.47\n",
    "y_proba_lr = logistic_regression.predict_proba(X_test_scaled)[:,1]\n",
    "\n",
    "y_preds_lr = (y_proba_lr > threshold).astype(int)"
   ]
  },
  {
   "cell_type": "code",
   "execution_count": 199,
   "metadata": {},
   "outputs": [
    {
     "name": "stdout",
     "output_type": "stream",
     "text": [
      "F_2.84 Score: 0.488\n",
      "Recall: 0.996\n",
      "Precision: 0.087\n",
      "ROC AUC: 0.686\n",
      "Accuracy: 0.131\n"
     ]
    },
    {
     "data": {
      "image/png": "[encoded data removed]",
      "text/plain": [
       "<Figure size 432x288 with 1 Axes>"
      ]
     },
     "metadata": {
      "needs_background": "light"
     },
     "output_type": "display_data"
    }
   ],
   "source": [
    "plot_ROC(y_preds_lr, y_proba_lr, y_test, \"Logistic Regression ROC Curve\")"
   ]
  },
  {
   "cell_type": "code",
   "execution_count": 201,
   "metadata": {},
   "outputs": [
    {
     "data": {
      "image/png": "[encoded data removed]",
      "text/plain": [
       "<Figure size 432x288 with 2 Axes>"
      ]
     },
     "metadata": {
      "needs_background": "light"
     },
     "output_type": "display_data"
    }
   ],
   "source": [
    "fig = create_confusion_matrix(y_validate, y_preds_rf, \"Logistic Regression\")\n",
    "plt.savefig(directory + 'Graphs/LR_CM_Final.png',dpi=300);"
   ]
  },
  {
   "cell_type": "markdown",
   "metadata": {},
   "source": [
    "### Interpretation of Logistic Regression Coefficients"
   ]
  },
  {
   "cell_type": "code",
   "execution_count": 204,
   "metadata": {},
   "outputs": [],
   "source": [
    "lr_coef = dict(sorted(zip(X_train.columns,logistic_regression.coef_[0]),key=lambda x: x[1],reverse=False))"
   ]
  },
  {
   "cell_type": "code",
   "execution_count": 205,
   "metadata": {},
   "outputs": [
    {
     "data": {
      "image/png": "[encoded data removed]",
      "text/plain": [
       "<Figure size 432x288 with 1 Axes>"
      ]
     },
     "metadata": {
      "needs_background": "light"
     },
     "output_type": "display_data"
    }
   ],
   "source": [
    "plt.barh(list(lr_coef.keys()),list(lr_coef.values()), \n",
    "         color=((pd.Series(list(lr_coef.values()))>0).map({True:\"tab:blue\",False:\"tab:red\"})))\n",
    "plt.title(\"Logistic Regression Feature Coefficients\",weight=\"bold\")\n",
    "sns.despine(top=True, right=True)\n",
    "plt.savefig(directory + \"/Graphs/LogReg_Coefficients.png\",dpi=300);"
   ]
  },
  {
   "cell_type": "code",
   "execution_count": 207,
   "metadata": {},
   "outputs": [
    {
     "name": "stdout",
     "output_type": "stream",
     "text": [
      "For a one stdev increase in mort_acc_clean, the odds a loan becomes troubled change by: -10.87%\n",
      "\n",
      "For a one stdev increase in total_FICO_avg, the odds a loan becomes troubled change by: -10.50%\n",
      "\n",
      "For a one stdev increase in emp_length, the odds a loan becomes troubled change by: -4.47%\n",
      "\n",
      "For a one stdev increase in is_individual, the odds a loan becomes troubled change by: -3.13%\n",
      "\n",
      "For a one stdev increase in is_medical, the odds a loan becomes troubled change by: -0.66%\n",
      "\n",
      "For a one stdev increase in pub_rec, the odds a loan becomes troubled change by: -0.63%\n",
      "\n",
      "For a one stdev increase in earliest_cr_line_days, the odds a loan becomes troubled change by: 2.41%\n",
      "\n",
      "For a one stdev increase in mths_since_last_delinq_clean, the odds a loan becomes troubled change by: 3.38%\n",
      "\n",
      "For a one stdev increase in delinq_2yrs, the odds a loan becomes troubled change by: 3.74%\n",
      "\n",
      "For a one stdev increase in renter_or_other, the odds a loan becomes troubled change by: 4.97%\n",
      "\n",
      "For a one stdev increase in total_dti, the odds a loan becomes troubled change by: 14.66%\n",
      "\n",
      "For a one stdev increase in inq_last_6mths, the odds a loan becomes troubled change by: 15.60%\n",
      "\n",
      "For a one stdev increase in subgrade_map, the odds a loan becomes troubled change by: 56.49%\n",
      "\n"
     ]
    }
   ],
   "source": [
    "for key in lr_coef:\n",
    "    print(f\"\"\"For a one stdev increase in {key}, the odds a loan becomes charge_off change by: {(math.exp(lr_coef[key])-1)*100:.2f}%\"\"\")\n",
    "    print(\"\")"
   ]
  },
  {
   "cell_type": "markdown",
   "metadata": {},
   "source": [
    "### Testing: Does Using the Model's Predictions Improve Investment Performance?"
   ]
  },
  {
   "cell_type": "code",
   "execution_count": 209,
   "metadata": {},
   "outputs": [],
   "source": [
    "# Add loan id\n",
    "#X_train = train[[\"id\"] + features]\n",
    "X_test = test[[\"id\"] + features]"
   ]
  },
  {
   "cell_type": "code",
   "execution_count": 211,
   "metadata": {},
   "outputs": [],
   "source": [
    "X_test[\"y_preds_lr\"] = y_preds_lr"
   ]
  },
  {
   "cell_type": "code",
   "execution_count": 214,
   "metadata": {
    "scrolled": true
   },
   "outputs": [
    {
     "name": "stdout",
     "output_type": "stream",
     "text": [
      "Number of loans predicted to be troubled: 5469, out of 479 actual troubled\n"
     ]
    }
   ],
   "source": [
    "print(f\"Number of loans predicted to be charge_off: {y_preds_lr.sum()}, out of {y_test.sum()} actual charge_off\")"
   ]
  },
  {
   "cell_type": "code",
   "execution_count": 254,
   "metadata": {},
   "outputs": [],
   "source": [
    "final_status_loans_df_join = final_status_loans_df.join(X_test[[\"id\",\"y_preds_lr\"]].set_index(\"id\"), on=\"id\", rsuffix=\"_test\")"
   ]
  },
  {
   "cell_type": "code",
   "execution_count": 270,
   "metadata": {},
   "outputs": [
    {
     "data": {
      "text/plain": [
       "-0.161742303370489"
      ]
     },
     "execution_count": 270,
     "metadata": {},
     "output_type": "execute_result"
    }
   ],
   "source": [
    "final_status_loans_df[\"total_pymnt_inv\"].sum()/final_status_loans_df[\"funded_amnt_inv\"].sum()"
   ]
  },
  {
   "cell_type": "code",
   "execution_count": 256,
   "metadata": {},
   "outputs": [
    {
     "data": {
      "text/plain": [
       "-26.65383460947047"
      ]
     },
     "execution_count": 256,
     "metadata": {},
     "output_type": "execute_result"
    }
   ],
   "source": [
    "(final_status_loans_df_join[final_status_loans_df_join[\"id\"].isin(X_test[\"id\"])][\"wtd_CAGR\"].sum() /\\\n",
    " final_status_loans_df_join[(final_status_loans_df_join[\"id\"].isin(X_test[\"id\"]))][\"funded_amnt\"].sum())*100"
   ]
  },
  {
   "cell_type": "code",
   "execution_count": 274,
   "metadata": {},
   "outputs": [
    {
     "data": {
      "text/plain": [
       "Current            220\n",
       "Fully Paid          52\n",
       "In Grace Period      4\n",
       "Charged Off          2\n",
       "Name: loan_status, dtype: int64"
      ]
     },
     "execution_count": 274,
     "metadata": {},
     "output_type": "execute_result"
    }
   ],
   "source": [
    "final_status_loans_df_join[(final_status_loans_df_join[\"y_preds_lr\"]==0)][\"loan_status\"].value_counts()"
   ]
  },
  {
   "cell_type": "code",
   "execution_count": null,
   "metadata": {},
   "outputs": [],
   "source": [
    "(final_status_loans_df_join[(final_status_loans_df_join[\"y_preds_lr\"]==0)][\"wtd_CAGR\"].sum()/\\\n",
    "                               final_status_loans_df_join[(final_status_loans_df_join[\"y_preds_lr\"]==0)][\"funded_amnt\"].sum())*100"
   ]
  },
  {
   "cell_type": "code",
   "execution_count": 262,
   "metadata": {},
   "outputs": [
    {
     "name": "stdout",
     "output_type": "stream",
     "text": [
      "CAGR for all small business loans: -7.977\n",
      "CAGR for all SB loans in test set: -26.654\n",
      "CAGR for SB loans model predicted to be untroubled: -26.468\n",
      "Delta between all small bus and model predicted untroubled: -18.491\n",
      "Delta between test loans and model predicted untroubled: 0.186\n"
     ]
    }
   ],
   "source": [
    "# Loan-weighted CAGR by loan purpose\n",
    "final_status_loans_df_join[\"wtd_CAGR\"] = final_status_loans_df_join[\"CAGR\"] * final_status_loans_df_join[\"funded_amnt\"]\n",
    "\n",
    "cagr_all_small = (final_status_loans_df_join[\"wtd_CAGR\"].sum()/final_status_loans_df_join[\"funded_amnt\"].sum())*100\n",
    "\n",
    "cagr_uncharge_off_pred_small = (final_status_loans_df_join[(final_status_loans_df_join[\"y_preds_lr\"]==0)][\"wtd_CAGR\"].sum()/\\\n",
    "                               final_status_loans_df_join[(final_status_loans_df_join[\"y_preds_lr\"]==0)][\"funded_amnt\"].sum())*100\n",
    "\n",
    "cagr_all_test = (final_status_loans_df_join[final_status_loans_df_join[\"id\"].isin(X_test[\"id\"])][\"wtd_CAGR\"].sum()/\\\n",
    "                 final_status_loans_df_join[(final_status_loans_df_join[\"id\"].isin(X_test[\"id\"]))][\"funded_amnt\"].sum())*100\n",
    "\n",
    "# Look at all matured loans\n",
    "print(f\"CAGR for all small business loans: {cagr_all_small:.3f}\")\n",
    "print(f\"CAGR for all SB loans in test set: {cagr_all_test:.3f}\")\n",
    "print(f\"CAGR for SB loans model predicted to be uncharge_off: {cagr_uncharge_off_pred_small:.3f}\")\n",
    "print(f\"Delta between all small bus and model predicted uncharge_off: {cagr_uncharge_off_pred_small-cagr_all_small:.3f}\")\n",
    "print(f\"Delta between test loans and model predicted uncharge_off: {cagr_uncharge_off_pred_small-cagr_all_test:.3f}\")"
   ]
  },
  {
   "cell_type": "code",
   "execution_count": 257,
   "metadata": {},
   "outputs": [
    {
     "name": "stdout",
     "output_type": "stream",
     "text": [
      "CAGR for all small business loans: -0.142\n",
      "CAGR for all SB loans in test set: nan\n"
     ]
    },
    {
     "name": "stderr",
     "output_type": "stream",
     "text": [
      "/Users/erickwalker/opt/anaconda3/lib/python3.7/site-packages/ipykernel_launcher.py:10: RuntimeWarning: invalid value encountered in double_scalars\n",
      "  # Remove the CWD from sys.path while we load stuff.\n",
      "/Users/erickwalker/opt/anaconda3/lib/python3.7/site-packages/ipykernel_launcher.py:15: RuntimeWarning: invalid value encountered in double_scalars\n",
      "  from ipykernel import kernelapp as app\n"
     ]
    },
    {
     "ename": "NameError",
     "evalue": "name 'cagr_untroubled_small' is not defined",
     "output_type": "error",
     "traceback": [
      "\u001b[0;31m---------------------------------------------------------------------------\u001b[0m",
      "\u001b[0;31mNameError\u001b[0m                                 Traceback (most recent call last)",
      "\u001b[0;32m<ipython-input-257-8e6b11cf6bea>\u001b[0m in \u001b[0;36m<module>\u001b[0;34m\u001b[0m\n\u001b[1;32m     18\u001b[0m \u001b[0mprint\u001b[0m\u001b[0;34m(\u001b[0m\u001b[0;34mf\"CAGR for all small business loans: {cagr_all_small:.3f}\"\u001b[0m\u001b[0;34m)\u001b[0m\u001b[0;34m\u001b[0m\u001b[0;34m\u001b[0m\u001b[0m\n\u001b[1;32m     19\u001b[0m \u001b[0mprint\u001b[0m\u001b[0;34m(\u001b[0m\u001b[0;34mf\"CAGR for all SB loans in test set: {cagr_all_test:.3f}\"\u001b[0m\u001b[0;34m)\u001b[0m\u001b[0;34m\u001b[0m\u001b[0;34m\u001b[0m\u001b[0m\n\u001b[0;32m---> 20\u001b[0;31m \u001b[0mprint\u001b[0m\u001b[0;34m(\u001b[0m\u001b[0;34mf\"CAGR for SB loans model predicted to be untroubled: {cagr_untroubled_small:.3f}\"\u001b[0m\u001b[0;34m)\u001b[0m\u001b[0;34m\u001b[0m\u001b[0;34m\u001b[0m\u001b[0m\n\u001b[0m\u001b[1;32m     21\u001b[0m \u001b[0mprint\u001b[0m\u001b[0;34m(\u001b[0m\u001b[0;34mf\"Delta between all small bus and model predicted untroubled: {cagr_untroubled_small-cagr_all_small:.3f}\"\u001b[0m\u001b[0;34m)\u001b[0m\u001b[0;34m\u001b[0m\u001b[0;34m\u001b[0m\u001b[0m\n\u001b[1;32m     22\u001b[0m \u001b[0mprint\u001b[0m\u001b[0;34m(\u001b[0m\u001b[0;34mf\"Delta between test loans and model predicted untroubled: {cagr_untroubled_small-cagr_all_test:.3f}\"\u001b[0m\u001b[0;34m)\u001b[0m\u001b[0;34m\u001b[0m\u001b[0;34m\u001b[0m\u001b[0m\n",
      "\u001b[0;31mNameError\u001b[0m: name 'cagr_untroubled_small' is not defined"
     ]
    }
   ],
   "source": [
    "# Loan-weighted CAGR by loan purpose\n",
    "final_status_loans_df_join[\"wtd_CAGR\"] = final_status_loans_df_join[final_status_loans_df_join[\"term_remaining\"]<=0][\"CAGR\"] *\\\n",
    "                                final_status_loans_df_join[final_status_loans_df_join[\"term_remaining\"]<0][\"funded_amnt\"]\n",
    "\n",
    "cagr_all_small = (final_status_loans_df_join[final_status_loans_df_join[\"term_remaining\"]<=0][\"wtd_CAGR\"].sum() /\\\n",
    "                  final_status_loans_df_join[final_status_loans_df_join[\"term_remaining\"]<=0][\"funded_amnt\"].sum())*100\n",
    "\n",
    "cagr_uncharge_off_pred__small = (final_status_loans_df_join[(final_status_loans_df_join[\"y_preds_lr\"]==0)&(final_status_loans_df_join[\"term_remaining\"]\\\n",
    "                        <=0)][\"wtd_CAGR\"].sum()/final_status_loans_df_join[(final_status_loans_df_join[\"y_preds_lr\"]==0)&\n",
    "                                                                  (final_status_loans_df_join[\"term_remaining\"]<=0)][\"funded_amnt\"].sum())*100\n",
    "\n",
    "cagr_all_test = (final_status_loans_df_join[(final_status_loans_df_join[\"id\"].isin(X_test[\"id\"])) &\n",
    "                                   (final_status_loans_df_join[\"term_remaining\"]<=0)][\"wtd_CAGR\"].sum() /\\\n",
    "                 final_status_loans_df_join[(final_status_loans_df_join[\"id\"].isin(X_test[\"id\"])) & \n",
    "                                   (final_status_loans_df_join[\"term_remaining\"]<=0)][\"funded_amnt\"].sum())*100\n",
    "\n",
    "# Look at all matured loans\n",
    "print(f\"CAGR for all small business loans: {cagr_all_small:.3f}\")\n",
    "print(f\"CAGR for all SB loans in test set: {cagr_all_test:.3f}\")\n",
    "print(f\"CAGR for SB loans model predicted to be uncharge_off: {cagr_uncharge_off_small:.3f}\")\n",
    "print(f\"Delta between all small bus and model predicted uncharge_off: {cagr_uncharge_off_small-cagr_all_small:.3f}\")\n",
    "print(f\"Delta between test loans and model predicted uncharge_off: {cagr_uncharge_off_small-cagr_all_test:.3f}\")"
   ]
  },
  {
   "cell_type": "code",
   "execution_count": 482,
   "metadata": {},
   "outputs": [
    {
     "data": {
      "image/png": "[encoded data removed]",
      "text/plain": [
       "<Figure size 432x288 with 1 Axes>"
      ]
     },
     "metadata": {
      "needs_background": "light"
     },
     "output_type": "display_data"
    }
   ],
   "source": [
    "# Plot return differences\n",
    "plt.bar([\"All SB Loans\", \"Test Set\", \"Model-Selected\"],[cagr_all_small, cagr_all_test, cagr_uncharge_off_small])\n",
    "plt.ylabel(\"CAGR(%)\")\n",
    "plt.title(\"Model vs Broader Group\",weight=\"bold\")\n",
    "plt.axhline(linewidth=1, xmin=0, xmax=1, color='k', linestyle='--')\n",
    "sns.despine(top=True, right=True)\n",
    "plt.savefig(directory + 'Graphs/cagr_comp.png',dpi=300);\n"
   ]
  },
  {
   "cell_type": "code",
   "execution_count": 119,
   "metadata": {},
   "outputs": [
    {
     "name": "stdout",
     "output_type": "stream",
     "text": [
      "Funded amounts, all small business loans: 193137375.0\n",
      "Funded amounts, small business loans approved by classifier: 3777825.0\n",
      "% of Total: 1.956\n"
     ]
    }
   ],
   "source": [
    "small_bus_fa = final_status_loans_df_join[final_status_loans_df_join[\"term_remaining\"]<=0][\"funded_amnt\"].sum()\n",
    "small_bus_approved_fa = final_status_loans_df_join[(final_status_loans_df_join[\"y_pred\"]==0)&(final_status_loans_df_join[\"term_remaining\"]<=0)][\"funded_amnt\"].sum()\n",
    "print(f\"Funded amounts, all small business loans: {small_bus_fa}\")\n",
    "print(f\"Funded amounts, small business loans approved by classifier: {small_bus_approved_fa}\")\n",
    "print(f\"% of Total: {small_bus_approved_fa/small_bus_fa*100:0.3f}\")\n"
   ]
  }
 ],
 "metadata": {
  "kernelspec": {
   "display_name": "Python 3",
   "language": "python",
   "name": "python3"
  },
  "language_info": {
   "codemirror_mode": {
    "name": "ipython",
    "version": 3
   },
   "file_extension": ".py",
   "mimetype": "text/x-python",
   "name": "python",
   "nbconvert_exporter": "python",
   "pygments_lexer": "ipython3",
   "version": "3.7.6"
  }
 },
 "nbformat": 4,
 "nbformat_minor": 4
}
